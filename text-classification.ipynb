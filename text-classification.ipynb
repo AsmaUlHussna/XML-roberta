{
 "cells": [
  {
   "cell_type": "markdown",
   "id": "2369c5a2",
   "metadata": {
    "papermill": {
     "duration": 0.082914,
     "end_time": "2021-08-03T15:22:05.021354",
     "exception": false,
     "start_time": "2021-08-03T15:22:04.938440",
     "status": "completed"
    },
    "tags": []
   },
   "source": [
    "## **0. Introduction**\n",
    "\n",
    "The problem statement here that given some `meta-data` about a recipie (eg: Instructions, cooking time, etc) can we predict what kind of course that may be (eg: Dinner, Side Dish, etc), total 7 different classes.\n",
    "\n",
    "In this kernel we will go thorugh **data analysis**, **feature engineering ideas**, **cleaning and text processing**, **baselining classical ML models (SVM, xgboost) as well as diffeernt BERT models**.\n",
    "\n",
    "Feel free to add any comment.\n",
    "\n",
    "\n",
    "## NOTE: \n",
    "The `TranslatedInstructions` column in the original dataset had both hindi as well as english text. So my frist step to preprocessing was to translate that column into english with the help of gcloud translate. The link of the script is [here](https://github.com/Ascensiony/gcloud-translate-hi-to-en-swiggy)"
   ]
  },
  {
   "cell_type": "markdown",
   "id": "d610cba3",
   "metadata": {
    "papermill": {
     "duration": 0.081312,
     "end_time": "2021-08-03T15:22:05.183765",
     "exception": false,
     "start_time": "2021-08-03T15:22:05.102453",
     "status": "completed"
    },
    "tags": []
   },
   "source": [
    "## **1. Installations & Imports**"
   ]
  },
  {
   "cell_type": "code",
   "execution_count": 1,
   "id": "3fdc12aa",
   "metadata": {
    "execution": {
     "iopub.execute_input": "2021-08-03T15:22:05.362837Z",
     "iopub.status.busy": "2021-08-03T15:22:05.362328Z",
     "iopub.status.idle": "2021-08-03T15:22:39.731171Z",
     "shell.execute_reply": "2021-08-03T15:22:39.730537Z",
     "shell.execute_reply.started": "2021-08-03T12:42:26.707772Z"
    },
    "papermill": {
     "duration": 34.466416,
     "end_time": "2021-08-03T15:22:39.731331",
     "exception": false,
     "start_time": "2021-08-03T15:22:05.264915",
     "status": "completed"
    },
    "tags": []
   },
   "outputs": [
    {
     "name": "stdout",
     "output_type": "stream",
     "text": [
      "\u001b[33mWARNING: Running pip as root will break packages and permissions. You should install packages reliably by using venv: https://pip.pypa.io/warnings/venv\u001b[0m\r\n",
      "\u001b[33mWARNING: Running pip as root will break packages and permissions. You should install packages reliably by using venv: https://pip.pypa.io/warnings/venv\u001b[0m\r\n",
      "\u001b[33mWARNING: Running pip as root will break packages and permissions. You should install packages reliably by using venv: https://pip.pypa.io/warnings/venv\u001b[0m\r\n",
      "\u001b[33mWARNING: Running pip as root will break packages and permissions. You should install packages reliably by using venv: https://pip.pypa.io/warnings/venv\u001b[0m\r\n",
      "\u001b[33mWARNING: Running pip as root will break packages and permissions. You should install packages reliably by using venv: https://pip.pypa.io/warnings/venv\u001b[0m\r\n"
     ]
    }
   ],
   "source": [
    "!pip install gensim --quiet\n",
    "!pip install contractions --quiet\n",
    "!pip install num2words --quiet\n",
    "!pip install transformers==2.5.1 --quiet --no-dependencies\n",
    "!pip install fastai==1.0.58 --quiet --no-dependencies"
   ]
  },
  {
   "cell_type": "code",
   "execution_count": 2,
   "id": "d725516d",
   "metadata": {
    "execution": {
     "iopub.execute_input": "2021-08-03T15:22:39.909191Z",
     "iopub.status.busy": "2021-08-03T15:22:39.908066Z",
     "iopub.status.idle": "2021-08-03T15:22:49.196157Z",
     "shell.execute_reply": "2021-08-03T15:22:49.195553Z",
     "shell.execute_reply.started": "2021-08-03T12:43:09.915553Z"
    },
    "papermill": {
     "duration": 9.381337,
     "end_time": "2021-08-03T15:22:49.196323",
     "exception": false,
     "start_time": "2021-08-03T15:22:39.814986",
     "status": "completed"
    },
    "tags": []
   },
   "outputs": [],
   "source": [
    "import re\n",
    "\n",
    "import numpy as np\n",
    "import pandas as pd\n",
    "\n",
    "import string\n",
    "import random\n",
    "import unidecode\n",
    "from collections import defaultdict\n",
    "from functools import partial\n",
    "\n",
    "import matplotlib.pyplot as plt\n",
    "import seaborn as sns\n",
    "\n",
    "from wordcloud import STOPWORDS\n",
    "\n",
    "import nltk\n",
    "from nltk.stem import PorterStemmer, WordNetLemmatizer\n",
    "\n",
    "from gensim.models import Word2Vec\n",
    "\n",
    "import contractions\n",
    "from num2words import num2words\n",
    "\n",
    "from tqdm import tqdm\n",
    "# from pathlib import Path\n",
    "\n",
    "from sklearn import preprocessing, decomposition, model_selection, metrics, pipeline\n",
    "from sklearn.feature_extraction.text import TfidfVectorizer\n",
    "from sklearn.model_selection import train_test_split\n",
    "from sklearn.naive_bayes import MultinomialNB\n",
    "from sklearn.svm import SVC\n",
    "\n",
    "import xgboost as xgb\n",
    "\n",
    "import torch\n",
    "import torch.optim as optim\n",
    "\n",
    "# fastai\n",
    "from fastai import *\n",
    "from fastai.text import *\n",
    "from fastai.callbacks import *\n",
    "\n",
    "# transformers\n",
    "from transformers import PreTrainedModel, PreTrainedTokenizer, PretrainedConfig\n",
    "from transformers import (\n",
    "    DistilBertForSequenceClassification,\n",
    "    DistilBertTokenizer,\n",
    "    DistilBertConfig,\n",
    "    RobertaForSequenceClassification,\n",
    "    RobertaTokenizer,\n",
    "    RobertaConfig,\n",
    ")\n",
    "from transformers import AdamW\n",
    "\n",
    "import warnings\n",
    "warnings.filterwarnings(\"ignore\")"
   ]
  },
  {
   "cell_type": "markdown",
   "id": "3bc35a47",
   "metadata": {
    "papermill": {
     "duration": 0.08889,
     "end_time": "2021-08-03T15:22:49.372847",
     "exception": false,
     "start_time": "2021-08-03T15:22:49.283957",
     "status": "completed"
    },
    "tags": []
   },
   "source": [
    "## **2. Loading Data**\n",
    "\n",
    "Before we do anything lets seed everything, so that the output is deterministic."
   ]
  },
  {
   "cell_type": "code",
   "execution_count": 3,
   "id": "22c85ade",
   "metadata": {
    "execution": {
     "iopub.execute_input": "2021-08-03T15:22:49.558844Z",
     "iopub.status.busy": "2021-08-03T15:22:49.557906Z",
     "iopub.status.idle": "2021-08-03T15:22:49.561033Z",
     "shell.execute_reply": "2021-08-03T15:22:49.560584Z",
     "shell.execute_reply.started": "2021-08-03T12:43:21.626594Z"
    },
    "papermill": {
     "duration": 0.098023,
     "end_time": "2021-08-03T15:22:49.561166",
     "exception": false,
     "start_time": "2021-08-03T15:22:49.463143",
     "status": "completed"
    },
    "tags": []
   },
   "outputs": [],
   "source": [
    "def seed_all(seed_value):\n",
    "    random.seed(seed_value) # Python\n",
    "    np.random.seed(seed_value) # cpu vars\n",
    "    torch.manual_seed(seed_value) # cpu  vars\n",
    "    \n",
    "    if torch.cuda.is_available(): \n",
    "        torch.cuda.manual_seed(seed_value)\n",
    "        torch.cuda.manual_seed_all(seed_value) # gpu vars\n",
    "        torch.backends.cudnn.deterministic = True  #needed\n",
    "        torch.backends.cudnn.benchmark = False"
   ]
  },
  {
   "cell_type": "code",
   "execution_count": 4,
   "id": "663936c6",
   "metadata": {
    "execution": {
     "iopub.execute_input": "2021-08-03T15:22:49.745315Z",
     "iopub.status.busy": "2021-08-03T15:22:49.744621Z",
     "iopub.status.idle": "2021-08-03T15:22:49.750476Z",
     "shell.execute_reply": "2021-08-03T15:22:49.750056Z",
     "shell.execute_reply.started": "2021-08-03T12:43:21.638786Z"
    },
    "papermill": {
     "duration": 0.099282,
     "end_time": "2021-08-03T15:22:49.750600",
     "exception": false,
     "start_time": "2021-08-03T15:22:49.651318",
     "status": "completed"
    },
    "tags": []
   },
   "outputs": [],
   "source": [
    "seed = 42\n",
    "seed_all(seed)"
   ]
  },
  {
   "cell_type": "code",
   "execution_count": 5,
   "id": "ac9821bd",
   "metadata": {
    "execution": {
     "iopub.execute_input": "2021-08-03T15:22:49.935722Z",
     "iopub.status.busy": "2021-08-03T15:22:49.934931Z",
     "iopub.status.idle": "2021-08-03T15:22:50.318143Z",
     "shell.execute_reply": "2021-08-03T15:22:50.316859Z",
     "shell.execute_reply.started": "2021-08-03T12:43:21.651563Z"
    },
    "papermill": {
     "duration": 0.480091,
     "end_time": "2021-08-03T15:22:50.318285",
     "exception": false,
     "start_time": "2021-08-03T15:22:49.838194",
     "status": "completed"
    },
    "tags": []
   },
   "outputs": [],
   "source": [
    "train_df = pd.read_csv(\"../input/translated-hi-to-en-6000-recipes-dataset/train_translated.csv\")\n",
    "test_df = pd.read_csv(\"../input/translated-hi-to-en-6000-recipes-dataset/test_translated.csv\")"
   ]
  },
  {
   "cell_type": "code",
   "execution_count": 6,
   "id": "32e0fe3b",
   "metadata": {
    "execution": {
     "iopub.execute_input": "2021-08-03T15:22:50.514746Z",
     "iopub.status.busy": "2021-08-03T15:22:50.514115Z",
     "iopub.status.idle": "2021-08-03T15:22:50.518510Z",
     "shell.execute_reply": "2021-08-03T15:22:50.517990Z",
     "shell.execute_reply.started": "2021-08-03T12:43:21.956654Z"
    },
    "papermill": {
     "duration": 0.108666,
     "end_time": "2021-08-03T15:22:50.518631",
     "exception": false,
     "start_time": "2021-08-03T15:22:50.409965",
     "status": "completed"
    },
    "tags": []
   },
   "outputs": [
    {
     "name": "stdout",
     "output_type": "stream",
     "text": [
      "Training Set Shape = (4038, 8)\n",
      "Training Set Memory Usage = 0.25 MB\n",
      "Test Set Shape = (1990, 8)\n",
      "Test Set Memory Usage = 0.12 MB\n"
     ]
    }
   ],
   "source": [
    "print('Training Set Shape = {}'.format(train_df.shape))\n",
    "print('Training Set Memory Usage = {:.2f} MB'.format(train_df.memory_usage().sum() / 1024**2))\n",
    "print('Test Set Shape = {}'.format(test_df.shape))\n",
    "print('Test Set Memory Usage = {:.2f} MB'.format(test_df.memory_usage().sum() / 1024**2))"
   ]
  },
  {
   "cell_type": "markdown",
   "id": "381404d6",
   "metadata": {
    "papermill": {
     "duration": 0.08798,
     "end_time": "2021-08-03T15:22:50.696344",
     "exception": false,
     "start_time": "2021-08-03T15:22:50.608364",
     "status": "completed"
    },
    "tags": []
   },
   "source": [
    "## **3. Analysis and Feature Engineering**"
   ]
  },
  {
   "cell_type": "markdown",
   "id": "28f117aa",
   "metadata": {
    "papermill": {
     "duration": 0.092046,
     "end_time": "2021-08-03T15:22:50.877203",
     "exception": false,
     "start_time": "2021-08-03T15:22:50.785157",
     "status": "completed"
    },
    "tags": []
   },
   "source": [
    "### **3.1 Cardinalty and Target Distribution**"
   ]
  },
  {
   "cell_type": "code",
   "execution_count": 7,
   "id": "a4ae2feb",
   "metadata": {
    "execution": {
     "iopub.execute_input": "2021-08-03T15:22:51.075795Z",
     "iopub.status.busy": "2021-08-03T15:22:51.074945Z",
     "iopub.status.idle": "2021-08-03T15:22:51.701629Z",
     "shell.execute_reply": "2021-08-03T15:22:51.701048Z",
     "shell.execute_reply.started": "2021-08-03T12:43:21.982408Z"
    },
    "papermill": {
     "duration": 0.733845,
     "end_time": "2021-08-03T15:22:51.701754",
     "exception": false,
     "start_time": "2021-08-03T15:22:50.967909",
     "status": "completed"
    },
    "tags": []
   },
   "outputs": [
    {
     "data": {
      "image/png": "[encoded data removed]",
      "text/plain": [
       "<Figure size 1700x400 with 2 Axes>"
      ]
     },
     "metadata": {
      "needs_background": "light"
     },
     "output_type": "display_data"
    }
   ],
   "source": [
    "fig, axes = plt.subplots(ncols=2, figsize=(17, 4), dpi=100)\n",
    "plt.tight_layout()\n",
    "\n",
    "train_df.groupby(\"Course\").count()[\"TranslatedIngredients\"].plot(\n",
    "    kind=\"pie\",\n",
    "    ax=axes[0],\n",
    "    labels=[\n",
    "        \"Dinner\",\n",
    "        \"Snack\",\n",
    "        \"Side Dish\",\n",
    "        \"Lunch\",\n",
    "        \"Appetizer\",\n",
    "        \"Main Course\",\n",
    "        \"Dessert\",\n",
    "    ],\n",
    ")\n",
    "\n",
    "sns.countplot(x=train_df[\"Course\"], hue=train_df[\"Course\"], ax=axes[1])\n",
    "\n",
    "axes[0].set_ylabel(\"\")\n",
    "axes[1].set_ylabel(\"\")\n",
    "axes[1].set_xticklabels(\n",
    "    [\"Dinner\", \"Snack\", \"Side Dish\", \"Lunch\", \"Appetizer\", \"Main Course\", \"Dessert\"]\n",
    ")\n",
    "axes[0].tick_params(axis=\"x\", labelsize=15)\n",
    "axes[0].tick_params(axis=\"y\", labelsize=15)\n",
    "axes[1].tick_params(axis=\"x\", labelsize=15)\n",
    "axes[1].tick_params(axis=\"y\", labelsize=15)\n",
    "\n",
    "axes[0].set_title(\"Target Distribution in Training Set\", fontsize=13)\n",
    "axes[1].set_title(\"Target Count in Training Set\", fontsize=13)\n",
    "\n",
    "plt.show()"
   ]
  },
  {
   "cell_type": "markdown",
   "id": "c5a84753",
   "metadata": {
    "papermill": {
     "duration": 0.102371,
     "end_time": "2021-08-03T15:22:51.897510",
     "exception": false,
     "start_time": "2021-08-03T15:22:51.795139",
     "status": "completed"
    },
    "tags": []
   },
   "source": [
    "### **3.2 Missing Values**\n",
    "Both training and test set have some ratio of missing values in `TranslatedIngredients`.\n",
    "* **3 data points** in `TranslatedIngredients` is missing in training\n",
    "* **2 data points** in `TranslatedIngredients` is missing in test set\n",
    "\n",
    "Missing values in those features are filled with `no_TranslatedIngredients`"
   ]
  },
  {
   "cell_type": "code",
   "execution_count": 8,
   "id": "4e5de945",
   "metadata": {
    "execution": {
     "iopub.execute_input": "2021-08-03T15:22:52.221204Z",
     "iopub.status.busy": "2021-08-03T15:22:52.220330Z",
     "iopub.status.idle": "2021-08-03T15:22:52.240936Z",
     "shell.execute_reply": "2021-08-03T15:22:52.241650Z",
     "shell.execute_reply.started": "2021-08-03T12:43:22.793528Z"
    },
    "papermill": {
     "duration": 0.184921,
     "end_time": "2021-08-03T15:22:52.241852",
     "exception": false,
     "start_time": "2021-08-03T15:22:52.056931",
     "status": "completed"
    },
    "tags": []
   },
   "outputs": [
    {
     "name": "stdout",
     "output_type": "stream",
     "text": [
      "<class 'pandas.core.frame.DataFrame'>\n",
      "RangeIndex: 4038 entries, 0 to 4037\n",
      "Data columns (total 8 columns):\n",
      " #   Column                  Non-Null Count  Dtype \n",
      "---  ------                  --------------  ----- \n",
      " 0   TranslatedRecipeName    4038 non-null   object\n",
      " 1   TranslatedIngredients   4035 non-null   object\n",
      " 2   PrepTimeInMins          4038 non-null   int64 \n",
      " 3   CookTimeInMins          4038 non-null   int64 \n",
      " 4   TotalTimeInMins         4038 non-null   int64 \n",
      " 5   Servings                4038 non-null   int64 \n",
      " 6   Course                  4038 non-null   object\n",
      " 7   TranslatedInstructions  4038 non-null   object\n",
      "dtypes: int64(4), object(4)\n",
      "memory usage: 252.5+ KB\n"
     ]
    }
   ],
   "source": [
    "# Let's check out the missing values with the .info() method\n",
    "train_df.info()"
   ]
  },
  {
   "cell_type": "code",
   "execution_count": 9,
   "id": "30aed38e",
   "metadata": {
    "execution": {
     "iopub.execute_input": "2021-08-03T15:22:52.538594Z",
     "iopub.status.busy": "2021-08-03T15:22:52.537561Z",
     "iopub.status.idle": "2021-08-03T15:22:52.543006Z",
     "shell.execute_reply": "2021-08-03T15:22:52.542492Z",
     "shell.execute_reply.started": "2021-08-03T12:43:22.818519Z"
    },
    "papermill": {
     "duration": 0.147802,
     "end_time": "2021-08-03T15:22:52.543169",
     "exception": false,
     "start_time": "2021-08-03T15:22:52.395367",
     "status": "completed"
    },
    "tags": []
   },
   "outputs": [
    {
     "name": "stdout",
     "output_type": "stream",
     "text": [
      "<class 'pandas.core.frame.DataFrame'>\n",
      "RangeIndex: 1990 entries, 0 to 1989\n",
      "Data columns (total 8 columns):\n",
      " #   Column                  Non-Null Count  Dtype \n",
      "---  ------                  --------------  ----- \n",
      " 0   TranslatedRecipeName    1990 non-null   object\n",
      " 1   TranslatedIngredients   1988 non-null   object\n",
      " 2   PrepTimeInMins          1990 non-null   int64 \n",
      " 3   CookTimeInMins          1990 non-null   int64 \n",
      " 4   TotalTimeInMins         1990 non-null   int64 \n",
      " 5   Servings                1990 non-null   int64 \n",
      " 6   Course                  1990 non-null   object\n",
      " 7   TranslatedInstructions  1990 non-null   object\n",
      "dtypes: int64(4), object(4)\n",
      "memory usage: 124.5+ KB\n"
     ]
    }
   ],
   "source": [
    "test_df.info()"
   ]
  },
  {
   "cell_type": "code",
   "execution_count": 10,
   "id": "c48a9608",
   "metadata": {
    "execution": {
     "iopub.execute_input": "2021-08-03T15:22:52.736237Z",
     "iopub.status.busy": "2021-08-03T15:22:52.735563Z",
     "iopub.status.idle": "2021-08-03T15:22:52.739615Z",
     "shell.execute_reply": "2021-08-03T15:22:52.739036Z",
     "shell.execute_reply.started": "2021-08-03T12:43:22.845432Z"
    },
    "papermill": {
     "duration": 0.102902,
     "end_time": "2021-08-03T15:22:52.739734",
     "exception": false,
     "start_time": "2021-08-03T15:22:52.636832",
     "status": "completed"
    },
    "tags": []
   },
   "outputs": [],
   "source": [
    "for df in [train_df, test_df]:\n",
    "    for col in ['TranslatedIngredients']:\n",
    "        df[col] = df[col].fillna(f'no_{col}')"
   ]
  },
  {
   "cell_type": "markdown",
   "id": "627e5d11",
   "metadata": {
    "papermill": {
     "duration": 0.092392,
     "end_time": "2021-08-03T15:22:52.924150",
     "exception": false,
     "start_time": "2021-08-03T15:22:52.831758",
     "status": "completed"
    },
    "tags": []
   },
   "source": [
    "### **3.3 Feature Engineering**"
   ]
  },
  {
   "cell_type": "code",
   "execution_count": 11,
   "id": "9d4c59de",
   "metadata": {
    "execution": {
     "iopub.execute_input": "2021-08-03T15:22:53.119286Z",
     "iopub.status.busy": "2021-08-03T15:22:53.118648Z",
     "iopub.status.idle": "2021-08-03T15:22:53.122539Z",
     "shell.execute_reply": "2021-08-03T15:22:53.122068Z",
     "shell.execute_reply.started": "2021-08-03T12:43:22.86919Z"
    },
    "papermill": {
     "duration": 0.106999,
     "end_time": "2021-08-03T15:22:53.122646",
     "exception": false,
     "start_time": "2021-08-03T15:22:53.015647",
     "status": "completed"
    },
    "tags": []
   },
   "outputs": [],
   "source": [
    "DINNER = train_df['Course'] == \"Dinner\"\n",
    "SNACK = train_df['Course'] == \"Snack\"\n",
    "SIDEDISH = train_df['Course'] == \"Side Dish\"\n",
    "LUNCH = train_df['Course'] == \"Lunch\"\n",
    "APPETIZER = train_df['Course'] == \"Appetizer\"\n",
    "MAINCOURSE = train_df['Course'] == \"Main Course\"\n",
    "DESSERT = train_df['Course'] == \"Dessert\""
   ]
  },
  {
   "cell_type": "markdown",
   "id": "3861bb62",
   "metadata": {
    "papermill": {
     "duration": 0.089615,
     "end_time": "2021-08-03T15:22:53.304796",
     "exception": false,
     "start_time": "2021-08-03T15:22:53.215181",
     "status": "completed"
    },
    "tags": []
   },
   "source": [
    "#### Meta Features\n",
    "\n",
    "Distributions of meta features in classes and datasets can be helpful to identify what type of `Course` it is.\n",
    "\n",
    "* `word_count` number of words in text\n",
    "* `unique_word_count` number of unique words in text\n",
    "* `stop_word_count` number of stop words in text\n",
    "* `mean_word_length` average character count in words\n",
    "* `char_count` number of characters in text"
   ]
  },
  {
   "cell_type": "code",
   "execution_count": 12,
   "id": "113ffd02",
   "metadata": {
    "execution": {
     "iopub.execute_input": "2021-08-03T15:22:53.564053Z",
     "iopub.status.busy": "2021-08-03T15:22:53.558960Z",
     "iopub.status.idle": "2021-08-03T15:22:55.581608Z",
     "shell.execute_reply": "2021-08-03T15:22:55.582152Z",
     "shell.execute_reply.started": "2021-08-03T12:43:22.90032Z"
    },
    "papermill": {
     "duration": 2.148815,
     "end_time": "2021-08-03T15:22:55.582338",
     "exception": false,
     "start_time": "2021-08-03T15:22:53.433523",
     "status": "completed"
    },
    "tags": []
   },
   "outputs": [],
   "source": [
    "# word_count\n",
    "train_df['word_count'] = train_df['TranslatedInstructions'].apply(lambda x: len(str(x).split()))\n",
    "test_df['word_count'] = test_df['TranslatedInstructions'].apply(lambda x: len(str(x).split()))\n",
    "\n",
    "# unique_word_count\n",
    "train_df['unique_word_count'] = train_df['TranslatedInstructions'].apply(lambda x: len(set(str(x).split())))\n",
    "test_df['unique_word_count'] = test_df['TranslatedInstructions'].apply(lambda x: len(set(str(x).split())))\n",
    "\n",
    "# stop_word_count\n",
    "train_df['stop_word_count'] = train_df['TranslatedInstructions'].apply(lambda x: len([w for w in str(x).lower().split() if w in STOPWORDS]))\n",
    "test_df['stop_word_count'] = test_df['TranslatedInstructions'].apply(lambda x: len([w for w in str(x).lower().split() if w in STOPWORDS]))\n",
    "\n",
    "# mean_word_length\n",
    "train_df['mean_word_length'] = train_df['TranslatedInstructions'].apply(lambda x: np.mean([len(w) for w in str(x).split()]))\n",
    "test_df['mean_word_length'] = test_df['TranslatedInstructions'].apply(lambda x: np.mean([len(w) for w in str(x).split()]))\n",
    "\n",
    "# char_count\n",
    "train_df['char_count'] = train_df['TranslatedInstructions'].apply(lambda x: len(str(x)))\n",
    "test_df['char_count'] = test_df['TranslatedInstructions'].apply(lambda x: len(str(x)))\n",
    "\n",
    "# punctuation_count\n",
    "train_df['punctuation_count'] = train_df['TranslatedInstructions'].apply(lambda x: len([c for c in str(x) if c in string.punctuation]))\n",
    "test_df['punctuation_count'] = test_df['TranslatedInstructions'].apply(lambda x: len([c for c in str(x) if c in string.punctuation]))"
   ]
  },
  {
   "cell_type": "code",
   "execution_count": 13,
   "id": "a4a591be",
   "metadata": {
    "execution": {
     "iopub.execute_input": "2021-08-03T15:22:55.815039Z",
     "iopub.status.busy": "2021-08-03T15:22:55.797176Z",
     "iopub.status.idle": "2021-08-03T15:23:04.266376Z",
     "shell.execute_reply": "2021-08-03T15:23:04.266784Z",
     "shell.execute_reply.started": "2021-08-03T12:43:25.381865Z"
    },
    "papermill": {
     "duration": 8.580133,
     "end_time": "2021-08-03T15:23:04.266930",
     "exception": false,
     "start_time": "2021-08-03T15:22:55.686797",
     "status": "completed"
    },
    "tags": []
   },
   "outputs": [
    {
     "data": {
      "image/png": "[encoded data removed]",
      "text/plain": [
       "<Figure size 2000x5000 with 12 Axes>"
      ]
     },
     "metadata": {
      "needs_background": "light"
     },
     "output_type": "display_data"
    }
   ],
   "source": [
    "METAFEATURES = ['word_count', 'unique_word_count', 'stop_word_count', 'mean_word_length', 'char_count', 'punctuation_count']\n",
    "\n",
    "fig, axes = plt.subplots(ncols=2, nrows=len(METAFEATURES), figsize=(20, 50), dpi=100)\n",
    "\n",
    "for i, feature in enumerate(METAFEATURES):\n",
    "    sns.histplot(train_df.loc[SNACK][feature], label='Snack', ax=axes[i][0], color='green')\n",
    "    sns.histplot(train_df.loc[DINNER][feature], label='Dinner', ax=axes[i][0], color='red')\n",
    "    sns.histplot(train_df.loc[SIDEDISH][feature], label='Side Dish', ax=axes[i][0], color='orange')\n",
    "    sns.histplot(train_df.loc[LUNCH][feature], label='Lunch', ax=axes[i][0], color='cyan')\n",
    "    sns.histplot(train_df.loc[APPETIZER][feature], label='Appetizer', ax=axes[i][0], color='pink')\n",
    "    sns.histplot(train_df.loc[MAINCOURSE][feature], label='Main Course', ax=axes[i][0], color='yellow')\n",
    "    sns.histplot(train_df.loc[DESSERT][feature], label='Dessert', ax=axes[i][0], color='purple')\n",
    "    \n",
    "    sns.histplot(train_df[feature], label='Training', ax=axes[i][1], color='blue')\n",
    "    sns.histplot(test_df[feature], label='Test', ax=axes[i][1],  color='black')\n",
    "    \n",
    "    for j in range(2):\n",
    "        axes[i][j].set_xlabel('')\n",
    "        axes[i][j].tick_params(axis='x', labelsize=12)\n",
    "        axes[i][j].tick_params(axis='y', labelsize=12)\n",
    "        axes[i][j].legend()\n",
    "    \n",
    "    axes[i][0].set_title(f'{feature} Target Distribution in Training Set', fontsize=13)\n",
    "    axes[i][1].set_title(f'{feature} Training & Test Set Distribution', fontsize=13)"
   ]
  },
  {
   "cell_type": "markdown",
   "id": "a7d93a68",
   "metadata": {
    "papermill": {
     "duration": 0.100607,
     "end_time": "2021-08-03T15:23:04.468722",
     "exception": false,
     "start_time": "2021-08-03T15:23:04.368115",
     "status": "completed"
    },
    "tags": []
   },
   "source": [
    "All of the meta features have very similar distributions in training and test set which proves that training and test set are taken from the same sample.\n",
    "\n",
    "All of the meta features have information about `Course` but some of them are not good enough because they have very similar distribution.\n",
    "\n",
    "`punctuation_count` has slightly different distributions for different Courses. Those features might be useful in models."
   ]
  },
  {
   "cell_type": "markdown",
   "id": "50fe5d53",
   "metadata": {
    "papermill": {
     "duration": 0.101449,
     "end_time": "2021-08-03T15:23:04.671364",
     "exception": false,
     "start_time": "2021-08-03T15:23:04.569915",
     "status": "completed"
    },
    "tags": []
   },
   "source": [
    "## **4. Text Cleaning**"
   ]
  },
  {
   "cell_type": "code",
   "execution_count": 14,
   "id": "e1ff5d4a",
   "metadata": {
    "execution": {
     "iopub.execute_input": "2021-08-03T15:23:04.882701Z",
     "iopub.status.busy": "2021-08-03T15:23:04.881878Z",
     "iopub.status.idle": "2021-08-03T15:23:04.884694Z",
     "shell.execute_reply": "2021-08-03T15:23:04.884288Z",
     "shell.execute_reply.started": "2021-08-03T12:43:36.124124Z"
    },
    "papermill": {
     "duration": 0.111073,
     "end_time": "2021-08-03T15:23:04.884807",
     "exception": false,
     "start_time": "2021-08-03T15:23:04.773734",
     "status": "completed"
    },
    "tags": []
   },
   "outputs": [],
   "source": [
    "def clean(text):\n",
    "    # text lowering\n",
    "    text = text.lower()\n",
    "    \n",
    "    # digits to numbers\n",
    "    after_spliting = re.split(\"\\s+|,\", text.strip())\n",
    "    for index in range(len(after_spliting)):\n",
    "        if after_spliting[index] in STOPWORDS:\n",
    "            continue\n",
    "        if after_spliting[index].isdigit():\n",
    "            after_spliting[index] = num2words(after_spliting[index])\n",
    "    text = \" \".join(after_spliting)\n",
    "\n",
    "    # converting any accented characters to ASCII characters\n",
    "    text = unidecode.unidecode(text)\n",
    "    \n",
    "    # expanding contractions\n",
    "    text = contractions.fix(text)\n",
    "    \n",
    "    # Stemming/Lemmatization\n",
    "    tokens = nltk.word_tokenize(text)\n",
    "    #     for index in range(len(tokens)):\n",
    "    # \t\t# stem word to each word\n",
    "    #         stem_word = stemmer.stem(tokens[index])\n",
    "    # \t\t# update tokens list with stem word\n",
    "    #         tokens[index] = stem_word\n",
    "    for index in range(len(tokens)):\n",
    "        # word to each lemma-word\n",
    "        lemma_word = lemma.lemmatize(tokens[index])\n",
    "        # update tokens list with lemma word\n",
    "        tokens[index] = lemma_word\n",
    "    text = \" \".join(tokens)\n",
    "    \n",
    "    # removing and extra spaces\n",
    "    text = re.sub(pattern=r\"\\s+\", repl=\" \", string=text)\n",
    "\n",
    "    return text"
   ]
  },
  {
   "cell_type": "code",
   "execution_count": 15,
   "id": "71872498",
   "metadata": {
    "execution": {
     "iopub.execute_input": "2021-08-03T15:23:05.094426Z",
     "iopub.status.busy": "2021-08-03T15:23:05.093804Z",
     "iopub.status.idle": "2021-08-03T15:23:57.101737Z",
     "shell.execute_reply": "2021-08-03T15:23:57.100899Z",
     "shell.execute_reply.started": "2021-08-03T12:43:36.137826Z"
    },
    "papermill": {
     "duration": 52.116819,
     "end_time": "2021-08-03T15:23:57.101874",
     "exception": false,
     "start_time": "2021-08-03T15:23:04.985055",
     "status": "completed"
    },
    "tags": []
   },
   "outputs": [
    {
     "name": "stderr",
     "output_type": "stream",
     "text": [
      "100%|██████████| 4038/4038 [00:19<00:00, 204.12it/s]\n",
      "100%|██████████| 4038/4038 [00:00<00:00, 4174.95it/s]\n",
      "100%|██████████| 4038/4038 [00:14<00:00, 282.11it/s]\n",
      "100%|██████████| 1990/1990 [00:09<00:00, 220.31it/s]\n",
      "100%|██████████| 1990/1990 [00:00<00:00, 4939.88it/s]\n",
      "100%|██████████| 1990/1990 [00:07<00:00, 266.04it/s]\n"
     ]
    }
   ],
   "source": [
    "lemma = WordNetLemmatizer()\n",
    "# stemmer = PorterStemmer()\n",
    "\n",
    "contractions.add(\"1/2\", \"one half\")\n",
    "contractions.add(\"1/4\", \"one fourth\")\n",
    "contractions.add(\"3/4\", \"three fourth\")\n",
    "\n",
    "tqdm.pandas()\n",
    "train_df['Instructions_cleaned'] = train_df['TranslatedInstructions'].progress_apply(lambda s : clean(s))\n",
    "train_df['RecipeName_cleaned'] = train_df['TranslatedRecipeName'].progress_apply(lambda s : clean(s))\n",
    "train_df['Ingredients_cleaned'] = train_df['TranslatedIngredients'].progress_apply(lambda s : clean(s))\n",
    "\n",
    "test_df['Instructions_cleaned'] = test_df['TranslatedInstructions'].progress_apply(lambda s : clean(s))\n",
    "test_df['RecipeName_cleaned'] = test_df['TranslatedRecipeName'].progress_apply(lambda s : clean(s))\n",
    "test_df['Ingredients_cleaned'] = test_df['TranslatedIngredients'].progress_apply(lambda s : clean(s))"
   ]
  },
  {
   "cell_type": "markdown",
   "id": "04644ff0",
   "metadata": {
    "papermill": {
     "duration": 0.232847,
     "end_time": "2021-08-03T15:23:57.569347",
     "exception": false,
     "start_time": "2021-08-03T15:23:57.336500",
     "status": "completed"
    },
    "tags": []
   },
   "source": [
    "## **4. Models**"
   ]
  },
  {
   "cell_type": "markdown",
   "id": "23306723",
   "metadata": {
    "papermill": {
     "duration": 0.34652,
     "end_time": "2021-08-03T15:23:58.150369",
     "exception": false,
     "start_time": "2021-08-03T15:23:57.803849",
     "status": "completed"
    },
    "tags": []
   },
   "source": [
    "### **Metric**\n",
    "\n",
    "* **Accuracy** measures the fraction of the total sample that is correctly identified\n",
    "* **Precision** measures that out of all the examples predicted as positive, how many are actually positive\n",
    "* **Recall** measures that out of all the actual positives, how many examples were correctly classified as positive by the model\n",
    "* **F1 Score** is the harmonic mean of the **Precision** and **Recall**\n",
    "\n",
    "**Precision**, **Recall** and **F1-Score** are global metrics so they should be calculated on whole training or validation set. `sklearn.metrics.classification_report`, computes those metrics for the given training and validation set."
   ]
  },
  {
   "cell_type": "code",
   "execution_count": 16,
   "id": "23226b96",
   "metadata": {
    "execution": {
     "iopub.execute_input": "2021-08-03T15:23:58.746126Z",
     "iopub.status.busy": "2021-08-03T15:23:58.744451Z",
     "iopub.status.idle": "2021-08-03T15:23:58.746810Z",
     "shell.execute_reply": "2021-08-03T15:23:58.747276Z",
     "shell.execute_reply.started": "2021-08-03T12:44:34.5166Z"
    },
    "papermill": {
     "duration": 0.239985,
     "end_time": "2021-08-03T15:23:58.747426",
     "exception": false,
     "start_time": "2021-08-03T15:23:58.507441",
     "status": "completed"
    },
    "tags": []
   },
   "outputs": [],
   "source": [
    "def multiclass_logloss(actual, predicted, eps=1e-15):\n",
    "    \"\"\"Multi class version of Logarithmic Loss metric.\n",
    "    :param actual: Array containing the actual target classes\n",
    "    :param predicted: Matrix with class predictions, one probability per class\n",
    "    \"\"\"\n",
    "    # Convert 'actual' to a binary array if it's not already:\n",
    "    if len(actual.shape) == 1:\n",
    "        actual2 = np.zeros((actual.shape[0], predicted.shape[1]))\n",
    "        for i, val in enumerate(actual):\n",
    "            actual2[i, val] = 1\n",
    "        actual = actual2\n",
    "\n",
    "    clip = np.clip(predicted, eps, 1 - eps)\n",
    "    rows = actual.shape[0]\n",
    "    vsota = np.sum(actual * np.log(clip))\n",
    "    return -1.0 / rows * vsota"
   ]
  },
  {
   "cell_type": "markdown",
   "id": "fe6d979f",
   "metadata": {
    "papermill": {
     "duration": 0.234251,
     "end_time": "2021-08-03T15:23:59.217311",
     "exception": false,
     "start_time": "2021-08-03T15:23:58.983060",
     "status": "completed"
    },
    "tags": []
   },
   "source": [
    "### **4.1 Classical ML**\n",
    "#### **4.1.2 (Tf-idf) All Features**"
   ]
  },
  {
   "cell_type": "code",
   "execution_count": 17,
   "id": "7d63de73",
   "metadata": {
    "execution": {
     "iopub.execute_input": "2021-08-03T15:23:59.693755Z",
     "iopub.status.busy": "2021-08-03T15:23:59.693024Z",
     "iopub.status.idle": "2021-08-03T15:23:59.696587Z",
     "shell.execute_reply": "2021-08-03T15:23:59.696148Z",
     "shell.execute_reply.started": "2021-08-03T12:44:34.528971Z"
    },
    "papermill": {
     "duration": 0.239528,
     "end_time": "2021-08-03T15:23:59.696703",
     "exception": false,
     "start_time": "2021-08-03T15:23:59.457175",
     "status": "completed"
    },
    "tags": []
   },
   "outputs": [],
   "source": [
    "lbl_enc = preprocessing.LabelEncoder()\n",
    "y = lbl_enc.fit_transform(train_df.Course.values)"
   ]
  },
  {
   "cell_type": "code",
   "execution_count": 18,
   "id": "976da622",
   "metadata": {
    "execution": {
     "iopub.execute_input": "2021-08-03T15:24:00.176123Z",
     "iopub.status.busy": "2021-08-03T15:24:00.175242Z",
     "iopub.status.idle": "2021-08-03T15:24:00.188763Z",
     "shell.execute_reply": "2021-08-03T15:24:00.188336Z",
     "shell.execute_reply.started": "2021-08-03T12:44:34.545885Z"
    },
    "papermill": {
     "duration": 0.258825,
     "end_time": "2021-08-03T15:24:00.188890",
     "exception": false,
     "start_time": "2021-08-03T15:23:59.930065",
     "status": "completed"
    },
    "tags": []
   },
   "outputs": [],
   "source": [
    "xtrain_m, xvalid_m, ytrain_m, yvalid_m = train_test_split(\n",
    "    train_df[\n",
    "        [\n",
    "            \"Instructions_cleaned\",\n",
    "            \"PrepTimeInMins\",\n",
    "            \"CookTimeInMins\",\n",
    "            \"TotalTimeInMins\",\n",
    "            \"Servings\",\n",
    "        ]\n",
    "    ].values,\n",
    "    y,\n",
    "    stratify=y,\n",
    "    random_state=42,\n",
    "    test_size=0.1,\n",
    "    shuffle=True,\n",
    ")\n",
    "\n",
    "xtest_m = test_df[\n",
    "    [\n",
    "        \"Instructions_cleaned\",\n",
    "        \"PrepTimeInMins\",\n",
    "        \"CookTimeInMins\",\n",
    "        \"TotalTimeInMins\",\n",
    "        \"Servings\",\n",
    "    ]\n",
    "].values\n",
    "ytest_m = lbl_enc.transform(test_df.Course)"
   ]
  },
  {
   "cell_type": "code",
   "execution_count": 19,
   "id": "37c4d040",
   "metadata": {
    "execution": {
     "iopub.execute_input": "2021-08-03T15:24:00.679708Z",
     "iopub.status.busy": "2021-08-03T15:24:00.674446Z",
     "iopub.status.idle": "2021-08-03T15:24:08.879143Z",
     "shell.execute_reply": "2021-08-03T15:24:08.880521Z",
     "shell.execute_reply.started": "2021-08-03T12:44:34.571059Z"
    },
    "papermill": {
     "duration": 8.456192,
     "end_time": "2021-08-03T15:24:08.880760",
     "exception": false,
     "start_time": "2021-08-03T15:24:00.424568",
     "status": "completed"
    },
    "tags": []
   },
   "outputs": [],
   "source": [
    "tfv = TfidfVectorizer(\n",
    "    min_df=2,\n",
    "    max_features=None,\n",
    "    analyzer=\"word\",\n",
    "    token_pattern=r\"\\w{1,}\",\n",
    "    ngram_range=(1, 3),\n",
    "    use_idf=1,\n",
    "    smooth_idf=1,\n",
    "    sublinear_tf=1,\n",
    "    stop_words=\"english\",\n",
    ")\n",
    "\n",
    "# Fitting TF-IDF to training\n",
    "tfv.fit(list(xtrain_m[:, 0]))\n",
    "xtrain_tfv_m = tfv.transform(xtrain_m[:, 0])\n",
    "xvalid_tfv_m = tfv.transform(xvalid_m[:, 0])\n",
    "xtest_tfv_m = tfv.transform(xtest_m[:, 0])\n",
    "\n",
    "xtrain_tfv_m = xtrain_tfv_m.toarray()\n",
    "xvalid_tfv_m = xvalid_tfv_m.toarray()\n",
    "xtest_tfv_m = xtest_tfv_m.toarray()\n",
    "\n",
    "xtrain_tfv_m = np.append(xtrain_tfv_m, xtrain_m[:, 1:].tolist(), 1)\n",
    "xvalid_tfv_m = np.append(xvalid_tfv_m, xvalid_m[:, 1:].tolist(), 1)\n",
    "xtest_tfv_m = np.append(xtest_tfv_m, xtest_m[:, 1:].tolist(), 1)"
   ]
  },
  {
   "cell_type": "code",
   "execution_count": 20,
   "id": "df3a47bf",
   "metadata": {
    "execution": {
     "iopub.execute_input": "2021-08-03T15:24:09.599916Z",
     "iopub.status.busy": "2021-08-03T15:24:09.598911Z",
     "iopub.status.idle": "2021-08-03T15:24:26.837346Z",
     "shell.execute_reply": "2021-08-03T15:24:26.838098Z",
     "shell.execute_reply.started": "2021-08-03T12:44:44.156331Z"
    },
    "papermill": {
     "duration": 17.551171,
     "end_time": "2021-08-03T15:24:26.838384",
     "exception": false,
     "start_time": "2021-08-03T15:24:09.287213",
     "status": "completed"
    },
    "tags": []
   },
   "outputs": [],
   "source": [
    "# Apply SVD, I chose 15 components. 10-20 components are good enough for SVM model.\n",
    "svd = decomposition.TruncatedSVD(n_components=15)\n",
    "svd.fit(xtrain_tfv_m)\n",
    "xtrain_svd_m = svd.transform(xtrain_tfv_m)\n",
    "xvalid_svd_m = svd.transform(xvalid_tfv_m)\n",
    "xtest_svd_m = svd.transform(xtest_tfv_m)\n",
    "\n",
    "# Scale the data obtained from SVD. Renaming variable to reuse without scaling.\n",
    "scl = preprocessing.StandardScaler()\n",
    "scl.fit(xtrain_svd_m)\n",
    "xtrain_svd_scl_m = scl.transform(xtrain_svd_m)\n",
    "xvalid_svd_scl_m = scl.transform(xvalid_svd_m)\n",
    "xtest_svd_scl_m = scl.transform(xtest_svd_m)"
   ]
  },
  {
   "cell_type": "code",
   "execution_count": 21,
   "id": "e37fd636",
   "metadata": {
    "execution": {
     "iopub.execute_input": "2021-08-03T15:24:27.360159Z",
     "iopub.status.busy": "2021-08-03T15:24:27.359354Z",
     "iopub.status.idle": "2021-08-03T15:24:30.570892Z",
     "shell.execute_reply": "2021-08-03T15:24:30.570482Z",
     "shell.execute_reply.started": "2021-08-03T12:45:08.700458Z"
    },
    "papermill": {
     "duration": 3.438619,
     "end_time": "2021-08-03T15:24:30.571013",
     "exception": false,
     "start_time": "2021-08-03T15:24:27.132394",
     "status": "completed"
    },
    "tags": []
   },
   "outputs": [
    {
     "name": "stdout",
     "output_type": "stream",
     "text": [
      "logloss: 1.105 \n",
      "Training Acc:0.6018161805173363, Validation Acc:0.594059405940594\n"
     ]
    }
   ],
   "source": [
    "# Fitting a simple SVM\n",
    "clf = SVC(C=0.55, probability=True)\n",
    "clf.fit(xtrain_svd_scl_m, ytrain_m)\n",
    "predictions = clf.predict_proba(xvalid_svd_scl_m)\n",
    "\n",
    "print (\"logloss: %0.3f \" % multiclass_logloss(yvalid_m, predictions))\n",
    "print(f\"Training Acc:{clf.score(xtrain_svd_scl_m, ytrain_m)}, Validation Acc:{clf.score(xvalid_svd_scl_m, yvalid_m)}\")"
   ]
  },
  {
   "cell_type": "code",
   "execution_count": 22,
   "id": "a42eb2ec",
   "metadata": {
    "execution": {
     "iopub.execute_input": "2021-08-03T15:24:31.096585Z",
     "iopub.status.busy": "2021-08-03T15:24:31.095794Z",
     "iopub.status.idle": "2021-08-03T15:24:31.474695Z",
     "shell.execute_reply": "2021-08-03T15:24:31.475363Z",
     "shell.execute_reply.started": "2021-08-03T12:45:12.729032Z"
    },
    "papermill": {
     "duration": 0.689111,
     "end_time": "2021-08-03T15:24:31.475516",
     "exception": false,
     "start_time": "2021-08-03T15:24:30.786405",
     "status": "completed"
    },
    "tags": []
   },
   "outputs": [
    {
     "name": "stdout",
     "output_type": "stream",
     "text": [
      "              precision    recall  f1-score   support\n",
      "\n",
      "   Appetizer       0.52      0.49      0.50       228\n",
      "     Dessert       0.81      0.84      0.83       209\n",
      "      Dinner       0.52      0.22      0.31       274\n",
      "       Lunch       0.56      0.88      0.68       569\n",
      " Main Course       0.57      0.23      0.33        92\n",
      "   Side Dish       0.66      0.41      0.50       339\n",
      "       Snack       0.63      0.68      0.66       279\n",
      "\n",
      "    accuracy                           0.60      1990\n",
      "   macro avg       0.61      0.53      0.54      1990\n",
      "weighted avg       0.60      0.60      0.57      1990\n",
      "\n"
     ]
    }
   ],
   "source": [
    "predictions = clf.predict_proba(xtest_svd_scl_m)\n",
    "print(metrics.classification_report(ytest_m, np.argmax(predictions, axis=1), target_names=lbl_enc.inverse_transform([0, 1, 2, 3, 4, 5, 6])))"
   ]
  },
  {
   "cell_type": "markdown",
   "id": "0289aef2",
   "metadata": {
    "papermill": {
     "duration": 0.215411,
     "end_time": "2021-08-03T15:24:31.905546",
     "exception": false,
     "start_time": "2021-08-03T15:24:31.690135",
     "status": "completed"
    },
    "tags": []
   },
   "source": [
    "### **4.1.3 (Tf-idf) Using Instructions**"
   ]
  },
  {
   "cell_type": "code",
   "execution_count": 23,
   "id": "51e8332f",
   "metadata": {
    "execution": {
     "iopub.execute_input": "2021-08-03T15:24:32.346548Z",
     "iopub.status.busy": "2021-08-03T15:24:32.345635Z",
     "iopub.status.idle": "2021-08-03T15:24:32.355776Z",
     "shell.execute_reply": "2021-08-03T15:24:32.355348Z",
     "shell.execute_reply.started": "2021-08-03T12:45:13.032798Z"
    },
    "papermill": {
     "duration": 0.23441,
     "end_time": "2021-08-03T15:24:32.355884",
     "exception": false,
     "start_time": "2021-08-03T15:24:32.121474",
     "status": "completed"
    },
    "tags": []
   },
   "outputs": [],
   "source": [
    "xtrain, xvalid, ytrain, yvalid = train_test_split(\n",
    "    train_df.Instructions_cleaned.values,\n",
    "    y,\n",
    "    stratify=y,\n",
    "    random_state=42,\n",
    "    test_size=0.1,\n",
    "    shuffle=True,\n",
    ")\n",
    "\n",
    "xtest = test_df[[\"Instructions_cleaned\"]].values.reshape(-1)\n",
    "ytest = lbl_enc.transform(test_df.Course)"
   ]
  },
  {
   "cell_type": "code",
   "execution_count": 24,
   "id": "b5a669a3",
   "metadata": {
    "execution": {
     "iopub.execute_input": "2021-08-03T15:24:32.861093Z",
     "iopub.status.busy": "2021-08-03T15:24:32.840579Z",
     "iopub.status.idle": "2021-08-03T15:24:36.682691Z",
     "shell.execute_reply": "2021-08-03T15:24:36.681979Z",
     "shell.execute_reply.started": "2021-08-03T12:45:13.052987Z"
    },
    "papermill": {
     "duration": 4.112476,
     "end_time": "2021-08-03T15:24:36.682832",
     "exception": false,
     "start_time": "2021-08-03T15:24:32.570356",
     "status": "completed"
    },
    "tags": []
   },
   "outputs": [],
   "source": [
    "tfv = TfidfVectorizer(min_df=2,  max_features=None, analyzer='word',token_pattern=r'\\w{1,}',\n",
    "            ngram_range=(1, 3), use_idf=1, smooth_idf=1,sublinear_tf=1,\n",
    "            stop_words = 'english')\n",
    "\n",
    "tfv.fit(list(xtrain))\n",
    "xtrain_tfv =  tfv.transform(xtrain) \n",
    "xvalid_tfv = tfv.transform(xvalid)\n",
    "xtest_tfv = tfv.transform(xtest)"
   ]
  },
  {
   "cell_type": "code",
   "execution_count": 25,
   "id": "f37a77a6",
   "metadata": {
    "execution": {
     "iopub.execute_input": "2021-08-03T15:24:37.121047Z",
     "iopub.status.busy": "2021-08-03T15:24:37.120125Z",
     "iopub.status.idle": "2021-08-03T15:24:37.160808Z",
     "shell.execute_reply": "2021-08-03T15:24:37.160330Z",
     "shell.execute_reply.started": "2021-08-03T12:45:18.13525Z"
    },
    "papermill": {
     "duration": 0.261564,
     "end_time": "2021-08-03T15:24:37.160982",
     "exception": false,
     "start_time": "2021-08-03T15:24:36.899418",
     "status": "completed"
    },
    "tags": []
   },
   "outputs": [
    {
     "name": "stdout",
     "output_type": "stream",
     "text": [
      "logloss: 2.033 \n"
     ]
    },
    {
     "data": {
      "text/plain": [
       "(0.530820033021464, 0.4207920792079208)"
      ]
     },
     "execution_count": 25,
     "metadata": {},
     "output_type": "execute_result"
    }
   ],
   "source": [
    "# Fitting a simple Naive Bayes on TFIDF\n",
    "clf = MultinomialNB()\n",
    "clf.fit(xtrain_tfv, ytrain)\n",
    "predictions = clf.predict_proba(xvalid_tfv)\n",
    "\n",
    "print (\"logloss: %0.3f \" % multiclass_logloss(yvalid, predictions))\n",
    "clf.score(xtrain_tfv, ytrain), clf.score(xvalid_tfv, yvalid)"
   ]
  },
  {
   "cell_type": "code",
   "execution_count": 26,
   "id": "40395193",
   "metadata": {
    "execution": {
     "iopub.execute_input": "2021-08-03T15:24:37.599999Z",
     "iopub.status.busy": "2021-08-03T15:24:37.599254Z",
     "iopub.status.idle": "2021-08-03T15:24:37.615164Z",
     "shell.execute_reply": "2021-08-03T15:24:37.614738Z",
     "shell.execute_reply.started": "2021-08-03T12:45:18.19088Z"
    },
    "papermill": {
     "duration": 0.236278,
     "end_time": "2021-08-03T15:24:37.615284",
     "exception": false,
     "start_time": "2021-08-03T15:24:37.379006",
     "status": "completed"
    },
    "tags": []
   },
   "outputs": [
    {
     "name": "stdout",
     "output_type": "stream",
     "text": [
      "              precision    recall  f1-score   support\n",
      "\n",
      "   Appetizer       0.77      0.04      0.08       228\n",
      "     Dessert       0.88      0.49      0.63       209\n",
      "      Dinner       0.75      0.02      0.04       274\n",
      "       Lunch       0.35      0.98      0.52       569\n",
      " Main Course       0.00      0.00      0.00        92\n",
      "   Side Dish       0.73      0.02      0.05       339\n",
      "       Snack       0.54      0.49      0.51       279\n",
      "\n",
      "    accuracy                           0.41      1990\n",
      "   macro avg       0.57      0.29      0.26      1990\n",
      "weighted avg       0.58      0.41      0.31      1990\n",
      "\n"
     ]
    }
   ],
   "source": [
    "predictions = clf.predict_proba(xtest_tfv)\n",
    "print(metrics.classification_report(ytest, np.argmax(predictions, axis=1), target_names=lbl_enc.inverse_transform([0, 1, 2, 3, 4, 5, 6])))"
   ]
  },
  {
   "cell_type": "code",
   "execution_count": 27,
   "id": "026744d0",
   "metadata": {
    "execution": {
     "iopub.execute_input": "2021-08-03T15:24:38.056101Z",
     "iopub.status.busy": "2021-08-03T15:24:38.055171Z",
     "iopub.status.idle": "2021-08-03T15:24:38.495248Z",
     "shell.execute_reply": "2021-08-03T15:24:38.496368Z",
     "shell.execute_reply.started": "2021-08-03T12:45:18.217753Z"
    },
    "papermill": {
     "duration": 0.665417,
     "end_time": "2021-08-03T15:24:38.496619",
     "exception": false,
     "start_time": "2021-08-03T15:24:37.831202",
     "status": "completed"
    },
    "tags": []
   },
   "outputs": [],
   "source": [
    "# Apply SVD, I chose 120 components. 120-200 components are good enough for SVM model.\n",
    "svd = decomposition.TruncatedSVD(n_components=12)\n",
    "svd.fit(xtrain_tfv)\n",
    "xtrain_svd = svd.transform(xtrain_tfv)\n",
    "xvalid_svd = svd.transform(xvalid_tfv)\n",
    "xtest_svd = svd.transform(xtest_tfv)\n",
    "\n",
    "# Scale the data obtained from SVD. Renaming variable to reuse without scaling.\n",
    "scl = preprocessing.StandardScaler()\n",
    "scl.fit(xtrain_svd)\n",
    "xtrain_svd_scl = scl.transform(xtrain_svd)\n",
    "xvalid_svd_scl = scl.transform(xvalid_svd)\n",
    "xtest_svd_scl = scl.transform(xtest_svd)"
   ]
  },
  {
   "cell_type": "code",
   "execution_count": 28,
   "id": "7e02c6a8",
   "metadata": {
    "execution": {
     "iopub.execute_input": "2021-08-03T15:24:38.967566Z",
     "iopub.status.busy": "2021-08-03T15:24:38.966824Z",
     "iopub.status.idle": "2021-08-03T15:24:41.917018Z",
     "shell.execute_reply": "2021-08-03T15:24:41.916106Z",
     "shell.execute_reply.started": "2021-08-03T12:45:18.714273Z"
    },
    "papermill": {
     "duration": 3.171653,
     "end_time": "2021-08-03T15:24:41.917216",
     "exception": false,
     "start_time": "2021-08-03T15:24:38.745563",
     "status": "completed"
    },
    "tags": []
   },
   "outputs": [
    {
     "name": "stdout",
     "output_type": "stream",
     "text": [
      "logloss: 1.110 \n",
      "0.6012658227848101 0.5866336633663366\n"
     ]
    }
   ],
   "source": [
    "# Fitting a simple SVM\n",
    "clf = SVC(C=0.55, probability=True)\n",
    "clf.fit(xtrain_svd_scl, ytrain)\n",
    "predictions = clf.predict_proba(xvalid_svd_scl)\n",
    "\n",
    "print (\"logloss: %0.3f \" % multiclass_logloss(yvalid, predictions))\n",
    "print(clf.score(xtrain_svd_scl, ytrain), clf.score(xvalid_svd_scl, yvalid))"
   ]
  },
  {
   "cell_type": "code",
   "execution_count": 29,
   "id": "5c212fa9",
   "metadata": {
    "execution": {
     "iopub.execute_input": "2021-08-03T15:24:42.567556Z",
     "iopub.status.busy": "2021-08-03T15:24:42.566722Z",
     "iopub.status.idle": "2021-08-03T15:24:42.806329Z",
     "shell.execute_reply": "2021-08-03T15:24:42.805870Z",
     "shell.execute_reply.started": "2021-08-03T12:45:22.356117Z"
    },
    "papermill": {
     "duration": 0.528669,
     "end_time": "2021-08-03T15:24:42.806445",
     "exception": false,
     "start_time": "2021-08-03T15:24:42.277776",
     "status": "completed"
    },
    "tags": []
   },
   "outputs": [
    {
     "name": "stdout",
     "output_type": "stream",
     "text": [
      "              precision    recall  f1-score   support\n",
      "\n",
      "   Appetizer       0.50      0.46      0.48       228\n",
      "     Dessert       0.79      0.85      0.82       209\n",
      "      Dinner       0.49      0.22      0.30       274\n",
      "       Lunch       0.54      0.88      0.67       569\n",
      " Main Course       0.52      0.16      0.25        92\n",
      "   Side Dish       0.68      0.36      0.47       339\n",
      "       Snack       0.63      0.66      0.65       279\n",
      "\n",
      "    accuracy                           0.59      1990\n",
      "   macro avg       0.59      0.51      0.52      1990\n",
      "weighted avg       0.59      0.59      0.56      1990\n",
      "\n"
     ]
    }
   ],
   "source": [
    "predictions = clf.predict_proba(xtest_svd_scl)\n",
    "print(metrics.classification_report(ytest, np.argmax(predictions, axis=1), target_names=lbl_enc.inverse_transform([0, 1, 2, 3, 4, 5, 6])))"
   ]
  },
  {
   "cell_type": "code",
   "execution_count": 30,
   "id": "e0f53d8f",
   "metadata": {
    "execution": {
     "iopub.execute_input": "2021-08-03T15:24:43.246795Z",
     "iopub.status.busy": "2021-08-03T15:24:43.246285Z",
     "iopub.status.idle": "2021-08-03T15:24:46.646260Z",
     "shell.execute_reply": "2021-08-03T15:24:46.647094Z",
     "shell.execute_reply.started": "2021-08-03T12:45:22.637518Z"
    },
    "papermill": {
     "duration": 3.624025,
     "end_time": "2021-08-03T15:24:46.647279",
     "exception": false,
     "start_time": "2021-08-03T15:24:43.023254",
     "status": "completed"
    },
    "tags": []
   },
   "outputs": [
    {
     "name": "stdout",
     "output_type": "stream",
     "text": [
      "logloss: 1.1713191699513261, epochs: 223\n",
      "0.6235553109521189 0.5742574257425742\n"
     ]
    }
   ],
   "source": [
    "eval_set = [(xtrain_svd_scl, ytrain), (xvalid_svd_scl, yvalid)]\n",
    "clf = xgb.XGBClassifier(max_depth=2, n_estimators=300, colsample_bytree=0.9,\n",
    "                        subsample=0.5, learning_rate=0.05, use_label_encoder=False, \n",
    "                        tree_method='gpu_hist', gpu_id=0, reg_lambda=1e-4)\n",
    "clf.fit(xtrain_svd_scl, ytrain, eval_set=eval_set, early_stopping_rounds=4, eval_metric=[\"mlogloss\"], verbose=False)\n",
    "predictions = clf.predict_proba(xvalid_svd_scl)\n",
    "\n",
    "results = clf.evals_result()\n",
    "\n",
    "print (f\"logloss: {multiclass_logloss(yvalid, predictions)}, epochs: {len(results['validation_0']['mlogloss'])}\")\n",
    "print(clf.score(xtrain_svd_scl, ytrain), clf.score(xvalid_svd_scl, yvalid))"
   ]
  },
  {
   "cell_type": "code",
   "execution_count": 31,
   "id": "15f1f621",
   "metadata": {
    "execution": {
     "iopub.execute_input": "2021-08-03T15:24:47.092245Z",
     "iopub.status.busy": "2021-08-03T15:24:47.091490Z",
     "iopub.status.idle": "2021-08-03T15:24:47.117300Z",
     "shell.execute_reply": "2021-08-03T15:24:47.118057Z",
     "shell.execute_reply.started": "2021-08-03T12:45:28.249652Z"
    },
    "papermill": {
     "duration": 0.251063,
     "end_time": "2021-08-03T15:24:47.118240",
     "exception": false,
     "start_time": "2021-08-03T15:24:46.867177",
     "status": "completed"
    },
    "tags": []
   },
   "outputs": [
    {
     "name": "stdout",
     "output_type": "stream",
     "text": [
      "              precision    recall  f1-score   support\n",
      "\n",
      "   Appetizer       0.47      0.46      0.47       228\n",
      "     Dessert       0.82      0.81      0.81       209\n",
      "      Dinner       0.46      0.22      0.30       274\n",
      "       Lunch       0.54      0.85      0.66       569\n",
      " Main Course       0.39      0.16      0.23        92\n",
      "   Side Dish       0.69      0.36      0.47       339\n",
      "       Snack       0.60      0.70      0.64       279\n",
      "\n",
      "    accuracy                           0.58      1990\n",
      "   macro avg       0.57      0.51      0.51      1990\n",
      "weighted avg       0.58      0.58      0.55      1990\n",
      "\n"
     ]
    }
   ],
   "source": [
    "predictions = clf.predict_proba(xtest_svd_scl)\n",
    "print(metrics.classification_report(ytest, np.argmax(predictions, axis=1), target_names=lbl_enc.inverse_transform([0, 1, 2, 3, 4, 5, 6])))"
   ]
  },
  {
   "cell_type": "markdown",
   "id": "d48f732f",
   "metadata": {
    "papermill": {
     "duration": 0.218294,
     "end_time": "2021-08-03T15:24:47.556628",
     "exception": false,
     "start_time": "2021-08-03T15:24:47.338334",
     "status": "completed"
    },
    "tags": []
   },
   "source": [
    "### **4.1.4 Word2Vec**"
   ]
  },
  {
   "cell_type": "code",
   "execution_count": 32,
   "id": "b8f27e97",
   "metadata": {
    "execution": {
     "iopub.execute_input": "2021-08-03T15:24:48.045794Z",
     "iopub.status.busy": "2021-08-03T15:24:48.030445Z",
     "iopub.status.idle": "2021-08-03T15:25:53.825617Z",
     "shell.execute_reply": "2021-08-03T15:25:53.825128Z",
     "shell.execute_reply.started": "2021-08-03T12:45:28.29111Z"
    },
    "papermill": {
     "duration": 66.052306,
     "end_time": "2021-08-03T15:25:53.825761",
     "exception": false,
     "start_time": "2021-08-03T15:24:47.773455",
     "status": "completed"
    },
    "tags": []
   },
   "outputs": [],
   "source": [
    "instructions_vec = [nltk.word_tokenize(instruction) for instruction in train_df.Instructions_cleaned.values]\n",
    "instructions_test_vec = [nltk.word_tokenize(instruction) for instruction in test_df.Instructions_cleaned.values]\n",
    "model = Word2Vec(instructions_vec, sg=1, vector_size=300, window=15, min_count=1, workers=4)\n",
    "w2v = dict(zip(model.wv.index_to_key, model.wv.vectors))"
   ]
  },
  {
   "cell_type": "code",
   "execution_count": 33,
   "id": "2117cbc7",
   "metadata": {
    "execution": {
     "iopub.execute_input": "2021-08-03T15:25:54.267487Z",
     "iopub.status.busy": "2021-08-03T15:25:54.266735Z",
     "iopub.status.idle": "2021-08-03T15:25:54.269570Z",
     "shell.execute_reply": "2021-08-03T15:25:54.269144Z",
     "shell.execute_reply.started": "2021-08-03T12:46:49.816288Z"
    },
    "papermill": {
     "duration": 0.226328,
     "end_time": "2021-08-03T15:25:54.269688",
     "exception": false,
     "start_time": "2021-08-03T15:25:54.043360",
     "status": "completed"
    },
    "tags": []
   },
   "outputs": [],
   "source": [
    "# this function creates a normalized vector for the whole sentence\n",
    "def sent2vec_with_w2v(s):\n",
    "    words = nltk.word_tokenize(s)\n",
    "    M = []\n",
    "    for w in words:\n",
    "        try:\n",
    "            M.append(w2v[w])\n",
    "        except:\n",
    "            continue\n",
    "    M = np.array(M)\n",
    "    v = M.sum(axis=0)\n",
    "    if type(v) != np.ndarray:\n",
    "        return np.zeros(300)\n",
    "    return v / np.sqrt((v ** 2).sum())"
   ]
  },
  {
   "cell_type": "code",
   "execution_count": 34,
   "id": "3e95ac32",
   "metadata": {
    "execution": {
     "iopub.execute_input": "2021-08-03T15:25:54.710905Z",
     "iopub.status.busy": "2021-08-03T15:25:54.710157Z",
     "iopub.status.idle": "2021-08-03T15:26:10.435674Z",
     "shell.execute_reply": "2021-08-03T15:26:10.434912Z",
     "shell.execute_reply.started": "2021-08-03T12:46:49.83288Z"
    },
    "papermill": {
     "duration": 15.949602,
     "end_time": "2021-08-03T15:26:10.435887",
     "exception": false,
     "start_time": "2021-08-03T15:25:54.486285",
     "status": "completed"
    },
    "tags": []
   },
   "outputs": [],
   "source": [
    "xtrain_w2v = np.array([sent2vec_with_w2v(x) for x in xtrain])\n",
    "xvalid_w2v = np.array([sent2vec_with_w2v(x) for x in xvalid])\n",
    "xtest_w2v = np.array([sent2vec_with_w2v(x) for x in xtest])"
   ]
  },
  {
   "cell_type": "code",
   "execution_count": 35,
   "id": "1d7982bb",
   "metadata": {
    "execution": {
     "iopub.execute_input": "2021-08-03T15:26:11.030931Z",
     "iopub.status.busy": "2021-08-03T15:26:11.029773Z",
     "iopub.status.idle": "2021-08-03T15:26:11.142022Z",
     "shell.execute_reply": "2021-08-03T15:26:11.143517Z",
     "shell.execute_reply.started": "2021-08-03T12:47:05.407485Z"
    },
    "papermill": {
     "duration": 0.364509,
     "end_time": "2021-08-03T15:26:11.143796",
     "exception": false,
     "start_time": "2021-08-03T15:26:10.779287",
     "status": "completed"
    },
    "tags": []
   },
   "outputs": [],
   "source": [
    "# Apply SVD, I chose 30 components. 20-40 components are good enough for SVM model.\n",
    "svd = decomposition.TruncatedSVD(n_components=30)\n",
    "svd.fit(xtrain_w2v)\n",
    "xtrain_svd = svd.transform(xtrain_w2v)\n",
    "xvalid_svd = svd.transform(xvalid_w2v)\n",
    "xtest_svd = svd.transform(xtest_w2v)\n",
    "\n",
    "# Scale the data obtained from SVD. Renaming variable to reuse without scaling.\n",
    "scl = preprocessing.StandardScaler()\n",
    "scl.fit(xtrain_svd)\n",
    "xtrain_svd_scl = scl.transform(xtrain_svd)\n",
    "xvalid_svd_scl = scl.transform(xvalid_svd)\n",
    "xtest_svd_scl = scl.transform(xtest_svd)"
   ]
  },
  {
   "cell_type": "code",
   "execution_count": 36,
   "id": "a2acac98",
   "metadata": {
    "execution": {
     "iopub.execute_input": "2021-08-03T15:26:11.700713Z",
     "iopub.status.busy": "2021-08-03T15:26:11.699695Z",
     "iopub.status.idle": "2021-08-03T15:26:17.574015Z",
     "shell.execute_reply": "2021-08-03T15:26:17.573509Z",
     "shell.execute_reply.started": "2021-08-03T12:47:05.550222Z"
    },
    "papermill": {
     "duration": 6.128423,
     "end_time": "2021-08-03T15:26:17.574174",
     "exception": false,
     "start_time": "2021-08-03T15:26:11.445751",
     "status": "completed"
    },
    "tags": []
   },
   "outputs": [
    {
     "name": "stdout",
     "output_type": "stream",
     "text": [
      "logloss: 1.046 \n",
      "0.6986791414419372 0.6138613861386139\n"
     ]
    }
   ],
   "source": [
    "# Fitting a simple SVM\n",
    "clf = SVC(C=0.55, degree=1, kernel=\"rbf\", probability=True) # since we need probabilities\n",
    "clf.fit(xtrain_svd_scl, ytrain)\n",
    "predictions = clf.predict_proba(xvalid_svd_scl)\n",
    "\n",
    "print (\"logloss: %0.3f \" % multiclass_logloss(yvalid, predictions))\n",
    "print(clf.score(xtrain_svd_scl, ytrain), clf.score(xvalid_svd_scl, yvalid))"
   ]
  },
  {
   "cell_type": "code",
   "execution_count": 37,
   "id": "545a4705",
   "metadata": {
    "execution": {
     "iopub.execute_input": "2021-08-03T15:26:18.053069Z",
     "iopub.status.busy": "2021-08-03T15:26:18.051929Z",
     "iopub.status.idle": "2021-08-03T15:26:18.466431Z",
     "shell.execute_reply": "2021-08-03T15:26:18.466953Z",
     "shell.execute_reply.started": "2021-08-03T12:47:11.790148Z"
    },
    "papermill": {
     "duration": 0.657151,
     "end_time": "2021-08-03T15:26:18.467140",
     "exception": false,
     "start_time": "2021-08-03T15:26:17.809989",
     "status": "completed"
    },
    "tags": []
   },
   "outputs": [
    {
     "name": "stdout",
     "output_type": "stream",
     "text": [
      "              precision    recall  f1-score   support\n",
      "\n",
      "   Appetizer       0.56      0.54      0.55       228\n",
      "     Dessert       0.83      0.85      0.84       209\n",
      "      Dinner       0.54      0.23      0.32       274\n",
      "       Lunch       0.56      0.87      0.68       569\n",
      " Main Course       0.47      0.23      0.31        92\n",
      "   Side Dish       0.67      0.44      0.53       339\n",
      "       Snack       0.68      0.72      0.70       279\n",
      "\n",
      "    accuracy                           0.62      1990\n",
      "   macro avg       0.62      0.55      0.56      1990\n",
      "weighted avg       0.62      0.62      0.59      1990\n",
      "\n"
     ]
    }
   ],
   "source": [
    "predictions = clf.predict_proba(xtest_svd_scl)\n",
    "print(metrics.classification_report(ytest, np.argmax(predictions, axis=1), target_names=lbl_enc.inverse_transform([0, 1, 2, 3, 4, 5, 6])))"
   ]
  },
  {
   "cell_type": "code",
   "execution_count": 38,
   "id": "ae33c1d1",
   "metadata": {
    "execution": {
     "iopub.execute_input": "2021-08-03T15:26:18.946613Z",
     "iopub.status.busy": "2021-08-03T15:26:18.944790Z",
     "iopub.status.idle": "2021-08-03T15:26:19.393662Z",
     "shell.execute_reply": "2021-08-03T15:26:19.394590Z",
     "shell.execute_reply.started": "2021-08-03T12:47:12.177417Z"
    },
    "papermill": {
     "duration": 0.691274,
     "end_time": "2021-08-03T15:26:19.394785",
     "exception": false,
     "start_time": "2021-08-03T15:26:18.703511",
     "status": "completed"
    },
    "tags": []
   },
   "outputs": [
    {
     "name": "stdout",
     "output_type": "stream",
     "text": [
      "logloss: 1.1987302799635373, epochs: 66\n",
      "0.6496973032471106 0.5767326732673267\n"
     ]
    }
   ],
   "source": [
    "eval_set = [(xtrain_svd_scl, ytrain), (xvalid_svd_scl, yvalid)]\n",
    "clf = xgb.XGBClassifier(max_depth=2, n_estimators=100, colsample_bytree=0.8,\n",
    "                        subsample=0.2, learning_rate=0.2, use_label_encoder=False, \n",
    "                        tree_method='gpu_hist', gpu_id=0, reg_lambda=1e-5)\n",
    "clf.fit(xtrain_svd_scl, ytrain, eval_set=eval_set, early_stopping_rounds=10, eval_metric=[\"mlogloss\"], verbose=False)\n",
    "predictions = clf.predict_proba(xvalid_svd_scl)\n",
    "\n",
    "results = clf.evals_result()\n",
    "\n",
    "print (f\"logloss: {multiclass_logloss(yvalid, predictions)}, epochs: {len(results['validation_0']['mlogloss'])}\")\n",
    "print(clf.score(xtrain_svd_scl, ytrain), clf.score(xvalid_svd_scl, yvalid))"
   ]
  },
  {
   "cell_type": "code",
   "execution_count": 39,
   "id": "d952f986",
   "metadata": {
    "execution": {
     "iopub.execute_input": "2021-08-03T15:26:19.883136Z",
     "iopub.status.busy": "2021-08-03T15:26:19.882297Z",
     "iopub.status.idle": "2021-08-03T15:26:19.899893Z",
     "shell.execute_reply": "2021-08-03T15:26:19.900392Z",
     "shell.execute_reply.started": "2021-08-03T12:47:12.818101Z"
    },
    "papermill": {
     "duration": 0.263431,
     "end_time": "2021-08-03T15:26:19.900538",
     "exception": false,
     "start_time": "2021-08-03T15:26:19.637107",
     "status": "completed"
    },
    "tags": []
   },
   "outputs": [
    {
     "name": "stdout",
     "output_type": "stream",
     "text": [
      "              precision    recall  f1-score   support\n",
      "\n",
      "   Appetizer       0.52      0.44      0.48       228\n",
      "     Dessert       0.77      0.81      0.79       209\n",
      "      Dinner       0.41      0.22      0.29       274\n",
      "       Lunch       0.52      0.84      0.64       569\n",
      " Main Course       0.42      0.14      0.21        92\n",
      "   Side Dish       0.60      0.34      0.44       339\n",
      "       Snack       0.64      0.66      0.65       279\n",
      "\n",
      "    accuracy                           0.56      1990\n",
      "   macro avg       0.55      0.49      0.50      1990\n",
      "weighted avg       0.56      0.56      0.54      1990\n",
      "\n"
     ]
    }
   ],
   "source": [
    "predictions = clf.predict_proba(xtest_svd_scl)\n",
    "print(metrics.classification_report(ytest, np.argmax(predictions, axis=1), target_names=lbl_enc.inverse_transform([0, 1, 2, 3, 4, 5, 6])))"
   ]
  },
  {
   "cell_type": "code",
   "execution_count": 40,
   "id": "07480be4",
   "metadata": {
    "execution": {
     "iopub.execute_input": "2021-08-03T15:26:20.393413Z",
     "iopub.status.busy": "2021-08-03T15:26:20.391952Z",
     "iopub.status.idle": "2021-08-03T15:26:20.394307Z",
     "shell.execute_reply": "2021-08-03T15:26:20.394713Z",
     "shell.execute_reply.started": "2021-08-03T12:47:12.847679Z"
    },
    "papermill": {
     "duration": 0.250289,
     "end_time": "2021-08-03T15:26:20.394847",
     "exception": false,
     "start_time": "2021-08-03T15:26:20.144558",
     "status": "completed"
    },
    "tags": []
   },
   "outputs": [],
   "source": [
    "# fig, ax = plt.subplots()\n",
    "\n",
    "# epochs = len(results['validation_0']['mlogloss'])\n",
    "# x_axis = range(0, epochs)\n",
    "\n",
    "# ax.plot(x_axis, results['validation_0']['mlogloss'], label='Train')\n",
    "# ax.plot(x_axis, results['validation_1']['mlogloss'], label='Test')\n",
    "# ax.legend()\n",
    "# plt.ylabel('Log Loss')\n",
    "# plt.title('XGBoost Log Loss')\n",
    "# plt.show()"
   ]
  },
  {
   "cell_type": "markdown",
   "id": "6661973d",
   "metadata": {
    "papermill": {
     "duration": 0.239885,
     "end_time": "2021-08-03T15:26:20.872265",
     "exception": false,
     "start_time": "2021-08-03T15:26:20.632380",
     "status": "completed"
    },
    "tags": []
   },
   "source": [
    "## **4.2 Deep Learning Models**"
   ]
  },
  {
   "cell_type": "markdown",
   "id": "d4dbd317",
   "metadata": {
    "papermill": {
     "duration": 0.320721,
     "end_time": "2021-08-03T15:26:21.591469",
     "exception": false,
     "start_time": "2021-08-03T15:26:21.270748",
     "status": "completed"
    },
    "tags": []
   },
   "source": [
    "## **4.2.1 DistilBert**"
   ]
  },
  {
   "cell_type": "code",
   "execution_count": 41,
   "id": "7c3cd5cb",
   "metadata": {
    "execution": {
     "iopub.execute_input": "2021-08-03T15:26:22.078412Z",
     "iopub.status.busy": "2021-08-03T15:26:22.077287Z",
     "iopub.status.idle": "2021-08-03T15:26:22.080499Z",
     "shell.execute_reply": "2021-08-03T15:26:22.079975Z",
     "shell.execute_reply.started": "2021-08-03T12:47:12.855909Z"
    },
    "papermill": {
     "duration": 0.252525,
     "end_time": "2021-08-03T15:26:22.080640",
     "exception": false,
     "start_time": "2021-08-03T15:26:21.828115",
     "status": "completed"
    },
    "tags": []
   },
   "outputs": [],
   "source": [
    "MODEL_CLASSES = {\n",
    "    'roberta': (RobertaForSequenceClassification, RobertaTokenizer, RobertaConfig),\n",
    "    'distilbert': (DistilBertForSequenceClassification, DistilBertTokenizer, DistilBertConfig)\n",
    "}"
   ]
  },
  {
   "cell_type": "code",
   "execution_count": 42,
   "id": "86ff3e40",
   "metadata": {
    "execution": {
     "iopub.execute_input": "2021-08-03T15:26:22.565637Z",
     "iopub.status.busy": "2021-08-03T15:26:22.564843Z",
     "iopub.status.idle": "2021-08-03T15:26:22.567848Z",
     "shell.execute_reply": "2021-08-03T15:26:22.567337Z",
     "shell.execute_reply.started": "2021-08-03T12:47:12.870559Z"
    },
    "papermill": {
     "duration": 0.24662,
     "end_time": "2021-08-03T15:26:22.567983",
     "exception": false,
     "start_time": "2021-08-03T15:26:22.321363",
     "status": "completed"
    },
    "tags": []
   },
   "outputs": [],
   "source": [
    "# Parameters\n",
    "use_fp16 = False\n",
    "bs = 32\n",
    "\n",
    "model_type = 'distilbert'\n",
    "pretrained_model_name = 'distilbert-base-uncased'"
   ]
  },
  {
   "cell_type": "code",
   "execution_count": 43,
   "id": "4285e13f",
   "metadata": {
    "execution": {
     "iopub.execute_input": "2021-08-03T15:26:23.055368Z",
     "iopub.status.busy": "2021-08-03T15:26:23.054527Z",
     "iopub.status.idle": "2021-08-03T15:26:23.056705Z",
     "shell.execute_reply": "2021-08-03T15:26:23.057158Z",
     "shell.execute_reply.started": "2021-08-03T12:47:12.881831Z"
    },
    "papermill": {
     "duration": 0.247361,
     "end_time": "2021-08-03T15:26:23.057293",
     "exception": false,
     "start_time": "2021-08-03T15:26:22.809932",
     "status": "completed"
    },
    "tags": []
   },
   "outputs": [],
   "source": [
    "model_class, tokenizer_class, config_class = MODEL_CLASSES[model_type]"
   ]
  },
  {
   "cell_type": "code",
   "execution_count": 44,
   "id": "9f16ed5c",
   "metadata": {
    "execution": {
     "iopub.execute_input": "2021-08-03T15:26:23.546616Z",
     "iopub.status.busy": "2021-08-03T15:26:23.545890Z",
     "iopub.status.idle": "2021-08-03T15:26:23.549467Z",
     "shell.execute_reply": "2021-08-03T15:26:23.548915Z",
     "shell.execute_reply.started": "2021-08-03T12:47:12.894639Z"
    },
    "papermill": {
     "duration": 0.250385,
     "end_time": "2021-08-03T15:26:23.549581",
     "exception": false,
     "start_time": "2021-08-03T15:26:23.299196",
     "status": "completed"
    },
    "tags": []
   },
   "outputs": [
    {
     "data": {
      "text/plain": [
       "dict_keys(['distilbert-base-uncased', 'distilbert-base-uncased-distilled-squad', 'distilbert-base-cased', 'distilbert-base-cased-distilled-squad', 'distilbert-base-german-cased', 'distilbert-base-multilingual-cased', 'distilbert-base-uncased-finetuned-sst-2-english'])"
      ]
     },
     "execution_count": 44,
     "metadata": {},
     "output_type": "execute_result"
    }
   ],
   "source": [
    "model_class.pretrained_model_archive_map.keys()"
   ]
  },
  {
   "cell_type": "code",
   "execution_count": 45,
   "id": "9f5f7db4",
   "metadata": {
    "execution": {
     "iopub.execute_input": "2021-08-03T15:26:24.042530Z",
     "iopub.status.busy": "2021-08-03T15:26:24.041535Z",
     "iopub.status.idle": "2021-08-03T15:26:24.043973Z",
     "shell.execute_reply": "2021-08-03T15:26:24.044525Z",
     "shell.execute_reply.started": "2021-08-03T12:47:12.908523Z"
    },
    "papermill": {
     "duration": 0.254911,
     "end_time": "2021-08-03T15:26:24.044679",
     "exception": false,
     "start_time": "2021-08-03T15:26:23.789768",
     "status": "completed"
    },
    "tags": []
   },
   "outputs": [],
   "source": [
    "class TransformersBaseTokenizer(BaseTokenizer):\n",
    "    \"\"\"Wrapper around PreTrainedTokenizer to be compatible with fast.ai\"\"\"\n",
    "    def __init__(self, pretrained_tokenizer: PreTrainedTokenizer, model_type = 'bert', **kwargs):\n",
    "        self._pretrained_tokenizer = pretrained_tokenizer\n",
    "        self.max_seq_len = pretrained_tokenizer.max_len\n",
    "        self.model_type = model_type\n",
    "\n",
    "    def __call__(self, *args, **kwargs): \n",
    "        return self\n",
    "\n",
    "    def tokenizer(self, t:str) -> List[str]:\n",
    "        \"\"\"Limits the maximum sequence length and add the spesial tokens\"\"\"\n",
    "        CLS = self._pretrained_tokenizer.cls_token\n",
    "        SEP = self._pretrained_tokenizer.sep_token\n",
    "        if self.model_type in ['roberta']:\n",
    "            tokens = self._pretrained_tokenizer.tokenize(t, add_prefix_space=True)[:self.max_seq_len - 2]\n",
    "            tokens = [CLS] + tokens + [SEP]\n",
    "        else:\n",
    "            tokens = self._pretrained_tokenizer.tokenize(t)[:self.max_seq_len - 2]\n",
    "            if self.model_type in ['xlnet']:\n",
    "                tokens = tokens + [SEP] +  [CLS]\n",
    "            else:\n",
    "                tokens = [CLS] + tokens + [SEP]\n",
    "        return tokens"
   ]
  },
  {
   "cell_type": "code",
   "execution_count": 46,
   "id": "50540bee",
   "metadata": {
    "execution": {
     "iopub.execute_input": "2021-08-03T15:26:24.530781Z",
     "iopub.status.busy": "2021-08-03T15:26:24.529833Z",
     "iopub.status.idle": "2021-08-03T15:26:25.597305Z",
     "shell.execute_reply": "2021-08-03T15:26:25.596819Z",
     "shell.execute_reply.started": "2021-08-03T12:47:12.92286Z"
    },
    "papermill": {
     "duration": 1.311269,
     "end_time": "2021-08-03T15:26:25.597432",
     "exception": false,
     "start_time": "2021-08-03T15:26:24.286163",
     "status": "completed"
    },
    "tags": []
   },
   "outputs": [
    {
     "data": {
      "application/vnd.jupyter.widget-view+json": {
       "model_id": "9f89f8cf32bd4978b7430525d50d59b6",
       "version_major": 2,
       "version_minor": 0
      },
      "text/plain": [
       "Downloading:   0%|          | 0.00/232k [00:00<?, ?B/s]"
      ]
     },
     "metadata": {},
     "output_type": "display_data"
    }
   ],
   "source": [
    "transformer_tokenizer = tokenizer_class.from_pretrained(pretrained_model_name)\n",
    "transformer_base_tokenizer = TransformersBaseTokenizer(pretrained_tokenizer = transformer_tokenizer, model_type = model_type)\n",
    "fastai_tokenizer = Tokenizer(tok_func = transformer_base_tokenizer, pre_rules=[], post_rules=[])"
   ]
  },
  {
   "cell_type": "code",
   "execution_count": 47,
   "id": "4e5bcf0e",
   "metadata": {
    "execution": {
     "iopub.execute_input": "2021-08-03T15:26:26.070853Z",
     "iopub.status.busy": "2021-08-03T15:26:26.070170Z",
     "iopub.status.idle": "2021-08-03T15:26:26.073445Z",
     "shell.execute_reply": "2021-08-03T15:26:26.073022Z",
     "shell.execute_reply.started": "2021-08-03T12:47:14.247116Z"
    },
    "papermill": {
     "duration": 0.250963,
     "end_time": "2021-08-03T15:26:26.073559",
     "exception": false,
     "start_time": "2021-08-03T15:26:25.822596",
     "status": "completed"
    },
    "tags": []
   },
   "outputs": [],
   "source": [
    "class TransformersVocab(Vocab):\n",
    "    def __init__(self, tokenizer: PreTrainedTokenizer):\n",
    "        super(TransformersVocab, self).__init__(itos = [])\n",
    "        self.tokenizer = tokenizer\n",
    "    \n",
    "    def numericalize(self, t:Collection[str]) -> List[int]:\n",
    "        \"Convert a list of tokens `t` to their ids.\"\n",
    "        return self.tokenizer.convert_tokens_to_ids(t)\n",
    "        #return self.tokenizer.encode(t)\n",
    "\n",
    "    def textify(self, nums:Collection[int], sep=' ') -> List[str]:\n",
    "        \"Convert a list of `nums` to their tokens.\"\n",
    "        nums = np.array(nums).tolist()\n",
    "        return sep.join(self.tokenizer.convert_ids_to_tokens(nums)) if sep is not None else self.tokenizer.convert_ids_to_tokens(nums)\n",
    "    \n",
    "    def __getstate__(self):\n",
    "        return {'itos':self.itos, 'tokenizer':self.tokenizer}\n",
    "\n",
    "    def __setstate__(self, state:dict):\n",
    "        self.itos = state['itos']\n",
    "        self.tokenizer = state['tokenizer']\n",
    "        self.stoi = collections.defaultdict(int,{v:k for k,v in enumerate(self.itos)})"
   ]
  },
  {
   "cell_type": "code",
   "execution_count": 48,
   "id": "f45a3d40",
   "metadata": {
    "execution": {
     "iopub.execute_input": "2021-08-03T15:26:26.528517Z",
     "iopub.status.busy": "2021-08-03T15:26:26.527617Z",
     "iopub.status.idle": "2021-08-03T15:26:26.530334Z",
     "shell.execute_reply": "2021-08-03T15:26:26.529883Z",
     "shell.execute_reply.started": "2021-08-03T12:47:14.25914Z"
    },
    "papermill": {
     "duration": 0.231921,
     "end_time": "2021-08-03T15:26:26.530455",
     "exception": false,
     "start_time": "2021-08-03T15:26:26.298534",
     "status": "completed"
    },
    "tags": []
   },
   "outputs": [],
   "source": [
    "transformer_vocab =  TransformersVocab(tokenizer = transformer_tokenizer)\n",
    "numericalize_processor = NumericalizeProcessor(vocab=transformer_vocab)\n",
    "\n",
    "tokenize_processor = TokenizeProcessor(tokenizer=fastai_tokenizer, include_bos=False, include_eos=False)\n",
    "\n",
    "transformer_processor = [tokenize_processor, numericalize_processor]"
   ]
  },
  {
   "cell_type": "code",
   "execution_count": 49,
   "id": "d9785544",
   "metadata": {
    "execution": {
     "iopub.execute_input": "2021-08-03T15:26:26.983263Z",
     "iopub.status.busy": "2021-08-03T15:26:26.982467Z",
     "iopub.status.idle": "2021-08-03T15:26:26.985327Z",
     "shell.execute_reply": "2021-08-03T15:26:26.984759Z",
     "shell.execute_reply.started": "2021-08-03T12:47:14.27259Z"
    },
    "papermill": {
     "duration": 0.231015,
     "end_time": "2021-08-03T15:26:26.985443",
     "exception": false,
     "start_time": "2021-08-03T15:26:26.754428",
     "status": "completed"
    },
    "tags": []
   },
   "outputs": [],
   "source": [
    "pad_first = bool(model_type in ['xlnet'])\n",
    "pad_idx = transformer_tokenizer.pad_token_id"
   ]
  },
  {
   "cell_type": "code",
   "execution_count": 50,
   "id": "da22fc28",
   "metadata": {
    "execution": {
     "iopub.execute_input": "2021-08-03T15:26:27.459491Z",
     "iopub.status.busy": "2021-08-03T15:26:27.458416Z",
     "iopub.status.idle": "2021-08-03T15:26:27.463233Z",
     "shell.execute_reply": "2021-08-03T15:26:27.463759Z",
     "shell.execute_reply.started": "2021-08-03T12:47:14.284883Z"
    },
    "papermill": {
     "duration": 0.237227,
     "end_time": "2021-08-03T15:26:27.463911",
     "exception": false,
     "start_time": "2021-08-03T15:26:27.226684",
     "status": "completed"
    },
    "tags": []
   },
   "outputs": [
    {
     "name": "stdout",
     "output_type": "stream",
     "text": [
      "['sal', '##ut', 'c', 'est', 'moi', ',', 'hello', 'it', 's', 'me']\n",
      "[16183, 4904, 1039, 9765, 25175, 1010, 7592, 2009, 1055, 2033]\n"
     ]
    },
    {
     "data": {
      "text/plain": [
       "['sal', '##ut', 'c', 'est', 'moi', ',', 'hello', 'it', 's', 'me']"
      ]
     },
     "execution_count": 50,
     "metadata": {},
     "output_type": "execute_result"
    }
   ],
   "source": [
    "tokens = transformer_tokenizer.tokenize('Salut c est moi, Hello it s me')\n",
    "print(tokens)\n",
    "ids = transformer_tokenizer.convert_tokens_to_ids(tokens)\n",
    "print(ids)\n",
    "transformer_tokenizer.convert_ids_to_tokens(ids)"
   ]
  },
  {
   "cell_type": "code",
   "execution_count": 51,
   "id": "8d702919",
   "metadata": {
    "execution": {
     "iopub.execute_input": "2021-08-03T15:26:27.922050Z",
     "iopub.status.busy": "2021-08-03T15:26:27.921004Z",
     "iopub.status.idle": "2021-08-03T15:27:16.951447Z",
     "shell.execute_reply": "2021-08-03T15:27:16.951942Z",
     "shell.execute_reply.started": "2021-08-03T12:47:14.305466Z"
    },
    "papermill": {
     "duration": 49.261488,
     "end_time": "2021-08-03T15:27:16.952161",
     "exception": false,
     "start_time": "2021-08-03T15:26:27.690673",
     "status": "completed"
    },
    "tags": []
   },
   "outputs": [
    {
     "data": {
      "text/html": [],
      "text/plain": [
       "<IPython.core.display.HTML object>"
      ]
     },
     "metadata": {},
     "output_type": "display_data"
    },
    {
     "data": {
      "text/html": [],
      "text/plain": [
       "<IPython.core.display.HTML object>"
      ]
     },
     "metadata": {},
     "output_type": "display_data"
    },
    {
     "data": {
      "text/html": [],
      "text/plain": [
       "<IPython.core.display.HTML object>"
      ]
     },
     "metadata": {},
     "output_type": "display_data"
    }
   ],
   "source": [
    "databunch = (TextList.from_df(train_df, cols=['Instructions_cleaned'], processor=transformer_processor)\n",
    "             .split_by_rand_pct(0.1, seed=seed)\n",
    "             .label_from_df(cols='Course')\n",
    "             .add_test(test_df)\n",
    "             .databunch(bs=bs, pad_first=pad_first, pad_idx=pad_idx))"
   ]
  },
  {
   "cell_type": "code",
   "execution_count": 52,
   "id": "321063a0",
   "metadata": {
    "execution": {
     "iopub.execute_input": "2021-08-03T15:27:17.476310Z",
     "iopub.status.busy": "2021-08-03T15:27:17.474769Z",
     "iopub.status.idle": "2021-08-03T15:27:26.371823Z",
     "shell.execute_reply": "2021-08-03T15:27:26.370994Z",
     "shell.execute_reply.started": "2021-08-03T12:48:15.304857Z"
    },
    "papermill": {
     "duration": 9.143022,
     "end_time": "2021-08-03T15:27:26.371960",
     "exception": false,
     "start_time": "2021-08-03T15:27:17.228938",
     "status": "completed"
    },
    "tags": []
   },
   "outputs": [
    {
     "name": "stdout",
     "output_type": "stream",
     "text": [
      "[CLS] token : [CLS]\n",
      "[SEP] token : [SEP]\n",
      "[PAD] token : [PAD]\n"
     ]
    },
    {
     "data": {
      "text/html": [
       "<table border=\"1\" class=\"dataframe\">\n",
       "  <thead>\n",
       "    <tr style=\"text-align: right;\">\n",
       "      <th>text</th>\n",
       "      <th>target</th>\n",
       "    </tr>\n",
       "  </thead>\n",
       "  <tbody>\n",
       "    <tr>\n",
       "      <td>[CLS] to begin making the pr ##aw ##n mas ##ala ko ##zh ##uka ##tta ##i recipe - pr ##aw ##n mas ##ala dump ##ling prep all the ingredient and keep them ready . heat oil in a heavy bottom ##ed pan over medium heat . add the mustard seed dry red chill ##i ( broken ) curry leaf and allow it to crack ##le . add the ginger garlic and</td>\n",
       "      <td>Appetizer</td>\n",
       "    </tr>\n",
       "    <tr>\n",
       "      <td>[CLS] to begin making the vegetable tar ##tle ##t first for the crust pre ##hea ##t the oven to one hundred and ninety degree ce ##lc ##ius . to make the tar ##tle ##t crust add maid ##a and butter in a mixing bowl or the bowl of a food processor . rub with your finger ##tip till the mixture resembles bread ##cr ##umb ( or pulse 2 - 3</td>\n",
       "      <td>Dinner</td>\n",
       "    </tr>\n",
       "    <tr>\n",
       "      <td>[CLS] to begin making the ga ##jar hal ##wa shot make the bas ##und ##i ( ra ##bri ) recipe ( a nut ##ty condensed milk pudding ) and easy ga ##jar hal ##wa recipe with k ##ho ##ya made in a pressure cooke ##r before hand and keep it ready . * for the bas ##und ##i / ra ##bri to begin making the bas ##und ##i recipe we</td>\n",
       "      <td>Dessert</td>\n",
       "    </tr>\n",
       "    <tr>\n",
       "      <td>[CLS] to begin making the chicken ke ##ema sam ##osa recipe place the flour g ##hee salt and aj ##wai ##n in the food processor . add little water at a time and make a firm and yet smooth dough . divide the dough into large lemon size portion . cover the dough and keep aside . in the same food processor jar attach the chopper blade . add the</td>\n",
       "      <td>Appetizer</td>\n",
       "    </tr>\n",
       "    <tr>\n",
       "      <td>[CLS] to begin making the creamy mushroom mini pie recipe get all the ingredient ready and make the pie crust according to the ` ` short crust tar ##t pastry dough ' ' recipe . ref ##ri ##ger ##ate the pie dough for a couple of hours . while the pie dough is ref ##ri ##ger ##ating we will proceed to make the mushroom pie filling . to make the</td>\n",
       "      <td>Snack</td>\n",
       "    </tr>\n",
       "  </tbody>\n",
       "</table>"
      ],
      "text/plain": [
       "<IPython.core.display.HTML object>"
      ]
     },
     "metadata": {},
     "output_type": "display_data"
    }
   ],
   "source": [
    "print('[CLS] token :', transformer_tokenizer.cls_token)\n",
    "print('[SEP] token :', transformer_tokenizer.sep_token)\n",
    "print('[PAD] token :', transformer_tokenizer.pad_token)\n",
    "databunch.show_batch()"
   ]
  },
  {
   "cell_type": "code",
   "execution_count": 53,
   "id": "ff68189d",
   "metadata": {
    "execution": {
     "iopub.execute_input": "2021-08-03T15:27:26.867160Z",
     "iopub.status.busy": "2021-08-03T15:27:26.866376Z",
     "iopub.status.idle": "2021-08-03T15:27:28.086885Z",
     "shell.execute_reply": "2021-08-03T15:27:28.087337Z",
     "shell.execute_reply.started": "2021-08-03T12:48:25.849187Z"
    },
    "papermill": {
     "duration": 1.471683,
     "end_time": "2021-08-03T15:27:28.087500",
     "exception": false,
     "start_time": "2021-08-03T15:27:26.615817",
     "status": "completed"
    },
    "tags": []
   },
   "outputs": [
    {
     "name": "stdout",
     "output_type": "stream",
     "text": [
      "[CLS] id : 101\n",
      "[SEP] id : 102\n",
      "[PAD] id : 0\n",
      "Batch shape :  torch.Size([32, 512])\n",
      "tensor([[  101,  2000,  4088,  ..., 14192,  6090,   102],\n",
      "        [  101,  2000,  4088,  ...,  1996,  3514,   102],\n",
      "        [  101,  2000,  4088,  ...,  3089,  4590,   102],\n",
      "        ...,\n",
      "        [  101,  2000,  4088,  ...,  2633,  5435,   102],\n",
      "        [  101,  2000,  4088,  ...,  3684,  1037,   102],\n",
      "        [  101,  2000,  4088,  ..., 16020,  2063,   102]])\n"
     ]
    }
   ],
   "source": [
    "print('[CLS] id :', transformer_tokenizer.cls_token_id)\n",
    "print('[SEP] id :', transformer_tokenizer.sep_token_id)\n",
    "print('[PAD] id :', pad_idx)\n",
    "test_one_batch = databunch.one_batch()[0]\n",
    "print('Batch shape : ',test_one_batch.shape)\n",
    "print(test_one_batch)"
   ]
  },
  {
   "cell_type": "code",
   "execution_count": 54,
   "id": "06ddffdf",
   "metadata": {
    "execution": {
     "iopub.execute_input": "2021-08-03T15:27:28.582766Z",
     "iopub.status.busy": "2021-08-03T15:27:28.581935Z",
     "iopub.status.idle": "2021-08-03T15:27:28.585823Z",
     "shell.execute_reply": "2021-08-03T15:27:28.585343Z",
     "shell.execute_reply.started": "2021-08-03T12:48:27.170224Z"
    },
    "papermill": {
     "duration": 0.257308,
     "end_time": "2021-08-03T15:27:28.585954",
     "exception": false,
     "start_time": "2021-08-03T15:27:28.328646",
     "status": "completed"
    },
    "tags": []
   },
   "outputs": [],
   "source": [
    "# defining our model architecture \n",
    "class CustomTransformerModel(nn.Module):\n",
    "    def __init__(self, transformer_model: PreTrainedModel):\n",
    "        super(CustomTransformerModel,self).__init__()\n",
    "        self.transformer = transformer_model\n",
    "        \n",
    "    def forward(self, input_ids, attention_mask=None):\n",
    "        \n",
    "        # attention_mask\n",
    "        # Mask to avoid performing attention on padding token indices.\n",
    "        # Mask values selected in ``[0, 1]``:\n",
    "        # ``1`` for tokens that are NOT MASKED, ``0`` for MASKED tokens.\n",
    "        attention_mask = (input_ids!=pad_idx).type(input_ids.type()) \n",
    "        \n",
    "        logits = self.transformer(input_ids, attention_mask = attention_mask)[0]   \n",
    "        return logits"
   ]
  },
  {
   "cell_type": "code",
   "execution_count": 55,
   "id": "7e3a60a4",
   "metadata": {
    "execution": {
     "iopub.execute_input": "2021-08-03T15:27:29.081294Z",
     "iopub.status.busy": "2021-08-03T15:27:29.080711Z",
     "iopub.status.idle": "2021-08-03T15:27:29.880540Z",
     "shell.execute_reply": "2021-08-03T15:27:29.879563Z",
     "shell.execute_reply.started": "2021-08-03T12:48:27.182915Z"
    },
    "papermill": {
     "duration": 1.047636,
     "end_time": "2021-08-03T15:27:29.880674",
     "exception": false,
     "start_time": "2021-08-03T15:27:28.833038",
     "status": "completed"
    },
    "tags": []
   },
   "outputs": [
    {
     "data": {
      "application/vnd.jupyter.widget-view+json": {
       "model_id": "9052d3bbf2a64f34924464b7e3310b1d",
       "version_major": 2,
       "version_minor": 0
      },
      "text/plain": [
       "Downloading:   0%|          | 0.00/442 [00:00<?, ?B/s]"
      ]
     },
     "metadata": {},
     "output_type": "display_data"
    }
   ],
   "source": [
    "config = config_class.from_pretrained(pretrained_model_name)\n",
    "config.num_labels = 7\n",
    "config.use_bfloat16 = use_fp16\n",
    "# print(config)"
   ]
  },
  {
   "cell_type": "code",
   "execution_count": 56,
   "id": "649a46da",
   "metadata": {
    "execution": {
     "iopub.execute_input": "2021-08-03T15:27:30.378383Z",
     "iopub.status.busy": "2021-08-03T15:27:30.376531Z",
     "iopub.status.idle": "2021-08-03T15:27:41.311676Z",
     "shell.execute_reply": "2021-08-03T15:27:41.311209Z",
     "shell.execute_reply.started": "2021-08-03T12:48:28.147359Z"
    },
    "papermill": {
     "duration": 11.185451,
     "end_time": "2021-08-03T15:27:41.311809",
     "exception": false,
     "start_time": "2021-08-03T15:27:30.126358",
     "status": "completed"
    },
    "tags": []
   },
   "outputs": [
    {
     "data": {
      "application/vnd.jupyter.widget-view+json": {
       "model_id": "04ea8e0659a7476ba8c57c432f4c6f53",
       "version_major": 2,
       "version_minor": 0
      },
      "text/plain": [
       "Downloading:   0%|          | 0.00/268M [00:00<?, ?B/s]"
      ]
     },
     "metadata": {},
     "output_type": "display_data"
    }
   ],
   "source": [
    "transformer_model = model_class.from_pretrained(pretrained_model_name, config = config)\n",
    "# transformer_model = model_class.from_pretrained(pretrained_model_name, num_labels = 7)\n",
    "\n",
    "custom_transformer_model = CustomTransformerModel(transformer_model = transformer_model)"
   ]
  },
  {
   "cell_type": "code",
   "execution_count": 57,
   "id": "102b7f57",
   "metadata": {
    "execution": {
     "iopub.execute_input": "2021-08-03T15:27:41.831109Z",
     "iopub.status.busy": "2021-08-03T15:27:41.829963Z",
     "iopub.status.idle": "2021-08-03T15:27:41.922981Z",
     "shell.execute_reply": "2021-08-03T15:27:41.922454Z",
     "shell.execute_reply.started": "2021-08-03T12:48:41.415082Z"
    },
    "papermill": {
     "duration": 0.36451,
     "end_time": "2021-08-03T15:27:41.923131",
     "exception": false,
     "start_time": "2021-08-03T15:27:41.558621",
     "status": "completed"
    },
    "tags": []
   },
   "outputs": [],
   "source": [
    "CustomAdamW = partial(AdamW, correct_bias=False)\n",
    "\n",
    "learner = Learner(databunch, \n",
    "                  custom_transformer_model, \n",
    "                  opt_func = CustomAdamW, \n",
    "                  metrics=[accuracy, error_rate])\n",
    "\n",
    "# Show graph of learner stats and metrics after each epoch.\n",
    "learner.callbacks.append(ShowGraph(learner))\n",
    "\n",
    "# Put learn in FP16 precision mode. --> Seems to not working\n",
    "if use_fp16: learner = learner.to_fp16()"
   ]
  },
  {
   "cell_type": "code",
   "execution_count": 58,
   "id": "e81b757c",
   "metadata": {
    "execution": {
     "iopub.execute_input": "2021-08-03T15:27:42.425169Z",
     "iopub.status.busy": "2021-08-03T15:27:42.424139Z",
     "iopub.status.idle": "2021-08-03T15:27:42.426743Z",
     "shell.execute_reply": "2021-08-03T15:27:42.427191Z",
     "shell.execute_reply.started": "2021-08-03T12:48:41.499163Z"
    },
    "papermill": {
     "duration": 0.256322,
     "end_time": "2021-08-03T15:27:42.427350",
     "exception": false,
     "start_time": "2021-08-03T15:27:42.171028",
     "status": "completed"
    },
    "tags": []
   },
   "outputs": [],
   "source": [
    "learner_dict = {0:'Appetizer', 1:'Dessert', 2:'Dinner', 3:'Lunch', 4:'Main Course', 5:'Side Dish', 6:'Snack'}"
   ]
  },
  {
   "cell_type": "code",
   "execution_count": 59,
   "id": "5fae10bb",
   "metadata": {
    "execution": {
     "iopub.execute_input": "2021-08-03T15:27:43.038673Z",
     "iopub.status.busy": "2021-08-03T15:27:43.037843Z",
     "iopub.status.idle": "2021-08-03T15:27:43.040624Z",
     "shell.execute_reply": "2021-08-03T15:27:43.040181Z",
     "shell.execute_reply.started": "2021-08-03T12:48:41.508596Z"
    },
    "papermill": {
     "duration": 0.275107,
     "end_time": "2021-08-03T15:27:43.040739",
     "exception": false,
     "start_time": "2021-08-03T15:27:42.765632",
     "status": "completed"
    },
    "tags": []
   },
   "outputs": [],
   "source": [
    "# print(learner.model)"
   ]
  },
  {
   "cell_type": "code",
   "execution_count": 60,
   "id": "bd1c48f5",
   "metadata": {
    "execution": {
     "iopub.execute_input": "2021-08-03T15:27:43.540388Z",
     "iopub.status.busy": "2021-08-03T15:27:43.539438Z",
     "iopub.status.idle": "2021-08-03T15:27:43.542229Z",
     "shell.execute_reply": "2021-08-03T15:27:43.541752Z",
     "shell.execute_reply.started": "2021-08-03T12:48:41.521426Z"
    },
    "papermill": {
     "duration": 0.257541,
     "end_time": "2021-08-03T15:27:43.542353",
     "exception": false,
     "start_time": "2021-08-03T15:27:43.284812",
     "status": "completed"
    },
    "tags": []
   },
   "outputs": [],
   "source": [
    "# For DistilBERT\n",
    "list_layers = [learner.model.transformer.distilbert.embeddings,\n",
    "               learner.model.transformer.distilbert.transformer.layer[0],\n",
    "               learner.model.transformer.distilbert.transformer.layer[1],\n",
    "               learner.model.transformer.distilbert.transformer.layer[2],\n",
    "               learner.model.transformer.distilbert.transformer.layer[3],\n",
    "               learner.model.transformer.distilbert.transformer.layer[4],\n",
    "               learner.model.transformer.distilbert.transformer.layer[5],\n",
    "               learner.model.transformer.pre_classifier]"
   ]
  },
  {
   "cell_type": "code",
   "execution_count": 61,
   "id": "4f40be32",
   "metadata": {
    "execution": {
     "iopub.execute_input": "2021-08-03T15:27:44.068307Z",
     "iopub.status.busy": "2021-08-03T15:27:44.054151Z",
     "iopub.status.idle": "2021-08-03T15:27:44.071525Z",
     "shell.execute_reply": "2021-08-03T15:27:44.071893Z",
     "shell.execute_reply.started": "2021-08-03T12:48:41.535915Z"
    },
    "papermill": {
     "duration": 0.285514,
     "end_time": "2021-08-03T15:27:44.072035",
     "exception": false,
     "start_time": "2021-08-03T15:27:43.786521",
     "status": "completed"
    },
    "tags": []
   },
   "outputs": [
    {
     "name": "stdout",
     "output_type": "stream",
     "text": [
      "Learner split in 8 groups\n"
     ]
    }
   ],
   "source": [
    "learner.split(list_layers)\n",
    "num_groups = len(learner.layer_groups)\n",
    "print('Learner split in',num_groups,'groups')\n",
    "# print(learner.layer_groups)"
   ]
  },
  {
   "cell_type": "code",
   "execution_count": 62,
   "id": "ef475b59",
   "metadata": {
    "execution": {
     "iopub.execute_input": "2021-08-03T15:27:44.569126Z",
     "iopub.status.busy": "2021-08-03T15:27:44.568153Z",
     "iopub.status.idle": "2021-08-03T15:27:44.571356Z",
     "shell.execute_reply": "2021-08-03T15:27:44.570845Z",
     "shell.execute_reply.started": "2021-08-03T12:48:41.580441Z"
    },
    "papermill": {
     "duration": 0.255174,
     "end_time": "2021-08-03T15:27:44.571485",
     "exception": false,
     "start_time": "2021-08-03T15:27:44.316311",
     "status": "completed"
    },
    "tags": []
   },
   "outputs": [],
   "source": [
    "learner.freeze_to(-1)"
   ]
  },
  {
   "cell_type": "code",
   "execution_count": 63,
   "id": "0f6cfa3e",
   "metadata": {
    "execution": {
     "iopub.execute_input": "2021-08-03T15:27:45.066696Z",
     "iopub.status.busy": "2021-08-03T15:27:45.066119Z",
     "iopub.status.idle": "2021-08-03T15:28:03.409229Z",
     "shell.execute_reply": "2021-08-03T15:28:03.408700Z",
     "shell.execute_reply.started": "2021-08-03T12:48:41.594399Z"
    },
    "papermill": {
     "duration": 18.590985,
     "end_time": "2021-08-03T15:28:03.409411",
     "exception": false,
     "start_time": "2021-08-03T15:27:44.818426",
     "status": "completed"
    },
    "tags": []
   },
   "outputs": [
    {
     "data": {
      "text/html": [
       "\n",
       "    <div>\n",
       "        <style>\n",
       "            /* Turns off some styling */\n",
       "            progress {\n",
       "                /* gets rid of default border in Firefox and Opera. */\n",
       "                border: none;\n",
       "                /* Needs to be in here for Safari polyfill so background images work as expected. */\n",
       "                background-size: auto;\n",
       "            }\n",
       "            .progress-bar-interrupted, .progress-bar-interrupted::-webkit-progress-bar {\n",
       "                background: #F44336;\n",
       "            }\n",
       "        </style>\n",
       "      <progress value='0' class='' max='1' style='width:300px; height:20px; vertical-align: middle;'></progress>\n",
       "      0.00% [0/1 00:00<00:00]\n",
       "    </div>\n",
       "    \n",
       "<table border=\"1\" class=\"dataframe\">\n",
       "  <thead>\n",
       "    <tr style=\"text-align: left;\">\n",
       "      <th>epoch</th>\n",
       "      <th>train_loss</th>\n",
       "      <th>valid_loss</th>\n",
       "      <th>accuracy</th>\n",
       "      <th>error_rate</th>\n",
       "      <th>time</th>\n",
       "    </tr>\n",
       "  </thead>\n",
       "  <tbody>\n",
       "  </tbody>\n",
       "</table><p>\n",
       "\n",
       "    <div>\n",
       "        <style>\n",
       "            /* Turns off some styling */\n",
       "            progress {\n",
       "                /* gets rid of default border in Firefox and Opera. */\n",
       "                border: none;\n",
       "                /* Needs to be in here for Safari polyfill so background images work as expected. */\n",
       "                background-size: auto;\n",
       "            }\n",
       "            .progress-bar-interrupted, .progress-bar-interrupted::-webkit-progress-bar {\n",
       "                background: #F44336;\n",
       "            }\n",
       "        </style>\n",
       "      <progress value='87' class='' max='113' style='width:300px; height:20px; vertical-align: middle;'></progress>\n",
       "      76.99% [87/113 00:16<00:05 2.2098]\n",
       "    </div>\n",
       "    "
      ],
      "text/plain": [
       "<IPython.core.display.HTML object>"
      ]
     },
     "metadata": {},
     "output_type": "display_data"
    },
    {
     "name": "stdout",
     "output_type": "stream",
     "text": [
      "LR Finder is complete, type {learner_name}.recorder.plot() to see the graph.\n"
     ]
    }
   ],
   "source": [
    "learner.lr_find()"
   ]
  },
  {
   "cell_type": "code",
   "execution_count": 64,
   "id": "c6207b48",
   "metadata": {
    "execution": {
     "iopub.execute_input": "2021-08-03T15:28:03.906015Z",
     "iopub.status.busy": "2021-08-03T15:28:03.905477Z",
     "iopub.status.idle": "2021-08-03T15:28:04.402022Z",
     "shell.execute_reply": "2021-08-03T15:28:04.402555Z",
     "shell.execute_reply.started": "2021-08-03T12:49:01.227879Z"
    },
    "papermill": {
     "duration": 0.746302,
     "end_time": "2021-08-03T15:28:04.402728",
     "exception": false,
     "start_time": "2021-08-03T15:28:03.656426",
     "status": "completed"
    },
    "tags": []
   },
   "outputs": [
    {
     "name": "stdout",
     "output_type": "stream",
     "text": [
      "Min numerical gradient: 1.10E-04\n",
      "Min loss divided by 10: 2.51E-04\n"
     ]
    },
    {
     "data": {
      "image/png": "[encoded data removed]",
      "text/plain": [
       "<Figure size 432x288 with 1 Axes>"
      ]
     },
     "metadata": {
      "needs_background": "light"
     },
     "output_type": "display_data"
    }
   ],
   "source": [
    "learner.recorder.plot(skip_end=10,suggestion=True)"
   ]
  },
  {
   "cell_type": "code",
   "execution_count": 65,
   "id": "6e234618",
   "metadata": {
    "execution": {
     "iopub.execute_input": "2021-08-03T15:28:04.874027Z",
     "iopub.status.busy": "2021-08-03T15:28:04.873464Z",
     "iopub.status.idle": "2021-08-03T15:28:27.725001Z",
     "shell.execute_reply": "2021-08-03T15:28:27.725407Z",
     "shell.execute_reply.started": "2021-08-03T12:49:01.810427Z"
    },
    "papermill": {
     "duration": 23.089241,
     "end_time": "2021-08-03T15:28:27.725567",
     "exception": false,
     "start_time": "2021-08-03T15:28:04.636326",
     "status": "completed"
    },
    "tags": []
   },
   "outputs": [
    {
     "data": {
      "text/html": [
       "<table border=\"1\" class=\"dataframe\">\n",
       "  <thead>\n",
       "    <tr style=\"text-align: left;\">\n",
       "      <th>epoch</th>\n",
       "      <th>train_loss</th>\n",
       "      <th>valid_loss</th>\n",
       "      <th>accuracy</th>\n",
       "      <th>error_rate</th>\n",
       "      <th>time</th>\n",
       "    </tr>\n",
       "  </thead>\n",
       "  <tbody>\n",
       "    <tr>\n",
       "      <td>0</td>\n",
       "      <td>1.736270</td>\n",
       "      <td>1.709340</td>\n",
       "      <td>0.337469</td>\n",
       "      <td>0.662531</td>\n",
       "      <td>00:22</td>\n",
       "    </tr>\n",
       "  </tbody>\n",
       "</table>"
      ],
      "text/plain": [
       "<IPython.core.display.HTML object>"
      ]
     },
     "metadata": {},
     "output_type": "display_data"
    },
    {
     "data": {
      "image/png": "[encoded data removed]",
      "text/plain": [
       "<Figure size 432x288 with 1 Axes>"
      ]
     },
     "metadata": {},
     "output_type": "display_data"
    }
   ],
   "source": [
    "learner.fit_one_cycle(1, max_lr=1e-4, moms=(0.8,0.7))"
   ]
  },
  {
   "cell_type": "code",
   "execution_count": 66,
   "id": "0e21e74a",
   "metadata": {
    "execution": {
     "iopub.execute_input": "2021-08-03T15:28:28.191910Z",
     "iopub.status.busy": "2021-08-03T15:28:28.191296Z",
     "iopub.status.idle": "2021-08-03T15:28:28.194836Z",
     "shell.execute_reply": "2021-08-03T15:28:28.194362Z",
     "shell.execute_reply.started": "2021-08-03T12:49:25.311021Z"
    },
    "papermill": {
     "duration": 0.240213,
     "end_time": "2021-08-03T15:28:28.194952",
     "exception": false,
     "start_time": "2021-08-03T15:28:27.954739",
     "status": "completed"
    },
    "tags": []
   },
   "outputs": [],
   "source": [
    "learner.freeze_to(-2)"
   ]
  },
  {
   "cell_type": "code",
   "execution_count": 67,
   "id": "86774e2b",
   "metadata": {
    "execution": {
     "iopub.execute_input": "2021-08-03T15:28:28.659798Z",
     "iopub.status.busy": "2021-08-03T15:28:28.659273Z",
     "iopub.status.idle": "2021-08-03T15:28:28.663105Z",
     "shell.execute_reply": "2021-08-03T15:28:28.662695Z",
     "shell.execute_reply.started": "2021-08-03T12:49:25.324586Z"
    },
    "papermill": {
     "duration": 0.23452,
     "end_time": "2021-08-03T15:28:28.663229",
     "exception": false,
     "start_time": "2021-08-03T15:28:28.428709",
     "status": "completed"
    },
    "tags": []
   },
   "outputs": [],
   "source": [
    "lr = 1e-5"
   ]
  },
  {
   "cell_type": "code",
   "execution_count": 68,
   "id": "fb187054",
   "metadata": {
    "execution": {
     "iopub.execute_input": "2021-08-03T15:28:29.122565Z",
     "iopub.status.busy": "2021-08-03T15:28:29.121831Z",
     "iopub.status.idle": "2021-08-03T15:28:57.223859Z",
     "shell.execute_reply": "2021-08-03T15:28:57.223420Z",
     "shell.execute_reply.started": "2021-08-03T12:49:25.348143Z"
    },
    "papermill": {
     "duration": 28.33394,
     "end_time": "2021-08-03T15:28:57.223984",
     "exception": false,
     "start_time": "2021-08-03T15:28:28.890044",
     "status": "completed"
    },
    "tags": []
   },
   "outputs": [
    {
     "data": {
      "text/html": [
       "<table border=\"1\" class=\"dataframe\">\n",
       "  <thead>\n",
       "    <tr style=\"text-align: left;\">\n",
       "      <th>epoch</th>\n",
       "      <th>train_loss</th>\n",
       "      <th>valid_loss</th>\n",
       "      <th>accuracy</th>\n",
       "      <th>error_rate</th>\n",
       "      <th>time</th>\n",
       "    </tr>\n",
       "  </thead>\n",
       "  <tbody>\n",
       "    <tr>\n",
       "      <td>0</td>\n",
       "      <td>1.498234</td>\n",
       "      <td>1.425227</td>\n",
       "      <td>0.451613</td>\n",
       "      <td>0.548387</td>\n",
       "      <td>00:27</td>\n",
       "    </tr>\n",
       "  </tbody>\n",
       "</table>"
      ],
      "text/plain": [
       "<IPython.core.display.HTML object>"
      ]
     },
     "metadata": {},
     "output_type": "display_data"
    },
    {
     "data": {
      "image/png": "[encoded data removed]",
      "text/plain": [
       "<Figure size 432x288 with 1 Axes>"
      ]
     },
     "metadata": {},
     "output_type": "display_data"
    }
   ],
   "source": [
    "learner.fit_one_cycle(1, max_lr=slice(lr*0.95**num_groups, lr), moms=(0.8, 0.9))"
   ]
  },
  {
   "cell_type": "code",
   "execution_count": 69,
   "id": "03b80e22",
   "metadata": {
    "execution": {
     "iopub.execute_input": "2021-08-03T15:28:57.726066Z",
     "iopub.status.busy": "2021-08-03T15:28:57.725432Z",
     "iopub.status.idle": "2021-08-03T15:28:57.728392Z",
     "shell.execute_reply": "2021-08-03T15:28:57.728881Z",
     "shell.execute_reply.started": "2021-08-03T12:49:54.104037Z"
    },
    "papermill": {
     "duration": 0.256214,
     "end_time": "2021-08-03T15:28:57.729031",
     "exception": false,
     "start_time": "2021-08-03T15:28:57.472817",
     "status": "completed"
    },
    "tags": []
   },
   "outputs": [],
   "source": [
    "learner.freeze_to(-3)"
   ]
  },
  {
   "cell_type": "code",
   "execution_count": 70,
   "id": "07b1131e",
   "metadata": {
    "execution": {
     "iopub.execute_input": "2021-08-03T15:28:58.238692Z",
     "iopub.status.busy": "2021-08-03T15:28:58.237854Z",
     "iopub.status.idle": "2021-08-03T15:29:30.839228Z",
     "shell.execute_reply": "2021-08-03T15:29:30.839767Z",
     "shell.execute_reply.started": "2021-08-03T12:49:54.116696Z"
    },
    "papermill": {
     "duration": 32.858295,
     "end_time": "2021-08-03T15:29:30.839927",
     "exception": false,
     "start_time": "2021-08-03T15:28:57.981632",
     "status": "completed"
    },
    "tags": []
   },
   "outputs": [
    {
     "data": {
      "text/html": [
       "<table border=\"1\" class=\"dataframe\">\n",
       "  <thead>\n",
       "    <tr style=\"text-align: left;\">\n",
       "      <th>epoch</th>\n",
       "      <th>train_loss</th>\n",
       "      <th>valid_loss</th>\n",
       "      <th>accuracy</th>\n",
       "      <th>error_rate</th>\n",
       "      <th>time</th>\n",
       "    </tr>\n",
       "  </thead>\n",
       "  <tbody>\n",
       "    <tr>\n",
       "      <td>0</td>\n",
       "      <td>1.262849</td>\n",
       "      <td>1.199144</td>\n",
       "      <td>0.540943</td>\n",
       "      <td>0.459057</td>\n",
       "      <td>00:32</td>\n",
       "    </tr>\n",
       "  </tbody>\n",
       "</table>"
      ],
      "text/plain": [
       "<IPython.core.display.HTML object>"
      ]
     },
     "metadata": {},
     "output_type": "display_data"
    },
    {
     "data": {
      "image/png": "[encoded data removed]",
      "text/plain": [
       "<Figure size 432x288 with 1 Axes>"
      ]
     },
     "metadata": {},
     "output_type": "display_data"
    }
   ],
   "source": [
    "learner.fit_one_cycle(1, max_lr=slice(lr*0.95**num_groups, lr), moms=(0.8, 0.9))"
   ]
  },
  {
   "cell_type": "code",
   "execution_count": 71,
   "id": "705c5191",
   "metadata": {
    "execution": {
     "iopub.execute_input": "2021-08-03T15:29:31.311253Z",
     "iopub.status.busy": "2021-08-03T15:29:31.310641Z",
     "iopub.status.idle": "2021-08-03T15:29:31.314040Z",
     "shell.execute_reply": "2021-08-03T15:29:31.314430Z",
     "shell.execute_reply.started": "2021-08-03T12:50:27.108688Z"
    },
    "papermill": {
     "duration": 0.244024,
     "end_time": "2021-08-03T15:29:31.314571",
     "exception": false,
     "start_time": "2021-08-03T15:29:31.070547",
     "status": "completed"
    },
    "tags": []
   },
   "outputs": [],
   "source": [
    "learner.unfreeze()"
   ]
  },
  {
   "cell_type": "code",
   "execution_count": 72,
   "id": "906f2262",
   "metadata": {
    "execution": {
     "iopub.execute_input": "2021-08-03T15:29:31.787726Z",
     "iopub.status.busy": "2021-08-03T15:29:31.786663Z",
     "iopub.status.idle": "2021-08-03T15:34:00.089963Z",
     "shell.execute_reply": "2021-08-03T15:34:00.089455Z",
     "shell.execute_reply.started": "2021-08-03T12:50:27.124168Z"
    },
    "papermill": {
     "duration": 268.54563,
     "end_time": "2021-08-03T15:34:00.090142",
     "exception": false,
     "start_time": "2021-08-03T15:29:31.544512",
     "status": "completed"
    },
    "tags": []
   },
   "outputs": [
    {
     "data": {
      "text/html": [
       "<table border=\"1\" class=\"dataframe\">\n",
       "  <thead>\n",
       "    <tr style=\"text-align: left;\">\n",
       "      <th>epoch</th>\n",
       "      <th>train_loss</th>\n",
       "      <th>valid_loss</th>\n",
       "      <th>accuracy</th>\n",
       "      <th>error_rate</th>\n",
       "      <th>time</th>\n",
       "    </tr>\n",
       "  </thead>\n",
       "  <tbody>\n",
       "    <tr>\n",
       "      <td>0</td>\n",
       "      <td>1.165405</td>\n",
       "      <td>1.128007</td>\n",
       "      <td>0.578164</td>\n",
       "      <td>0.421836</td>\n",
       "      <td>00:52</td>\n",
       "    </tr>\n",
       "    <tr>\n",
       "      <td>1</td>\n",
       "      <td>1.039172</td>\n",
       "      <td>1.003733</td>\n",
       "      <td>0.625310</td>\n",
       "      <td>0.374690</td>\n",
       "      <td>00:55</td>\n",
       "    </tr>\n",
       "    <tr>\n",
       "      <td>2</td>\n",
       "      <td>0.918799</td>\n",
       "      <td>0.990678</td>\n",
       "      <td>0.642680</td>\n",
       "      <td>0.357320</td>\n",
       "      <td>00:52</td>\n",
       "    </tr>\n",
       "    <tr>\n",
       "      <td>3</td>\n",
       "      <td>0.790467</td>\n",
       "      <td>0.969680</td>\n",
       "      <td>0.652605</td>\n",
       "      <td>0.347395</td>\n",
       "      <td>00:53</td>\n",
       "    </tr>\n",
       "    <tr>\n",
       "      <td>4</td>\n",
       "      <td>0.731126</td>\n",
       "      <td>0.964021</td>\n",
       "      <td>0.662531</td>\n",
       "      <td>0.337469</td>\n",
       "      <td>00:53</td>\n",
       "    </tr>\n",
       "  </tbody>\n",
       "</table>"
      ],
      "text/plain": [
       "<IPython.core.display.HTML object>"
      ]
     },
     "metadata": {},
     "output_type": "display_data"
    },
    {
     "data": {
      "image/png": "[encoded data removed]",
      "text/plain": [
       "<Figure size 432x288 with 1 Axes>"
      ]
     },
     "metadata": {},
     "output_type": "display_data"
    }
   ],
   "source": [
    "learner.fit_one_cycle(5, max_lr=slice(lr*0.95**num_groups, lr), moms=(0.8, 0.9))"
   ]
  },
  {
   "cell_type": "code",
   "execution_count": 73,
   "id": "a376278b",
   "metadata": {
    "execution": {
     "iopub.execute_input": "2021-08-03T15:34:00.596405Z",
     "iopub.status.busy": "2021-08-03T15:34:00.595739Z",
     "iopub.status.idle": "2021-08-03T15:34:00.599508Z",
     "shell.execute_reply": "2021-08-03T15:34:00.599030Z",
     "shell.execute_reply.started": "2021-08-03T12:55:00.241268Z"
    },
    "papermill": {
     "duration": 0.256632,
     "end_time": "2021-08-03T15:34:00.599622",
     "exception": false,
     "start_time": "2021-08-03T15:34:00.342990",
     "status": "completed"
    },
    "tags": []
   },
   "outputs": [],
   "source": [
    "def get_preds_as_nparray(ds_type) -> np.ndarray:\n",
    "    \"\"\"\n",
    "    the get_preds method does not yield the elements in order by default\n",
    "    we borrow the code from the RNNLearner to resort the elements into their correct order\n",
    "    \"\"\"\n",
    "    preds = learner.get_preds(ds_type)[0].detach().cpu().numpy()\n",
    "    sampler = [i for i in databunch.dl(ds_type).sampler]\n",
    "    reverse_sampler = np.argsort(sampler)\n",
    "    return preds[reverse_sampler, :]"
   ]
  },
  {
   "cell_type": "code",
   "execution_count": 74,
   "id": "1e74aa77",
   "metadata": {
    "execution": {
     "iopub.execute_input": "2021-08-03T15:34:01.108258Z",
     "iopub.status.busy": "2021-08-03T15:34:01.107239Z",
     "iopub.status.idle": "2021-08-03T15:34:17.872567Z",
     "shell.execute_reply": "2021-08-03T15:34:17.872135Z",
     "shell.execute_reply.started": "2021-08-03T12:55:00.250784Z"
    },
    "papermill": {
     "duration": 17.024545,
     "end_time": "2021-08-03T15:34:17.872706",
     "exception": false,
     "start_time": "2021-08-03T15:34:00.848161",
     "status": "completed"
    },
    "tags": []
   },
   "outputs": [
    {
     "data": {
      "text/html": [],
      "text/plain": [
       "<IPython.core.display.HTML object>"
      ]
     },
     "metadata": {},
     "output_type": "display_data"
    },
    {
     "name": "stdout",
     "output_type": "stream",
     "text": [
      "              precision    recall  f1-score   support\n",
      "\n",
      "   Appetizer       0.64      0.63      0.63       230\n",
      "     Dessert       0.95      0.75      0.84       266\n",
      "      Dinner       0.31      0.54      0.40       158\n",
      "       Lunch       0.64      0.60      0.62       602\n",
      " Main Course       0.50      0.16      0.25       281\n",
      "   Side Dish       0.42      0.69      0.53       208\n",
      "       Snack       0.67      0.76      0.71       245\n",
      "\n",
      "    accuracy                           0.59      1990\n",
      "   macro avg       0.59      0.59      0.57      1990\n",
      "weighted avg       0.62      0.59      0.58      1990\n",
      "\n"
     ]
    }
   ],
   "source": [
    "test_preds = get_preds_as_nparray(DatasetType.Test)\n",
    "print(metrics.classification_report(np.vectorize(learner_dict.get)(np.argmax(test_preds, axis=1)).astype('object'), test_df.Course.to_numpy()))"
   ]
  },
  {
   "cell_type": "markdown",
   "id": "f4ffc829",
   "metadata": {
    "papermill": {
     "duration": 0.232818,
     "end_time": "2021-08-03T15:34:18.339827",
     "exception": false,
     "start_time": "2021-08-03T15:34:18.107009",
     "status": "completed"
    },
    "tags": []
   },
   "source": [
    "## **4.2.2 RoBerta**"
   ]
  },
  {
   "cell_type": "code",
   "execution_count": 75,
   "id": "d35cda06",
   "metadata": {
    "execution": {
     "iopub.execute_input": "2021-08-03T15:34:18.840650Z",
     "iopub.status.busy": "2021-08-03T15:34:18.840041Z",
     "iopub.status.idle": "2021-08-03T15:34:18.843573Z",
     "shell.execute_reply": "2021-08-03T15:34:18.843983Z",
     "shell.execute_reply.started": "2021-08-03T12:55:17.089165Z"
    },
    "papermill": {
     "duration": 0.240698,
     "end_time": "2021-08-03T15:34:18.844167",
     "exception": false,
     "start_time": "2021-08-03T15:34:18.603469",
     "status": "completed"
    },
    "tags": []
   },
   "outputs": [],
   "source": [
    "# Parameters\n",
    "use_fp16 = False\n",
    "bs = 16\n",
    "\n",
    "model_type = 'roberta'\n",
    "pretrained_model_name = 'roberta-base'"
   ]
  },
  {
   "cell_type": "code",
   "execution_count": 76,
   "id": "58f762bd",
   "metadata": {
    "execution": {
     "iopub.execute_input": "2021-08-03T15:34:19.310449Z",
     "iopub.status.busy": "2021-08-03T15:34:19.309878Z",
     "iopub.status.idle": "2021-08-03T15:34:19.313862Z",
     "shell.execute_reply": "2021-08-03T15:34:19.313463Z",
     "shell.execute_reply.started": "2021-08-03T12:55:17.098023Z"
    },
    "papermill": {
     "duration": 0.238539,
     "end_time": "2021-08-03T15:34:19.313976",
     "exception": false,
     "start_time": "2021-08-03T15:34:19.075437",
     "status": "completed"
    },
    "tags": []
   },
   "outputs": [],
   "source": [
    "model_class, tokenizer_class, config_class = MODEL_CLASSES[model_type]"
   ]
  },
  {
   "cell_type": "code",
   "execution_count": 77,
   "id": "8125ecbf",
   "metadata": {
    "execution": {
     "iopub.execute_input": "2021-08-03T15:34:19.784689Z",
     "iopub.status.busy": "2021-08-03T15:34:19.784119Z",
     "iopub.status.idle": "2021-08-03T15:34:19.790435Z",
     "shell.execute_reply": "2021-08-03T15:34:19.789965Z",
     "shell.execute_reply.started": "2021-08-03T12:55:17.110467Z"
    },
    "papermill": {
     "duration": 0.243739,
     "end_time": "2021-08-03T15:34:19.790555",
     "exception": false,
     "start_time": "2021-08-03T15:34:19.546816",
     "status": "completed"
    },
    "tags": []
   },
   "outputs": [
    {
     "data": {
      "text/plain": [
       "dict_keys(['roberta-base', 'roberta-large', 'roberta-large-mnli', 'distilroberta-base', 'roberta-base-openai-detector', 'roberta-large-openai-detector'])"
      ]
     },
     "execution_count": 77,
     "metadata": {},
     "output_type": "execute_result"
    }
   ],
   "source": [
    "model_class.pretrained_model_archive_map.keys()"
   ]
  },
  {
   "cell_type": "code",
   "execution_count": 78,
   "id": "d2942fd3",
   "metadata": {
    "execution": {
     "iopub.execute_input": "2021-08-03T15:34:20.270401Z",
     "iopub.status.busy": "2021-08-03T15:34:20.269555Z",
     "iopub.status.idle": "2021-08-03T15:34:22.510434Z",
     "shell.execute_reply": "2021-08-03T15:34:22.509942Z",
     "shell.execute_reply.started": "2021-08-03T12:55:17.123752Z"
    },
    "papermill": {
     "duration": 2.479691,
     "end_time": "2021-08-03T15:34:22.510570",
     "exception": false,
     "start_time": "2021-08-03T15:34:20.030879",
     "status": "completed"
    },
    "tags": []
   },
   "outputs": [
    {
     "data": {
      "application/vnd.jupyter.widget-view+json": {
       "model_id": "a09a27e548444972af2b29ef157cb83c",
       "version_major": 2,
       "version_minor": 0
      },
      "text/plain": [
       "Downloading:   0%|          | 0.00/899k [00:00<?, ?B/s]"
      ]
     },
     "metadata": {},
     "output_type": "display_data"
    },
    {
     "data": {
      "application/vnd.jupyter.widget-view+json": {
       "model_id": "6905c2c700414c3382706e77d257974d",
       "version_major": 2,
       "version_minor": 0
      },
      "text/plain": [
       "Downloading:   0%|          | 0.00/456k [00:00<?, ?B/s]"
      ]
     },
     "metadata": {},
     "output_type": "display_data"
    }
   ],
   "source": [
    "transformer_tokenizer = tokenizer_class.from_pretrained(pretrained_model_name)\n",
    "transformer_base_tokenizer = TransformersBaseTokenizer(pretrained_tokenizer = transformer_tokenizer, model_type = model_type)\n",
    "fastai_tokenizer = Tokenizer(tok_func = transformer_base_tokenizer, pre_rules=[], post_rules=[])"
   ]
  },
  {
   "cell_type": "code",
   "execution_count": 79,
   "id": "8d6c9dc7",
   "metadata": {
    "execution": {
     "iopub.execute_input": "2021-08-03T15:34:22.999431Z",
     "iopub.status.busy": "2021-08-03T15:34:22.998656Z",
     "iopub.status.idle": "2021-08-03T15:34:23.001563Z",
     "shell.execute_reply": "2021-08-03T15:34:23.001025Z",
     "shell.execute_reply.started": "2021-08-03T12:55:21.501667Z"
    },
    "papermill": {
     "duration": 0.243625,
     "end_time": "2021-08-03T15:34:23.001676",
     "exception": false,
     "start_time": "2021-08-03T15:34:22.758051",
     "status": "completed"
    },
    "tags": []
   },
   "outputs": [],
   "source": [
    "transformer_vocab =  TransformersVocab(tokenizer = transformer_tokenizer)\n",
    "numericalize_processor = NumericalizeProcessor(vocab=transformer_vocab)\n",
    "\n",
    "tokenize_processor = TokenizeProcessor(tokenizer=fastai_tokenizer, include_bos=False, include_eos=False)\n",
    "\n",
    "transformer_processor = [tokenize_processor, numericalize_processor]"
   ]
  },
  {
   "cell_type": "code",
   "execution_count": 80,
   "id": "c97ac55b",
   "metadata": {
    "execution": {
     "iopub.execute_input": "2021-08-03T15:34:23.482919Z",
     "iopub.status.busy": "2021-08-03T15:34:23.482062Z",
     "iopub.status.idle": "2021-08-03T15:34:23.484960Z",
     "shell.execute_reply": "2021-08-03T15:34:23.484524Z",
     "shell.execute_reply.started": "2021-08-03T12:55:21.50965Z"
    },
    "papermill": {
     "duration": 0.24594,
     "end_time": "2021-08-03T15:34:23.485091",
     "exception": false,
     "start_time": "2021-08-03T15:34:23.239151",
     "status": "completed"
    },
    "tags": []
   },
   "outputs": [],
   "source": [
    "pad_first = bool(model_type in ['xlnet'])\n",
    "pad_idx = transformer_tokenizer.pad_token_id"
   ]
  },
  {
   "cell_type": "code",
   "execution_count": 81,
   "id": "61827b63",
   "metadata": {
    "execution": {
     "iopub.execute_input": "2021-08-03T15:34:23.973208Z",
     "iopub.status.busy": "2021-08-03T15:34:23.972255Z",
     "iopub.status.idle": "2021-08-03T15:34:36.651220Z",
     "shell.execute_reply": "2021-08-03T15:34:36.650739Z",
     "shell.execute_reply.started": "2021-08-03T12:55:21.523926Z"
    },
    "papermill": {
     "duration": 12.932599,
     "end_time": "2021-08-03T15:34:36.651360",
     "exception": false,
     "start_time": "2021-08-03T15:34:23.718761",
     "status": "completed"
    },
    "tags": []
   },
   "outputs": [
    {
     "data": {
      "text/html": [],
      "text/plain": [
       "<IPython.core.display.HTML object>"
      ]
     },
     "metadata": {},
     "output_type": "display_data"
    },
    {
     "data": {
      "text/html": [],
      "text/plain": [
       "<IPython.core.display.HTML object>"
      ]
     },
     "metadata": {},
     "output_type": "display_data"
    },
    {
     "data": {
      "text/html": [],
      "text/plain": [
       "<IPython.core.display.HTML object>"
      ]
     },
     "metadata": {},
     "output_type": "display_data"
    }
   ],
   "source": [
    "databunch = (TextList.from_df(train_df, cols=['Instructions_cleaned'], processor=transformer_processor)\n",
    "             .split_by_rand_pct(0.1, seed=seed)\n",
    "             .label_from_df(cols='Course')\n",
    "             .add_test(test_df)\n",
    "             .databunch(bs=bs, pad_first=pad_first, pad_idx=pad_idx))"
   ]
  },
  {
   "cell_type": "code",
   "execution_count": 82,
   "id": "36da4dd7",
   "metadata": {
    "execution": {
     "iopub.execute_input": "2021-08-03T15:34:37.131957Z",
     "iopub.status.busy": "2021-08-03T15:34:37.131284Z",
     "iopub.status.idle": "2021-08-03T15:34:37.965696Z",
     "shell.execute_reply": "2021-08-03T15:34:37.964896Z",
     "shell.execute_reply.started": "2021-08-03T12:55:36.953015Z"
    },
    "papermill": {
     "duration": 1.076894,
     "end_time": "2021-08-03T15:34:37.965836",
     "exception": false,
     "start_time": "2021-08-03T15:34:36.888942",
     "status": "completed"
    },
    "tags": []
   },
   "outputs": [
    {
     "name": "stdout",
     "output_type": "stream",
     "text": [
      "[CLS] token : <s>\n",
      "[SEP] token : </s>\n",
      "[PAD] token : <pad>\n"
     ]
    },
    {
     "data": {
      "text/html": [
       "<table border=\"1\" class=\"dataframe\">\n",
       "  <thead>\n",
       "    <tr style=\"text-align: right;\">\n",
       "      <th>text</th>\n",
       "      <th>target</th>\n",
       "    </tr>\n",
       "  </thead>\n",
       "  <tbody>\n",
       "    <tr>\n",
       "      <td>&lt;s&gt; Ġto Ġbegin Ġmaking Ġthe Ġegg less Ġor Ġvegan Ġchrist mas Ġcake Ġrecipe Ġwe Ġfirst Ġhave Ġto Ġsoak Ġall Ġthe Ġdry Ġfruit Ġin Ġrum Ġand Ġjuice Ġ( Ġyou Ġcan Ġavoid Ġthe Ġrum Ġ) Ġ. Ġthis Ġprocess Ġhelp Ġferment Ġthe Ġfruit Ġand Ġalso Ġhelp Ġto Ġrelease Ġall Ġthe Ġflavor Ġand Ġmake Ġthe Ġchrist mas Ġcake Ġmoist Ġand Ġrich . place Ġthe Ġs ult ana Ġdried Ġpr une Ġdried Ġdate Ġdried Ġfig</td>\n",
       "      <td>Dessert</td>\n",
       "    </tr>\n",
       "    <tr>\n",
       "      <td>&lt;s&gt; Ġto Ġbegin Ġmaking Ġthe Ġg aj ar Ġhal wa Ġshot Ġmake Ġthe Ġbas und i Ġ( Ġrab ri Ġ) Ġrecipe Ġ( Ġa Ġnut ty Ġcondensed Ġmilk Ġpudding Ġ) Ġand Ġeasy Ġg aj ar Ġhal wa Ġrecipe Ġwith Ġkh oya Ġmade Ġin Ġa Ġpressure Ġcooker Ġbefore Ġhand Ġand Ġkeep Ġit Ġready Ġ. Ġ* for Ġthe Ġbas und i / rab ri Ġto Ġbegin Ġmaking Ġthe Ġbas und i Ġrecipe Ġwe</td>\n",
       "      <td>Dessert</td>\n",
       "    </tr>\n",
       "    <tr>\n",
       "      <td>&lt;s&gt; Ġto Ġbegin Ġmaking Ġthe Ġchicken Ġke ema Ġsam osa Ġrecipe Ġplace Ġthe Ġflour Ġg hee Ġsalt Ġand Ġa j w ain Ġin Ġthe Ġfood Ġprocessor Ġ. Ġadd Ġlittle Ġwater Ġat Ġa Ġtime Ġand Ġmake Ġa Ġfirm Ġand Ġyet Ġsmooth Ġdough . div ide Ġthe Ġdough Ġinto Ġlarge Ġlemon Ġsize Ġportion Ġ. Ġcover Ġthe Ġdough Ġand Ġkeep Ġaside . in Ġthe Ġsame Ġfood Ġprocessor Ġjar Ġattach Ġthe Ġcho pper Ġblade</td>\n",
       "      <td>Appetizer</td>\n",
       "    </tr>\n",
       "    <tr>\n",
       "      <td>&lt;s&gt; Ġto Ġbegin Ġmaking Ġthe Ġtart Ġproven cal Ġmade Ġwith Ġrat at ou ille Ġstart Ġpre pping Ġwith Ġall Ġthe Ġingredient Ġand Ġchop Ġthe Ġve ggie Ġand Ġmake Ġthe Ġtart Ġcrust Ġto Ġstart . for Ġthe Ġcrust pre - heat Ġthe Ġoven Ġto Ġone Ġhundred Ġand Ġninety Ġdegree Ġc elsius . add Ġmaid a Ġand Ġbutter Ġin Ġa Ġmixing Ġbowl Ġor Ġthe Ġbowl Ġof Ġa Ġfood Ġprocessor . rub Ġwith</td>\n",
       "      <td>Lunch</td>\n",
       "    </tr>\n",
       "    <tr>\n",
       "      <td>&lt;s&gt; Ġto Ġbegin Ġmaking Ġmushroom Ġt ik ka Ġmas ala Ġrecipe Ġ( Ġmushroom Ġ&amp; Ġbell Ġpepper Ġin Ġspicy Ġtomato Ġgravy Ġ) Ġprep Ġup Ġwith Ġall Ġthe Ġingredient Ġand Ġstart Ġwith Ġmar inating Ġthe Ġmushrooms . in Ġa Ġlarge Ġmixing Ġbowl Ġadd Ġall Ġthe Ġmar in ade Ġingredient Ġexcept Ġmushrooms . mix Ġwell Ġdo Ġa Ġtaste Ġtest Ġand Ġadjust Ġspice Ġand Ġsalt Ġaccording Ġto Ġyour Ġtaste . add Ġin Ġthe Ġcut</td>\n",
       "      <td>Side Dish</td>\n",
       "    </tr>\n",
       "  </tbody>\n",
       "</table>"
      ],
      "text/plain": [
       "<IPython.core.display.HTML object>"
      ]
     },
     "metadata": {},
     "output_type": "display_data"
    }
   ],
   "source": [
    "print('[CLS] token :', transformer_tokenizer.cls_token)\n",
    "print('[SEP] token :', transformer_tokenizer.sep_token)\n",
    "print('[PAD] token :', transformer_tokenizer.pad_token)\n",
    "databunch.show_batch()"
   ]
  },
  {
   "cell_type": "code",
   "execution_count": 83,
   "id": "dda527ee",
   "metadata": {
    "execution": {
     "iopub.execute_input": "2021-08-03T15:34:38.458322Z",
     "iopub.status.busy": "2021-08-03T15:34:38.457751Z",
     "iopub.status.idle": "2021-08-03T15:34:39.249639Z",
     "shell.execute_reply": "2021-08-03T15:34:39.248698Z",
     "shell.execute_reply.started": "2021-08-03T12:55:38.113546Z"
    },
    "papermill": {
     "duration": 1.033368,
     "end_time": "2021-08-03T15:34:39.249762",
     "exception": false,
     "start_time": "2021-08-03T15:34:38.216394",
     "status": "completed"
    },
    "tags": []
   },
   "outputs": [
    {
     "data": {
      "application/vnd.jupyter.widget-view+json": {
       "model_id": "60530bb002d149c98d914603934fb166",
       "version_major": 2,
       "version_minor": 0
      },
      "text/plain": [
       "Downloading:   0%|          | 0.00/481 [00:00<?, ?B/s]"
      ]
     },
     "metadata": {},
     "output_type": "display_data"
    }
   ],
   "source": [
    "config = config_class.from_pretrained(pretrained_model_name)\n",
    "config.num_labels = 7\n",
    "config.use_bfloat16 = use_fp16"
   ]
  },
  {
   "cell_type": "code",
   "execution_count": 84,
   "id": "b431d700",
   "metadata": {
    "execution": {
     "iopub.execute_input": "2021-08-03T15:34:39.730603Z",
     "iopub.status.busy": "2021-08-03T15:34:39.730008Z",
     "iopub.status.idle": "2021-08-03T15:35:00.332232Z",
     "shell.execute_reply": "2021-08-03T15:35:00.331230Z",
     "shell.execute_reply.started": "2021-08-03T12:55:39.092815Z"
    },
    "papermill": {
     "duration": 20.845552,
     "end_time": "2021-08-03T15:35:00.332433",
     "exception": false,
     "start_time": "2021-08-03T15:34:39.486881",
     "status": "completed"
    },
    "tags": []
   },
   "outputs": [
    {
     "data": {
      "application/vnd.jupyter.widget-view+json": {
       "model_id": "9970d4c39499422cabf484e784ee8784",
       "version_major": 2,
       "version_minor": 0
      },
      "text/plain": [
       "Downloading:   0%|          | 0.00/501M [00:00<?, ?B/s]"
      ]
     },
     "metadata": {},
     "output_type": "display_data"
    }
   ],
   "source": [
    "transformer_model = model_class.from_pretrained(pretrained_model_name, config = config)\n",
    "# transformer_model = model_class.from_pretrained(pretrained_model_name, num_labels = 7)\n",
    "\n",
    "custom_transformer_model = CustomTransformerModel(transformer_model = transformer_model)"
   ]
  },
  {
   "cell_type": "code",
   "execution_count": 85,
   "id": "2c780724",
   "metadata": {
    "execution": {
     "iopub.execute_input": "2021-08-03T15:35:00.851989Z",
     "iopub.status.busy": "2021-08-03T15:35:00.850897Z",
     "iopub.status.idle": "2021-08-03T15:35:01.020716Z",
     "shell.execute_reply": "2021-08-03T15:35:01.020200Z",
     "shell.execute_reply.started": "2021-08-03T12:56:04.816537Z"
    },
    "papermill": {
     "duration": 0.429679,
     "end_time": "2021-08-03T15:35:01.020868",
     "exception": false,
     "start_time": "2021-08-03T15:35:00.591189",
     "status": "completed"
    },
    "tags": []
   },
   "outputs": [],
   "source": [
    "CustomAdamW = partial(AdamW, correct_bias=False)\n",
    "\n",
    "learner = Learner(databunch, \n",
    "                  custom_transformer_model, \n",
    "                  opt_func = CustomAdamW, \n",
    "                  metrics=[accuracy, error_rate])\n",
    "\n",
    "# Show graph of learner stats and metrics after each epoch.\n",
    "learner.callbacks.append(ShowGraph(learner))\n",
    "\n",
    "# Put learn in FP16 precision mode. --> Seems to not working\n",
    "if use_fp16: learner = learner.to_fp16()"
   ]
  },
  {
   "cell_type": "code",
   "execution_count": 86,
   "id": "0b5e35c5",
   "metadata": {
    "execution": {
     "iopub.execute_input": "2021-08-03T15:35:01.535899Z",
     "iopub.status.busy": "2021-08-03T15:35:01.534986Z",
     "iopub.status.idle": "2021-08-03T15:35:01.538219Z",
     "shell.execute_reply": "2021-08-03T15:35:01.537701Z",
     "shell.execute_reply.started": "2021-08-03T12:56:04.96081Z"
    },
    "papermill": {
     "duration": 0.264168,
     "end_time": "2021-08-03T15:35:01.538351",
     "exception": false,
     "start_time": "2021-08-03T15:35:01.274183",
     "status": "completed"
    },
    "tags": []
   },
   "outputs": [],
   "source": [
    "# For roberta-base\n",
    "list_layers = [learner.model.transformer.roberta.embeddings,\n",
    "              learner.model.transformer.roberta.encoder.layer[0],\n",
    "              learner.model.transformer.roberta.encoder.layer[1],\n",
    "              learner.model.transformer.roberta.encoder.layer[2],\n",
    "              learner.model.transformer.roberta.encoder.layer[3],\n",
    "              learner.model.transformer.roberta.encoder.layer[4],\n",
    "              learner.model.transformer.roberta.encoder.layer[5],\n",
    "              learner.model.transformer.roberta.encoder.layer[6],\n",
    "              learner.model.transformer.roberta.encoder.layer[7],\n",
    "              learner.model.transformer.roberta.encoder.layer[8],\n",
    "              learner.model.transformer.roberta.encoder.layer[9],\n",
    "              learner.model.transformer.roberta.encoder.layer[10],\n",
    "              learner.model.transformer.roberta.encoder.layer[11],\n",
    "              learner.model.transformer.roberta.pooler]"
   ]
  },
  {
   "cell_type": "code",
   "execution_count": 87,
   "id": "33503b85",
   "metadata": {
    "execution": {
     "iopub.execute_input": "2021-08-03T15:35:02.091777Z",
     "iopub.status.busy": "2021-08-03T15:35:02.081578Z",
     "iopub.status.idle": "2021-08-03T15:35:02.129385Z",
     "shell.execute_reply": "2021-08-03T15:35:02.129768Z",
     "shell.execute_reply.started": "2021-08-03T12:56:04.975113Z"
    },
    "papermill": {
     "duration": 0.3357,
     "end_time": "2021-08-03T15:35:02.129934",
     "exception": false,
     "start_time": "2021-08-03T15:35:01.794234",
     "status": "completed"
    },
    "tags": []
   },
   "outputs": [
    {
     "name": "stdout",
     "output_type": "stream",
     "text": [
      "Learner split in 14 groups\n"
     ]
    }
   ],
   "source": [
    "learner.split(list_layers)\n",
    "num_groups = len(learner.layer_groups)\n",
    "print('Learner split in', num_groups, 'groups')\n",
    "# print(learner.layer_groups)"
   ]
  },
  {
   "cell_type": "code",
   "execution_count": 88,
   "id": "31244408",
   "metadata": {
    "execution": {
     "iopub.execute_input": "2021-08-03T15:35:02.653148Z",
     "iopub.status.busy": "2021-08-03T15:35:02.652340Z",
     "iopub.status.idle": "2021-08-03T15:35:02.655139Z",
     "shell.execute_reply": "2021-08-03T15:35:02.654717Z",
     "shell.execute_reply.started": "2021-08-03T12:56:05.069172Z"
    },
    "papermill": {
     "duration": 0.273903,
     "end_time": "2021-08-03T15:35:02.655260",
     "exception": false,
     "start_time": "2021-08-03T15:35:02.381357",
     "status": "completed"
    },
    "tags": []
   },
   "outputs": [],
   "source": [
    "learner.freeze_to(-1)"
   ]
  },
  {
   "cell_type": "code",
   "execution_count": 89,
   "id": "2baf0384",
   "metadata": {
    "execution": {
     "iopub.execute_input": "2021-08-03T15:35:03.168881Z",
     "iopub.status.busy": "2021-08-03T15:35:03.167954Z",
     "iopub.status.idle": "2021-08-03T15:35:17.334788Z",
     "shell.execute_reply": "2021-08-03T15:35:17.334364Z",
     "shell.execute_reply.started": "2021-08-03T12:56:05.087017Z"
    },
    "papermill": {
     "duration": 14.427035,
     "end_time": "2021-08-03T15:35:17.334913",
     "exception": false,
     "start_time": "2021-08-03T15:35:02.907878",
     "status": "completed"
    },
    "tags": []
   },
   "outputs": [
    {
     "data": {
      "text/html": [
       "\n",
       "    <div>\n",
       "        <style>\n",
       "            /* Turns off some styling */\n",
       "            progress {\n",
       "                /* gets rid of default border in Firefox and Opera. */\n",
       "                border: none;\n",
       "                /* Needs to be in here for Safari polyfill so background images work as expected. */\n",
       "                background-size: auto;\n",
       "            }\n",
       "            .progress-bar-interrupted, .progress-bar-interrupted::-webkit-progress-bar {\n",
       "                background: #F44336;\n",
       "            }\n",
       "        </style>\n",
       "      <progress value='0' class='' max='1' style='width:300px; height:20px; vertical-align: middle;'></progress>\n",
       "      0.00% [0/1 00:00<00:00]\n",
       "    </div>\n",
       "    \n",
       "<table border=\"1\" class=\"dataframe\">\n",
       "  <thead>\n",
       "    <tr style=\"text-align: left;\">\n",
       "      <th>epoch</th>\n",
       "      <th>train_loss</th>\n",
       "      <th>valid_loss</th>\n",
       "      <th>accuracy</th>\n",
       "      <th>error_rate</th>\n",
       "      <th>time</th>\n",
       "    </tr>\n",
       "  </thead>\n",
       "  <tbody>\n",
       "  </tbody>\n",
       "</table><p>\n",
       "\n",
       "    <div>\n",
       "        <style>\n",
       "            /* Turns off some styling */\n",
       "            progress {\n",
       "                /* gets rid of default border in Firefox and Opera. */\n",
       "                border: none;\n",
       "                /* Needs to be in here for Safari polyfill so background images work as expected. */\n",
       "                background-size: auto;\n",
       "            }\n",
       "            .progress-bar-interrupted, .progress-bar-interrupted::-webkit-progress-bar {\n",
       "                background: #F44336;\n",
       "            }\n",
       "        </style>\n",
       "      <progress value='71' class='' max='227' style='width:300px; height:20px; vertical-align: middle;'></progress>\n",
       "      31.28% [71/227 00:11<00:25 6.8123]\n",
       "    </div>\n",
       "    "
      ],
      "text/plain": [
       "<IPython.core.display.HTML object>"
      ]
     },
     "metadata": {},
     "output_type": "display_data"
    },
    {
     "name": "stdout",
     "output_type": "stream",
     "text": [
      "LR Finder is complete, type {learner_name}.recorder.plot() to see the graph.\n"
     ]
    }
   ],
   "source": [
    "learner.lr_find()"
   ]
  },
  {
   "cell_type": "code",
   "execution_count": 90,
   "id": "3e713946",
   "metadata": {
    "execution": {
     "iopub.execute_input": "2021-08-03T15:35:17.821858Z",
     "iopub.status.busy": "2021-08-03T15:35:17.821023Z",
     "iopub.status.idle": "2021-08-03T15:35:18.202774Z",
     "shell.execute_reply": "2021-08-03T15:35:18.203165Z",
     "shell.execute_reply.started": "2021-08-03T12:56:19.673431Z"
    },
    "papermill": {
     "duration": 0.629125,
     "end_time": "2021-08-03T15:35:18.203316",
     "exception": false,
     "start_time": "2021-08-03T15:35:17.574191",
     "status": "completed"
    },
    "tags": []
   },
   "outputs": [
    {
     "name": "stdout",
     "output_type": "stream",
     "text": [
      "Min numerical gradient: 1.00E-03\n",
      "Min loss divided by 10: 1.45E-04\n"
     ]
    },
    {
     "data": {
      "image/png": "[encoded data removed]",
      "text/plain": [
       "<Figure size 432x288 with 1 Axes>"
      ]
     },
     "metadata": {
      "needs_background": "light"
     },
     "output_type": "display_data"
    }
   ],
   "source": [
    "learner.recorder.plot(skip_end=10,suggestion=True)"
   ]
  },
  {
   "cell_type": "code",
   "execution_count": 91,
   "id": "4fe12f56",
   "metadata": {
    "execution": {
     "iopub.execute_input": "2021-08-03T15:35:18.684918Z",
     "iopub.status.busy": "2021-08-03T15:35:18.684064Z",
     "iopub.status.idle": "2021-08-03T15:36:01.018448Z",
     "shell.execute_reply": "2021-08-03T15:36:01.017978Z",
     "shell.execute_reply.started": "2021-08-03T12:56:20.245197Z"
    },
    "papermill": {
     "duration": 42.577717,
     "end_time": "2021-08-03T15:36:01.018585",
     "exception": false,
     "start_time": "2021-08-03T15:35:18.440868",
     "status": "completed"
    },
    "tags": []
   },
   "outputs": [
    {
     "data": {
      "text/html": [
       "<table border=\"1\" class=\"dataframe\">\n",
       "  <thead>\n",
       "    <tr style=\"text-align: left;\">\n",
       "      <th>epoch</th>\n",
       "      <th>train_loss</th>\n",
       "      <th>valid_loss</th>\n",
       "      <th>accuracy</th>\n",
       "      <th>error_rate</th>\n",
       "      <th>time</th>\n",
       "    </tr>\n",
       "  </thead>\n",
       "  <tbody>\n",
       "    <tr>\n",
       "      <td>0</td>\n",
       "      <td>1.803355</td>\n",
       "      <td>1.787295</td>\n",
       "      <td>0.277916</td>\n",
       "      <td>0.722084</td>\n",
       "      <td>00:41</td>\n",
       "    </tr>\n",
       "  </tbody>\n",
       "</table>"
      ],
      "text/plain": [
       "<IPython.core.display.HTML object>"
      ]
     },
     "metadata": {},
     "output_type": "display_data"
    },
    {
     "data": {
      "image/png": "[encoded data removed]",
      "text/plain": [
       "<Figure size 432x288 with 1 Axes>"
      ]
     },
     "metadata": {},
     "output_type": "display_data"
    }
   ],
   "source": [
    "learner.fit_one_cycle(1, max_lr=1e-4, moms=(0.8,0.7))"
   ]
  },
  {
   "cell_type": "code",
   "execution_count": 92,
   "id": "cd2c17da",
   "metadata": {
    "execution": {
     "iopub.execute_input": "2021-08-03T15:36:01.557666Z",
     "iopub.status.busy": "2021-08-03T15:36:01.556827Z",
     "iopub.status.idle": "2021-08-03T15:36:01.558972Z",
     "shell.execute_reply": "2021-08-03T15:36:01.559461Z",
     "shell.execute_reply.started": "2021-08-03T12:57:03.925933Z"
    },
    "papermill": {
     "duration": 0.275687,
     "end_time": "2021-08-03T15:36:01.559598",
     "exception": false,
     "start_time": "2021-08-03T15:36:01.283911",
     "status": "completed"
    },
    "tags": []
   },
   "outputs": [],
   "source": [
    "learner.freeze_to(-2)"
   ]
  },
  {
   "cell_type": "code",
   "execution_count": 93,
   "id": "fc1bb7f5",
   "metadata": {
    "execution": {
     "iopub.execute_input": "2021-08-03T15:36:02.082634Z",
     "iopub.status.busy": "2021-08-03T15:36:02.081723Z",
     "iopub.status.idle": "2021-08-03T15:36:53.734528Z",
     "shell.execute_reply": "2021-08-03T15:36:53.733365Z",
     "shell.execute_reply.started": "2021-08-03T12:57:03.946435Z"
    },
    "papermill": {
     "duration": 51.920194,
     "end_time": "2021-08-03T15:36:53.734660",
     "exception": false,
     "start_time": "2021-08-03T15:36:01.814466",
     "status": "completed"
    },
    "tags": []
   },
   "outputs": [
    {
     "data": {
      "text/html": [
       "<table border=\"1\" class=\"dataframe\">\n",
       "  <thead>\n",
       "    <tr style=\"text-align: left;\">\n",
       "      <th>epoch</th>\n",
       "      <th>train_loss</th>\n",
       "      <th>valid_loss</th>\n",
       "      <th>accuracy</th>\n",
       "      <th>error_rate</th>\n",
       "      <th>time</th>\n",
       "    </tr>\n",
       "  </thead>\n",
       "  <tbody>\n",
       "    <tr>\n",
       "      <td>0</td>\n",
       "      <td>1.247222</td>\n",
       "      <td>1.123437</td>\n",
       "      <td>0.578164</td>\n",
       "      <td>0.421836</td>\n",
       "      <td>00:51</td>\n",
       "    </tr>\n",
       "  </tbody>\n",
       "</table>"
      ],
      "text/plain": [
       "<IPython.core.display.HTML object>"
      ]
     },
     "metadata": {},
     "output_type": "display_data"
    },
    {
     "data": {
      "image/png": "[encoded data removed]",
      "text/plain": [
       "<Figure size 432x288 with 1 Axes>"
      ]
     },
     "metadata": {},
     "output_type": "display_data"
    }
   ],
   "source": [
    "learner.fit_one_cycle(1, max_lr=1e-4, moms=(0.8,0.7))"
   ]
  },
  {
   "cell_type": "code",
   "execution_count": 94,
   "id": "1d52c9d6",
   "metadata": {
    "execution": {
     "iopub.execute_input": "2021-08-03T15:36:54.229520Z",
     "iopub.status.busy": "2021-08-03T15:36:54.228700Z",
     "iopub.status.idle": "2021-08-03T15:36:54.231245Z",
     "shell.execute_reply": "2021-08-03T15:36:54.230822Z",
     "shell.execute_reply.started": "2021-08-03T12:57:56.40881Z"
    },
    "papermill": {
     "duration": 0.255178,
     "end_time": "2021-08-03T15:36:54.231362",
     "exception": false,
     "start_time": "2021-08-03T15:36:53.976184",
     "status": "completed"
    },
    "tags": []
   },
   "outputs": [],
   "source": [
    "learner.freeze_to(-3)"
   ]
  },
  {
   "cell_type": "code",
   "execution_count": 95,
   "id": "7da77bef",
   "metadata": {
    "execution": {
     "iopub.execute_input": "2021-08-03T15:36:54.714730Z",
     "iopub.status.busy": "2021-08-03T15:36:54.713930Z",
     "iopub.status.idle": "2021-08-03T15:36:54.716941Z",
     "shell.execute_reply": "2021-08-03T15:36:54.716505Z",
     "shell.execute_reply.started": "2021-08-03T12:57:56.44179Z"
    },
    "papermill": {
     "duration": 0.246594,
     "end_time": "2021-08-03T15:36:54.717053",
     "exception": false,
     "start_time": "2021-08-03T15:36:54.470459",
     "status": "completed"
    },
    "tags": []
   },
   "outputs": [],
   "source": [
    "lr = 1e-5"
   ]
  },
  {
   "cell_type": "code",
   "execution_count": 96,
   "id": "4da684e0",
   "metadata": {
    "execution": {
     "iopub.execute_input": "2021-08-03T15:36:55.250029Z",
     "iopub.status.busy": "2021-08-03T15:36:55.249152Z",
     "iopub.status.idle": "2021-08-03T15:37:47.591100Z",
     "shell.execute_reply": "2021-08-03T15:37:47.590613Z",
     "shell.execute_reply.started": "2021-08-03T12:57:56.449811Z"
    },
    "papermill": {
     "duration": 52.601645,
     "end_time": "2021-08-03T15:37:47.591289",
     "exception": false,
     "start_time": "2021-08-03T15:36:54.989644",
     "status": "completed"
    },
    "tags": []
   },
   "outputs": [
    {
     "data": {
      "text/html": [
       "<table border=\"1\" class=\"dataframe\">\n",
       "  <thead>\n",
       "    <tr style=\"text-align: left;\">\n",
       "      <th>epoch</th>\n",
       "      <th>train_loss</th>\n",
       "      <th>valid_loss</th>\n",
       "      <th>accuracy</th>\n",
       "      <th>error_rate</th>\n",
       "      <th>time</th>\n",
       "    </tr>\n",
       "  </thead>\n",
       "  <tbody>\n",
       "    <tr>\n",
       "      <td>0</td>\n",
       "      <td>1.094588</td>\n",
       "      <td>1.083320</td>\n",
       "      <td>0.578164</td>\n",
       "      <td>0.421836</td>\n",
       "      <td>00:52</td>\n",
       "    </tr>\n",
       "  </tbody>\n",
       "</table>"
      ],
      "text/plain": [
       "<IPython.core.display.HTML object>"
      ]
     },
     "metadata": {},
     "output_type": "display_data"
    },
    {
     "data": {
      "image/png": "[encoded data removed]",
      "text/plain": [
       "<Figure size 432x288 with 1 Axes>"
      ]
     },
     "metadata": {},
     "output_type": "display_data"
    }
   ],
   "source": [
    "learner.fit_one_cycle(1, max_lr=slice(lr*0.95**num_groups, lr), moms=(0.8, 0.9))"
   ]
  },
  {
   "cell_type": "code",
   "execution_count": 97,
   "id": "4fad8829",
   "metadata": {
    "execution": {
     "iopub.execute_input": "2021-08-03T15:37:48.095165Z",
     "iopub.status.busy": "2021-08-03T15:37:48.094438Z",
     "iopub.status.idle": "2021-08-03T15:37:48.097366Z",
     "shell.execute_reply": "2021-08-03T15:37:48.096920Z",
     "shell.execute_reply.started": "2021-08-03T12:58:49.154641Z"
    },
    "papermill": {
     "duration": 0.261985,
     "end_time": "2021-08-03T15:37:48.097485",
     "exception": false,
     "start_time": "2021-08-03T15:37:47.835500",
     "status": "completed"
    },
    "tags": []
   },
   "outputs": [],
   "source": [
    "learner.unfreeze()"
   ]
  },
  {
   "cell_type": "code",
   "execution_count": 98,
   "id": "e563524e",
   "metadata": {
    "execution": {
     "iopub.execute_input": "2021-08-03T15:37:48.588094Z",
     "iopub.status.busy": "2021-08-03T15:37:48.587533Z",
     "iopub.status.idle": "2021-08-03T15:45:21.378235Z",
     "shell.execute_reply": "2021-08-03T15:45:21.378637Z",
     "shell.execute_reply.started": "2021-08-03T12:58:49.181914Z"
    },
    "papermill": {
     "duration": 453.039061,
     "end_time": "2021-08-03T15:45:21.378825",
     "exception": false,
     "start_time": "2021-08-03T15:37:48.339764",
     "status": "completed"
    },
    "tags": []
   },
   "outputs": [
    {
     "data": {
      "text/html": [
       "<table border=\"1\" class=\"dataframe\">\n",
       "  <thead>\n",
       "    <tr style=\"text-align: left;\">\n",
       "      <th>epoch</th>\n",
       "      <th>train_loss</th>\n",
       "      <th>valid_loss</th>\n",
       "      <th>accuracy</th>\n",
       "      <th>error_rate</th>\n",
       "      <th>time</th>\n",
       "    </tr>\n",
       "  </thead>\n",
       "  <tbody>\n",
       "    <tr>\n",
       "      <td>0</td>\n",
       "      <td>1.110913</td>\n",
       "      <td>1.087095</td>\n",
       "      <td>0.585608</td>\n",
       "      <td>0.414392</td>\n",
       "      <td>01:54</td>\n",
       "    </tr>\n",
       "    <tr>\n",
       "      <td>1</td>\n",
       "      <td>1.007743</td>\n",
       "      <td>1.022735</td>\n",
       "      <td>0.583127</td>\n",
       "      <td>0.416873</td>\n",
       "      <td>01:46</td>\n",
       "    </tr>\n",
       "    <tr>\n",
       "      <td>2</td>\n",
       "      <td>0.864571</td>\n",
       "      <td>0.978393</td>\n",
       "      <td>0.637717</td>\n",
       "      <td>0.362283</td>\n",
       "      <td>01:53</td>\n",
       "    </tr>\n",
       "    <tr>\n",
       "      <td>3</td>\n",
       "      <td>0.782810</td>\n",
       "      <td>0.977579</td>\n",
       "      <td>0.645161</td>\n",
       "      <td>0.354839</td>\n",
       "      <td>01:58</td>\n",
       "    </tr>\n",
       "  </tbody>\n",
       "</table>"
      ],
      "text/plain": [
       "<IPython.core.display.HTML object>"
      ]
     },
     "metadata": {},
     "output_type": "display_data"
    },
    {
     "data": {
      "image/png": "[encoded data removed]",
      "text/plain": [
       "<Figure size 432x288 with 1 Axes>"
      ]
     },
     "metadata": {},
     "output_type": "display_data"
    }
   ],
   "source": [
    "learner.fit_one_cycle(4, max_lr=slice(lr*0.95**num_groups, lr), moms=(0.8, 0.9))"
   ]
  },
  {
   "cell_type": "code",
   "execution_count": 99,
   "id": "9981a250",
   "metadata": {
    "execution": {
     "iopub.execute_input": "2021-08-03T15:45:21.877305Z",
     "iopub.status.busy": "2021-08-03T15:45:21.876379Z",
     "iopub.status.idle": "2021-08-03T15:45:56.820816Z",
     "shell.execute_reply": "2021-08-03T15:45:56.821232Z",
     "shell.execute_reply.started": "2021-08-03T13:06:38.071412Z"
    },
    "papermill": {
     "duration": 35.196959,
     "end_time": "2021-08-03T15:45:56.821416",
     "exception": false,
     "start_time": "2021-08-03T15:45:21.624457",
     "status": "completed"
    },
    "tags": []
   },
   "outputs": [
    {
     "data": {
      "text/html": [],
      "text/plain": [
       "<IPython.core.display.HTML object>"
      ]
     },
     "metadata": {},
     "output_type": "display_data"
    },
    {
     "name": "stdout",
     "output_type": "stream",
     "text": [
      "              precision    recall  f1-score   support\n",
      "\n",
      "   Appetizer       0.57      0.54      0.56       244\n",
      "     Dessert       0.90      0.86      0.88       219\n",
      "      Dinner       0.28      0.43      0.34       182\n",
      "       Lunch       0.69      0.60      0.64       645\n",
      " Main Course       0.15      0.36      0.21        39\n",
      "   Side Dish       0.62      0.49      0.55       430\n",
      "       Snack       0.62      0.75      0.68       231\n",
      "\n",
      "    accuracy                           0.60      1990\n",
      "   macro avg       0.55      0.58      0.55      1990\n",
      "weighted avg       0.63      0.60      0.61      1990\n",
      "\n"
     ]
    }
   ],
   "source": [
    "test_preds = get_preds_as_nparray(DatasetType.Test)\n",
    "print(metrics.classification_report(np.vectorize(learner_dict.get)(np.argmax(test_preds, axis=1)).astype('object'), test_df.Course.to_numpy()))"
   ]
  },
  {
   "cell_type": "markdown",
   "id": "8196c687",
   "metadata": {
    "papermill": {
     "duration": 0.261447,
     "end_time": "2021-08-03T15:45:57.352576",
     "exception": false,
     "start_time": "2021-08-03T15:45:57.091129",
     "status": "completed"
    },
    "tags": []
   },
   "source": [
    "## **5. Predictive Analysis**"
   ]
  },
  {
   "cell_type": "code",
   "execution_count": 100,
   "id": "d9d2c447",
   "metadata": {
    "execution": {
     "iopub.execute_input": "2021-08-03T15:45:57.904759Z",
     "iopub.status.busy": "2021-08-03T15:45:57.903686Z",
     "iopub.status.idle": "2021-08-03T15:45:57.916493Z",
     "shell.execute_reply": "2021-08-03T15:45:57.915648Z",
     "shell.execute_reply.started": "2021-08-03T13:13:50.270339Z"
    },
    "papermill": {
     "duration": 0.296897,
     "end_time": "2021-08-03T15:45:57.916693",
     "exception": false,
     "start_time": "2021-08-03T15:45:57.619796",
     "status": "completed"
    },
    "tags": []
   },
   "outputs": [],
   "source": [
    "predictions = np.vectorize(learner_dict.get)(np.argmax(test_preds, axis=1)).astype('object')\n",
    "ys = test_df.Course.to_numpy()"
   ]
  },
  {
   "cell_type": "code",
   "execution_count": 101,
   "id": "6ea49e21",
   "metadata": {
    "execution": {
     "iopub.execute_input": "2021-08-03T15:45:58.686848Z",
     "iopub.status.busy": "2021-08-03T15:45:58.685928Z",
     "iopub.status.idle": "2021-08-03T15:45:58.688698Z",
     "shell.execute_reply": "2021-08-03T15:45:58.688264Z",
     "shell.execute_reply.started": "2021-08-03T13:13:53.272651Z"
    },
    "papermill": {
     "duration": 0.328924,
     "end_time": "2021-08-03T15:45:58.688817",
     "exception": false,
     "start_time": "2021-08-03T15:45:58.359893",
     "status": "completed"
    },
    "tags": []
   },
   "outputs": [],
   "source": [
    "test_df[\"predictions\"] = predictions\n",
    "index_inc_pred = np.where((predictions != ys) == True)[0]"
   ]
  },
  {
   "cell_type": "code",
   "execution_count": 102,
   "id": "d8082bf9",
   "metadata": {
    "execution": {
     "iopub.execute_input": "2021-08-03T15:45:59.229726Z",
     "iopub.status.busy": "2021-08-03T15:45:59.228879Z",
     "iopub.status.idle": "2021-08-03T15:45:59.279691Z",
     "shell.execute_reply": "2021-08-03T15:45:59.279078Z",
     "shell.execute_reply.started": "2021-08-03T13:13:55.277955Z"
    },
    "papermill": {
     "duration": 0.320189,
     "end_time": "2021-08-03T15:45:59.279817",
     "exception": false,
     "start_time": "2021-08-03T15:45:58.959628",
     "status": "completed"
    },
    "tags": []
   },
   "outputs": [],
   "source": [
    "inc_pred_dfs = test_df[[\"TranslatedInstructions\", \"Course\", \"predictions\"]].loc[index_inc_pred]\n",
    "inc_pred_dfs.to_csv(\"/kaggle/working/preds.csv\", index=False);"
   ]
  },
  {
   "cell_type": "code",
   "execution_count": 103,
   "id": "c8dfe49c",
   "metadata": {
    "execution": {
     "iopub.execute_input": "2021-08-03T15:45:59.814834Z",
     "iopub.status.busy": "2021-08-03T15:45:59.814062Z",
     "iopub.status.idle": "2021-08-03T15:45:59.817374Z",
     "shell.execute_reply": "2021-08-03T15:45:59.816898Z",
     "shell.execute_reply.started": "2021-08-03T13:13:56.779625Z"
    },
    "papermill": {
     "duration": 0.273786,
     "end_time": "2021-08-03T15:45:59.817494",
     "exception": false,
     "start_time": "2021-08-03T15:45:59.543708",
     "status": "completed"
    },
    "tags": []
   },
   "outputs": [],
   "source": [
    "inc_pred_dfs.reset_index(drop=True, inplace=True)"
   ]
  },
  {
   "cell_type": "code",
   "execution_count": 104,
   "id": "32d56472",
   "metadata": {
    "execution": {
     "iopub.execute_input": "2021-08-03T15:46:00.348066Z",
     "iopub.status.busy": "2021-08-03T15:46:00.347104Z",
     "iopub.status.idle": "2021-08-03T15:46:00.360574Z",
     "shell.execute_reply": "2021-08-03T15:46:00.359977Z",
     "shell.execute_reply.started": "2021-08-03T13:18:05.165959Z"
    },
    "papermill": {
     "duration": 0.283201,
     "end_time": "2021-08-03T15:46:00.360706",
     "exception": false,
     "start_time": "2021-08-03T15:46:00.077505",
     "status": "completed"
    },
    "tags": []
   },
   "outputs": [
    {
     "data": {
      "text/html": [
       "<div>\n",
       "<style scoped>\n",
       "    .dataframe tbody tr th:only-of-type {\n",
       "        vertical-align: middle;\n",
       "    }\n",
       "\n",
       "    .dataframe tbody tr th {\n",
       "        vertical-align: top;\n",
       "    }\n",
       "\n",
       "    .dataframe thead th {\n",
       "        text-align: right;\n",
       "    }\n",
       "</style>\n",
       "<table border=\"1\" class=\"dataframe\">\n",
       "  <thead>\n",
       "    <tr style=\"text-align: right;\">\n",
       "      <th></th>\n",
       "      <th>TranslatedInstructions</th>\n",
       "      <th>Course</th>\n",
       "      <th>predictions</th>\n",
       "    </tr>\n",
       "  </thead>\n",
       "  <tbody>\n",
       "    <tr>\n",
       "      <th>0</th>\n",
       "      <td>To begin making the Haleem Ke Kebab Recipe, in...</td>\n",
       "      <td>Appetizer</td>\n",
       "      <td>Side Dish</td>\n",
       "    </tr>\n",
       "    <tr>\n",
       "      <th>1</th>\n",
       "      <td>To prepare Broccoli Bell Pepper Cheese Quesadi...</td>\n",
       "      <td>Lunch</td>\n",
       "      <td>Appetizer</td>\n",
       "    </tr>\n",
       "    <tr>\n",
       "      <th>2</th>\n",
       "      <td>To begin making the Konkani Style Vali Bendi R...</td>\n",
       "      <td>Side Dish</td>\n",
       "      <td>Lunch</td>\n",
       "    </tr>\n",
       "    <tr>\n",
       "      <th>3</th>\n",
       "      <td>To begin making the Chicken Tikka Masala, thor...</td>\n",
       "      <td>Lunch</td>\n",
       "      <td>Dinner</td>\n",
       "    </tr>\n",
       "    <tr>\n",
       "      <th>4</th>\n",
       "      <td>To begin making Beetroot, Sweet Potato and Oat...</td>\n",
       "      <td>Appetizer</td>\n",
       "      <td>Snack</td>\n",
       "    </tr>\n",
       "    <tr>\n",
       "      <th>...</th>\n",
       "      <td>...</td>\n",
       "      <td>...</td>\n",
       "      <td>...</td>\n",
       "    </tr>\n",
       "    <tr>\n",
       "      <th>799</th>\n",
       "      <td>To begin making the Chettinad Mutton Chops Kuz...</td>\n",
       "      <td>Lunch</td>\n",
       "      <td>Side Dish</td>\n",
       "    </tr>\n",
       "    <tr>\n",
       "      <th>800</th>\n",
       "      <td>To begin making the Karwar Style Kelya Sasav R...</td>\n",
       "      <td>Snack</td>\n",
       "      <td>Side Dish</td>\n",
       "    </tr>\n",
       "    <tr>\n",
       "      <th>801</th>\n",
       "      <td>To begin making green moong ki sabzi, firstly ...</td>\n",
       "      <td>Side Dish</td>\n",
       "      <td>Lunch</td>\n",
       "    </tr>\n",
       "    <tr>\n",
       "      <th>802</th>\n",
       "      <td>To begin making the Kale Chane Ki Kadhi Recipe...</td>\n",
       "      <td>Dinner</td>\n",
       "      <td>Lunch</td>\n",
       "    </tr>\n",
       "    <tr>\n",
       "      <th>803</th>\n",
       "      <td>To prepare Puli Koozh Recipe (Rice Flour Porri...</td>\n",
       "      <td>Lunch</td>\n",
       "      <td>Side Dish</td>\n",
       "    </tr>\n",
       "  </tbody>\n",
       "</table>\n",
       "<p>804 rows × 3 columns</p>\n",
       "</div>"
      ],
      "text/plain": [
       "                                TranslatedInstructions     Course predictions\n",
       "0    To begin making the Haleem Ke Kebab Recipe, in...  Appetizer   Side Dish\n",
       "1    To prepare Broccoli Bell Pepper Cheese Quesadi...      Lunch   Appetizer\n",
       "2    To begin making the Konkani Style Vali Bendi R...  Side Dish       Lunch\n",
       "3    To begin making the Chicken Tikka Masala, thor...      Lunch      Dinner\n",
       "4    To begin making Beetroot, Sweet Potato and Oat...  Appetizer       Snack\n",
       "..                                                 ...        ...         ...\n",
       "799  To begin making the Chettinad Mutton Chops Kuz...      Lunch   Side Dish\n",
       "800  To begin making the Karwar Style Kelya Sasav R...      Snack   Side Dish\n",
       "801  To begin making green moong ki sabzi, firstly ...  Side Dish       Lunch\n",
       "802  To begin making the Kale Chane Ki Kadhi Recipe...     Dinner       Lunch\n",
       "803  To prepare Puli Koozh Recipe (Rice Flour Porri...      Lunch   Side Dish\n",
       "\n",
       "[804 rows x 3 columns]"
      ]
     },
     "execution_count": 104,
     "metadata": {},
     "output_type": "execute_result"
    }
   ],
   "source": [
    "inc_pred_dfs"
   ]
  },
  {
   "cell_type": "code",
   "execution_count": 105,
   "id": "67c1260d",
   "metadata": {
    "execution": {
     "iopub.execute_input": "2021-08-03T15:46:00.888981Z",
     "iopub.status.busy": "2021-08-03T15:46:00.888234Z",
     "iopub.status.idle": "2021-08-03T15:46:00.891960Z",
     "shell.execute_reply": "2021-08-03T15:46:00.892445Z",
     "shell.execute_reply.started": "2021-08-03T13:20:54.794323Z"
    },
    "papermill": {
     "duration": 0.272001,
     "end_time": "2021-08-03T15:46:00.892595",
     "exception": false,
     "start_time": "2021-08-03T15:46:00.620594",
     "status": "completed"
    },
    "tags": []
   },
   "outputs": [
    {
     "name": "stdout",
     "output_type": "stream",
     "text": [
      "To begin making the Chicken Tikka Masala, thoroughly clean and wash the chicken pieces. To marinate the Chicken for the Chicken Tikka Masala, in a mixing bowl, combine yogurt, cumin powder, coriander powder, turmeric powder, ginger, garlic, chili powder, kasuri methi and salt along with the chicken. Allow the chicken to marinate for a minimum of 30 minutes. Once the chicken is marinated, in a pan, add a teaspoon of oil and cook marinated chicken pieces until they are cooked well for about 8 minutes. The chicken pieces should be juicy and tender.Cooking chicken for an extended time will make them hard and rubbery. Do not add water.The next step is to make the tikka masala gravy. Heat a teaspoon of oil over medium heat. Add onion and cook until they become translucent. Add tomatoes and cook them for about two minutes. Add cashews and toss them for a minute. Allow the onion tomato masala to cool down.Once it cools down, grind onion, tomato, and cashew into a fine paste.Heat a kadai/wok with a tablespoon of butter. Once the butter melts, add cloves, cinnamon powder, and cardamom powder and saute until aroma comes out.Add cumin powder and coriander powder and combine them well.Add the onion-tomato-cashew puree to the pan, combine them well and saute for few minutes.Crush kasuri methi with your hand and add to the tikka masala gravy. Add the marinated chicken pieces, required amount of salt and cream. Toss the chicken tikka masala well so that they are combined well.Simmer the chicken tikka masala for about 5 minutes. If the tikka masala is of thicker consistency, adjust addition of water according to your requirements.Switch off heat and garnish the chicken tikka masala with coriander leaves and it is ready to be served.Serve Chicken Tikka Masala with Dhaba Style Spicy Ghee Rice Recipe Made From Whole Spices or Butter Garlic Naan Recipe (Garlic Flavoured Flat Bread) and Pickled onions for a complete Weekend dinner.\n",
      "\n",
      "Lunch\n",
      "Dinner\n"
     ]
    }
   ],
   "source": [
    "print(inc_pred_dfs.iloc[3].TranslatedInstructions)\n",
    "print(inc_pred_dfs.iloc[3].Course)\n",
    "print(inc_pred_dfs.iloc[3].predictions)"
   ]
  },
  {
   "cell_type": "code",
   "execution_count": 106,
   "id": "43ebf421",
   "metadata": {
    "execution": {
     "iopub.execute_input": "2021-08-03T15:46:01.436939Z",
     "iopub.status.busy": "2021-08-03T15:46:01.436127Z",
     "iopub.status.idle": "2021-08-03T15:46:01.486860Z",
     "shell.execute_reply": "2021-08-03T15:46:01.486455Z",
     "shell.execute_reply.started": "2021-08-03T13:31:16.216948Z"
    },
    "papermill": {
     "duration": 0.331174,
     "end_time": "2021-08-03T15:46:01.486978",
     "exception": false,
     "start_time": "2021-08-03T15:46:01.155804",
     "status": "completed"
    },
    "tags": []
   },
   "outputs": [
    {
     "data": {
      "text/plain": [
       "(Category Side Dish,\n",
       " tensor(5),\n",
       " tensor([1.3936e-02, 1.2785e-04, 2.6392e-01, 2.0880e-01, 2.0388e-01, 3.0923e-01,\n",
       "         1.0462e-04]))"
      ]
     },
     "execution_count": 106,
     "metadata": {},
     "output_type": "execute_result"
    }
   ],
   "source": [
    "learner.predict(clean(inc_pred_dfs.iloc[3].TranslatedInstructions))"
   ]
  },
  {
   "cell_type": "code",
   "execution_count": 107,
   "id": "4917b11d",
   "metadata": {
    "execution": {
     "iopub.execute_input": "2021-08-03T15:46:02.023408Z",
     "iopub.status.busy": "2021-08-03T15:46:02.022721Z",
     "iopub.status.idle": "2021-08-03T15:46:02.025850Z",
     "shell.execute_reply": "2021-08-03T15:46:02.026271Z",
     "shell.execute_reply.started": "2021-08-03T13:31:17.910968Z"
    },
    "papermill": {
     "duration": 0.27244,
     "end_time": "2021-08-03T15:46:02.026404",
     "exception": false,
     "start_time": "2021-08-03T15:46:01.753964",
     "status": "completed"
    },
    "tags": []
   },
   "outputs": [
    {
     "data": {
      "text/plain": [
       "{0: 'Appetizer',\n",
       " 1: 'Dessert',\n",
       " 2: 'Dinner',\n",
       " 3: 'Lunch',\n",
       " 4: 'Main Course',\n",
       " 5: 'Side Dish',\n",
       " 6: 'Snack'}"
      ]
     },
     "execution_count": 107,
     "metadata": {},
     "output_type": "execute_result"
    }
   ],
   "source": [
    "learner_dict"
   ]
  },
  {
   "cell_type": "markdown",
   "id": "b5bbb424",
   "metadata": {
    "papermill": {
     "duration": 0.261374,
     "end_time": "2021-08-03T15:46:02.555863",
     "exception": false,
     "start_time": "2021-08-03T15:46:02.294489",
     "status": "completed"
    },
    "tags": []
   },
   "source": [
    "#### **Observations**\n",
    "\n",
    "- From this instruction for making `Chicken Tikka Masala`, it is inferenced that this meal belongs to `Dinner` Course as per the instructions given.\n",
    "- But as we all know `Chicken Tikka Masala` can be considered for `Dinner`, `Lunch`, `Main Course` as well as `Side Dish`.\n",
    "- From the above code, we checked the class probabilty for different `Courses`, and noticed that the model (Roberta) is uncertain whether it should be `2, 3, 4, or 5 classes` which are the codes for `Dinner`, `Lunch`, `Main Course` & `Side Dish`."
   ]
  },
  {
   "cell_type": "markdown",
   "id": "8d987909",
   "metadata": {
    "papermill": {
     "duration": 0.267148,
     "end_time": "2021-08-03T15:46:03.087844",
     "exception": false,
     "start_time": "2021-08-03T15:46:02.820696",
     "status": "completed"
    },
    "tags": []
   },
   "source": [
    "> Let's check if this is the case for other meals as well."
   ]
  },
  {
   "cell_type": "code",
   "execution_count": 108,
   "id": "fc17b70c",
   "metadata": {
    "execution": {
     "iopub.execute_input": "2021-08-03T15:46:03.632173Z",
     "iopub.status.busy": "2021-08-03T15:46:03.631391Z",
     "iopub.status.idle": "2021-08-03T15:46:22.359776Z",
     "shell.execute_reply": "2021-08-03T15:46:22.359143Z",
     "shell.execute_reply.started": "2021-08-03T13:52:29.172562Z"
    },
    "papermill": {
     "duration": 19.00565,
     "end_time": "2021-08-03T15:46:22.359917",
     "exception": false,
     "start_time": "2021-08-03T15:46:03.354267",
     "status": "completed"
    },
    "tags": []
   },
   "outputs": [],
   "source": [
    "preds = []\n",
    "for index, row in inc_pred_dfs.iterrows():\n",
    "    preds.append(learner.predict(clean(row.TranslatedInstructions))[2])"
   ]
  },
  {
   "cell_type": "code",
   "execution_count": 109,
   "id": "40a7706d",
   "metadata": {
    "execution": {
     "iopub.execute_input": "2021-08-03T15:46:22.851870Z",
     "iopub.status.busy": "2021-08-03T15:46:22.851332Z",
     "iopub.status.idle": "2021-08-03T15:46:22.855334Z",
     "shell.execute_reply": "2021-08-03T15:46:22.854887Z",
     "shell.execute_reply.started": "2021-08-03T14:01:16.328555Z"
    },
    "papermill": {
     "duration": 0.251115,
     "end_time": "2021-08-03T15:46:22.855453",
     "exception": false,
     "start_time": "2021-08-03T15:46:22.604338",
     "status": "completed"
    },
    "tags": []
   },
   "outputs": [],
   "source": [
    "torch.set_printoptions(linewidth=100)"
   ]
  },
  {
   "cell_type": "code",
   "execution_count": 110,
   "id": "479fe363",
   "metadata": {
    "execution": {
     "iopub.execute_input": "2021-08-03T15:46:23.346190Z",
     "iopub.status.busy": "2021-08-03T15:46:23.345464Z",
     "iopub.status.idle": "2021-08-03T15:46:23.353197Z",
     "shell.execute_reply": "2021-08-03T15:46:23.353634Z",
     "shell.execute_reply.started": "2021-08-03T14:07:41.232378Z"
    },
    "papermill": {
     "duration": 0.255472,
     "end_time": "2021-08-03T15:46:23.353767",
     "exception": false,
     "start_time": "2021-08-03T15:46:23.098295",
     "status": "completed"
    },
    "tags": []
   },
   "outputs": [
    {
     "data": {
      "text/plain": [
       "tensor([[8.8398e-01, 6.0092e-05, 5.9310e-03, 2.2042e-03, 5.5582e-03, 7.7834e-02, 2.4437e-02],\n",
       "        [5.3004e-01, 1.8450e-04, 1.3755e-01, 4.8238e-02, 2.2113e-02, 2.3040e-01, 3.1476e-02],\n",
       "        [1.7215e-03, 7.3632e-05, 4.0946e-02, 6.8606e-01, 8.4136e-02, 1.8674e-01, 3.2685e-04],\n",
       "        [1.3936e-02, 1.2785e-04, 2.6392e-01, 2.0880e-01, 2.0388e-01, 3.0923e-01, 1.0462e-04],\n",
       "        [6.0890e-02, 4.4942e-03, 2.5265e-04, 4.2744e-04, 1.2701e-04, 6.4866e-03, 9.2732e-01],\n",
       "        [3.7778e-03, 8.5179e-05, 1.2504e-01, 4.3341e-01, 1.2056e-01, 3.1706e-01, 7.3538e-05],\n",
       "        [1.1363e-01, 3.6235e-04, 4.2749e-02, 4.9589e-01, 3.4192e-02, 2.9299e-01, 2.0180e-02],\n",
       "        [6.0267e-02, 5.3415e-03, 7.3358e-04, 1.6548e-03, 2.7774e-04, 8.6667e-02, 8.4506e-01],\n",
       "        [5.1324e-01, 9.5350e-04, 1.3897e-02, 3.6355e-03, 1.2055e-03, 3.9326e-01, 7.3808e-02],\n",
       "        [4.8201e-03, 2.3264e-05, 3.3697e-01, 3.7869e-01, 2.7747e-02, 2.5162e-01, 1.2769e-04]])"
      ]
     },
     "execution_count": 110,
     "metadata": {},
     "output_type": "execute_result"
    }
   ],
   "source": [
    "torch.stack(preds)[0:10, :]"
   ]
  },
  {
   "cell_type": "markdown",
   "id": "aee1a38f",
   "metadata": {
    "papermill": {
     "duration": 0.243835,
     "end_time": "2021-08-03T15:46:23.839612",
     "exception": false,
     "start_time": "2021-08-03T15:46:23.595777",
     "status": "completed"
    },
    "tags": []
   },
   "source": [
    "#### **Inference**\n",
    "\n",
    "An interpretation can also be drawn from the probabilty distribution of incorrectly predicted type of `Course`, that most of these probabilty vectors have very similar probabilties for classes `2, 3, 4, & 5` which correspond to `Dinner`, `Lunch`, `Main Course` & `Side Dish` Courses."
   ]
  },
  {
   "cell_type": "markdown",
   "id": "7b877eea",
   "metadata": {
    "papermill": {
     "duration": 0.24414,
     "end_time": "2021-08-03T15:46:24.368191",
     "exception": false,
     "start_time": "2021-08-03T15:46:24.124051",
     "status": "completed"
    },
    "tags": []
   },
   "source": [
    "## **6. Conclusion(s)**"
   ]
  },
  {
   "cell_type": "markdown",
   "id": "1792a75a",
   "metadata": {
    "papermill": {
     "duration": 0.244165,
     "end_time": "2021-08-03T15:46:24.856558",
     "exception": false,
     "start_time": "2021-08-03T15:46:24.612393",
     "status": "completed"
    },
    "tags": []
   },
   "source": [
    "* #### The 6000 Indian Food Recipes Dataset is a collection of various food recipes in India. I was given a task to create a model for `Course` prediction from Instruction of the recipes along with other meta-data like Ingredients, cooking time, etc.\n",
    "\n",
    "* #### In this NoteBook, I worked on a model to map this relationship as a function (ML/DL model). I applied various classsic word embedding models such as Tf-idf, word2vec and then used multiple classifiers on top of these features to find the best `Course` type.\n",
    "\n",
    "* #### Since transformer models are such widely used in NLP tasks, I created (Distil Bert, Roberta) transformer models with the help of transformers library along with fastai library.\n",
    "\n",
    "* #### After building these models, I also did some predictive analysis based on the predictions produced by Roberta-transformer model and found out that a lot miss-classifications are because of poor data quality. As I found out that a lot of these dishes can and are offered in multple `Courses` and the model is also confused between the possible outcomes as we saw in the previous section.\n",
    "\n",
    "* #### Finally, my opnion is that to get the best results for the problem that we are trying to solve i.e. `Course` Prediction, we need to first transform the data into a multi-labelled dataset, and then create a model that handle that data and predict the precise `Courses` (multiple if required) that a dish can be offered at."
   ]
  },
  {
   "cell_type": "markdown",
   "id": "577f7a77",
   "metadata": {
    "execution": {
     "iopub.execute_input": "2021-08-03T08:53:33.512443Z",
     "iopub.status.busy": "2021-08-03T08:53:33.512051Z",
     "iopub.status.idle": "2021-08-03T08:53:33.517277Z",
     "shell.execute_reply": "2021-08-03T08:53:33.516226Z",
     "shell.execute_reply.started": "2021-08-03T08:53:33.512405Z"
    },
    "papermill": {
     "duration": 0.243207,
     "end_time": "2021-08-03T15:46:25.346095",
     "exception": false,
     "start_time": "2021-08-03T15:46:25.102888",
     "status": "completed"
    },
    "tags": []
   },
   "source": [
    "## **EOF**"
   ]
  },
  {
   "cell_type": "code",
   "execution_count": null,
   "id": "09d79392",
   "metadata": {
    "papermill": {
     "duration": 0.242481,
     "end_time": "2021-08-03T15:46:25.838449",
     "exception": false,
     "start_time": "2021-08-03T15:46:25.595968",
     "status": "completed"
    },
    "tags": []
   },
   "outputs": [],
   "source": []
  }
 ],
 "metadata": {
  "kernelspec": {
   "display_name": "Python 3",
   "language": "python",
   "name": "python3"
  },
  "language_info": {
   "codemirror_mode": {
    "name": "ipython",
    "version": 3
   },
   "file_extension": ".py",
   "mimetype": "text/x-python",
   "name": "python",
   "nbconvert_exporter": "python",
   "pygments_lexer": "ipython3",
   "version": "3.7.10"
  },
  "papermill": {
   "default_parameters": {},
   "duration": 1470.652519,
   "end_time": "2021-08-03T15:46:28.962627",
   "environment_variables": {},
   "exception": null,
   "input_path": "__notebook__.ipynb",
   "output_path": "__notebook__.ipynb",
   "parameters": {},
   "start_time": "2021-08-03T15:21:58.310108",
   "version": "2.3.3"
  },
  "widgets": {
   "application/vnd.jupyter.widget-state+json": {
    "state": {
     "00cad0d09e9f43c49789b6dc9b0beaa5": {
      "model_module": "@jupyter-widgets/controls",
      "model_module_version": "1.5.0",
      "model_name": "HTMLModel",
      "state": {
       "_dom_classes": [],
       "_model_module": "@jupyter-widgets/controls",
       "_model_module_version": "1.5.0",
       "_model_name": "HTMLModel",
       "_view_count": null,
       "_view_module": "@jupyter-widgets/controls",
       "_view_module_version": "1.5.0",
       "_view_name": "HTMLView",
       "description": "",
       "description_tooltip": null,
       "layout": "IPY_MODEL_fa4c735340b04a9cbc9028e169043110",
       "placeholder": "​",
       "style": "IPY_MODEL_01a56376f0bd495ca2e89eab48dd80c5",
       "value": " 481/481 [00:00&lt;00:00, 17.1kB/s]"
      }
     },
     "01a56376f0bd495ca2e89eab48dd80c5": {
      "model_module": "@jupyter-widgets/controls",
      "model_module_version": "1.5.0",
      "model_name": "DescriptionStyleModel",
      "state": {
       "_model_module": "@jupyter-widgets/controls",
       "_model_module_version": "1.5.0",
       "_model_name": "DescriptionStyleModel",
       "_view_count": null,
       "_view_module": "@jupyter-widgets/base",
       "_view_module_version": "1.2.0",
       "_view_name": "StyleView",
       "description_width": ""
      }
     },
     "01cf080bb4664ed5971cec4a54d5482c": {
      "model_module": "@jupyter-widgets/controls",
      "model_module_version": "1.5.0",
      "model_name": "ProgressStyleModel",
      "state": {
       "_model_module": "@jupyter-widgets/controls",
       "_model_module_version": "1.5.0",
       "_model_name": "ProgressStyleModel",
       "_view_count": null,
       "_view_module": "@jupyter-widgets/base",
       "_view_module_version": "1.2.0",
       "_view_name": "StyleView",
       "bar_color": null,
       "description_width": ""
      }
     },
     "04ea8e0659a7476ba8c57c432f4c6f53": {
      "model_module": "@jupyter-widgets/controls",
      "model_module_version": "1.5.0",
      "model_name": "HBoxModel",
      "state": {
       "_dom_classes": [],
       "_model_module": "@jupyter-widgets/controls",
       "_model_module_version": "1.5.0",
       "_model_name": "HBoxModel",
       "_view_count": null,
       "_view_module": "@jupyter-widgets/controls",
       "_view_module_version": "1.5.0",
       "_view_name": "HBoxView",
       "box_style": "",
       "children": [
        "IPY_MODEL_5eaf228d80da41b4bc58802266448999",
        "IPY_MODEL_12e0c388d2f843959fb3d252c5c14c27",
        "IPY_MODEL_f31116222db446f8ac28b7e67c13f789"
       ],
       "layout": "IPY_MODEL_3055f42914c04d7f9c54bc6ac296d78b"
      }
     },
     "0737de50b31a43ac830866a3a3468d2c": {
      "model_module": "@jupyter-widgets/base",
      "model_module_version": "1.2.0",
      "model_name": "LayoutModel",
      "state": {
       "_model_module": "@jupyter-widgets/base",
       "_model_module_version": "1.2.0",
       "_model_name": "LayoutModel",
       "_view_count": null,
       "_view_module": "@jupyter-widgets/base",
       "_view_module_version": "1.2.0",
       "_view_name": "LayoutView",
       "align_content": null,
       "align_items": null,
       "align_self": null,
       "border": null,
       "bottom": null,
       "display": null,
       "flex": null,
       "flex_flow": null,
       "grid_area": null,
       "grid_auto_columns": null,
       "grid_auto_flow": null,
       "grid_auto_rows": null,
       "grid_column": null,
       "grid_gap": null,
       "grid_row": null,
       "grid_template_areas": null,
       "grid_template_columns": null,
       "grid_template_rows": null,
       "height": null,
       "justify_content": null,
       "justify_items": null,
       "left": null,
       "margin": null,
       "max_height": null,
       "max_width": null,
       "min_height": null,
       "min_width": null,
       "object_fit": null,
       "object_position": null,
       "order": null,
       "overflow": null,
       "overflow_x": null,
       "overflow_y": null,
       "padding": null,
       "right": null,
       "top": null,
       "visibility": null,
       "width": null
      }
     },
     "09a149926cc04f0aa7af03bd1d38128b": {
      "model_module": "@jupyter-widgets/base",
      "model_module_version": "1.2.0",
      "model_name": "LayoutModel",
      "state": {
       "_model_module": "@jupyter-widgets/base",
       "_model_module_version": "1.2.0",
       "_model_name": "LayoutModel",
       "_view_count": null,
       "_view_module": "@jupyter-widgets/base",
       "_view_module_version": "1.2.0",
       "_view_name": "LayoutView",
       "align_content": null,
       "align_items": null,
       "align_self": null,
       "border": null,
       "bottom": null,
       "display": null,
       "flex": null,
       "flex_flow": null,
       "grid_area": null,
       "grid_auto_columns": null,
       "grid_auto_flow": null,
       "grid_auto_rows": null,
       "grid_column": null,
       "grid_gap": null,
       "grid_row": null,
       "grid_template_areas": null,
       "grid_template_columns": null,
       "grid_template_rows": null,
       "height": null,
       "justify_content": null,
       "justify_items": null,
       "left": null,
       "margin": null,
       "max_height": null,
       "max_width": null,
       "min_height": null,
       "min_width": null,
       "object_fit": null,
       "object_position": null,
       "order": null,
       "overflow": null,
       "overflow_x": null,
       "overflow_y": null,
       "padding": null,
       "right": null,
       "top": null,
       "visibility": null,
       "width": null
      }
     },
     "09ca0358cfc0440c80ce26f7a1549b89": {
      "model_module": "@jupyter-widgets/base",
      "model_module_version": "1.2.0",
      "model_name": "LayoutModel",
      "state": {
       "_model_module": "@jupyter-widgets/base",
       "_model_module_version": "1.2.0",
       "_model_name": "LayoutModel",
       "_view_count": null,
       "_view_module": "@jupyter-widgets/base",
       "_view_module_version": "1.2.0",
       "_view_name": "LayoutView",
       "align_content": null,
       "align_items": null,
       "align_self": null,
       "border": null,
       "bottom": null,
       "display": null,
       "flex": null,
       "flex_flow": null,
       "grid_area": null,
       "grid_auto_columns": null,
       "grid_auto_flow": null,
       "grid_auto_rows": null,
       "grid_column": null,
       "grid_gap": null,
       "grid_row": null,
       "grid_template_areas": null,
       "grid_template_columns": null,
       "grid_template_rows": null,
       "height": null,
       "justify_content": null,
       "justify_items": null,
       "left": null,
       "margin": null,
       "max_height": null,
       "max_width": null,
       "min_height": null,
       "min_width": null,
       "object_fit": null,
       "object_position": null,
       "order": null,
       "overflow": null,
       "overflow_x": null,
       "overflow_y": null,
       "padding": null,
       "right": null,
       "top": null,
       "visibility": null,
       "width": null
      }
     },
     "0a272bdd87224b2e906cec6966558a28": {
      "model_module": "@jupyter-widgets/base",
      "model_module_version": "1.2.0",
      "model_name": "LayoutModel",
      "state": {
       "_model_module": "@jupyter-widgets/base",
       "_model_module_version": "1.2.0",
       "_model_name": "LayoutModel",
       "_view_count": null,
       "_view_module": "@jupyter-widgets/base",
       "_view_module_version": "1.2.0",
       "_view_name": "LayoutView",
       "align_content": null,
       "align_items": null,
       "align_self": null,
       "border": null,
       "bottom": null,
       "display": null,
       "flex": null,
       "flex_flow": null,
       "grid_area": null,
       "grid_auto_columns": null,
       "grid_auto_flow": null,
       "grid_auto_rows": null,
       "grid_column": null,
       "grid_gap": null,
       "grid_row": null,
       "grid_template_areas": null,
       "grid_template_columns": null,
       "grid_template_rows": null,
       "height": null,
       "justify_content": null,
       "justify_items": null,
       "left": null,
       "margin": null,
       "max_height": null,
       "max_width": null,
       "min_height": null,
       "min_width": null,
       "object_fit": null,
       "object_position": null,
       "order": null,
       "overflow": null,
       "overflow_x": null,
       "overflow_y": null,
       "padding": null,
       "right": null,
       "top": null,
       "visibility": null,
       "width": null
      }
     },
     "0ac74f5d55664cd3ab670f8b4accccd3": {
      "model_module": "@jupyter-widgets/base",
      "model_module_version": "1.2.0",
      "model_name": "LayoutModel",
      "state": {
       "_model_module": "@jupyter-widgets/base",
       "_model_module_version": "1.2.0",
       "_model_name": "LayoutModel",
       "_view_count": null,
       "_view_module": "@jupyter-widgets/base",
       "_view_module_version": "1.2.0",
       "_view_name": "LayoutView",
       "align_content": null,
       "align_items": null,
       "align_self": null,
       "border": null,
       "bottom": null,
       "display": null,
       "flex": null,
       "flex_flow": null,
       "grid_area": null,
       "grid_auto_columns": null,
       "grid_auto_flow": null,
       "grid_auto_rows": null,
       "grid_column": null,
       "grid_gap": null,
       "grid_row": null,
       "grid_template_areas": null,
       "grid_template_columns": null,
       "grid_template_rows": null,
       "height": null,
       "justify_content": null,
       "justify_items": null,
       "left": null,
       "margin": null,
       "max_height": null,
       "max_width": null,
       "min_height": null,
       "min_width": null,
       "object_fit": null,
       "object_position": null,
       "order": null,
       "overflow": null,
       "overflow_x": null,
       "overflow_y": null,
       "padding": null,
       "right": null,
       "top": null,
       "visibility": null,
       "width": null
      }
     },
     "0cf4701d148c432ba8672b0139fbdddc": {
      "model_module": "@jupyter-widgets/controls",
      "model_module_version": "1.5.0",
      "model_name": "HTMLModel",
      "state": {
       "_dom_classes": [],
       "_model_module": "@jupyter-widgets/controls",
       "_model_module_version": "1.5.0",
       "_model_name": "HTMLModel",
       "_view_count": null,
       "_view_module": "@jupyter-widgets/controls",
       "_view_module_version": "1.5.0",
       "_view_name": "HTMLView",
       "description": "",
       "description_tooltip": null,
       "layout": "IPY_MODEL_345e1ef6b1034a22bdf057eb4635e1cb",
       "placeholder": "​",
       "style": "IPY_MODEL_391838ffd7cf42bbbd0d3ec0c505a270",
       "value": " 456k/456k [00:00&lt;00:00, 1.02MB/s]"
      }
     },
     "12e0c388d2f843959fb3d252c5c14c27": {
      "model_module": "@jupyter-widgets/controls",
      "model_module_version": "1.5.0",
      "model_name": "FloatProgressModel",
      "state": {
       "_dom_classes": [],
       "_model_module": "@jupyter-widgets/controls",
       "_model_module_version": "1.5.0",
       "_model_name": "FloatProgressModel",
       "_view_count": null,
       "_view_module": "@jupyter-widgets/controls",
       "_view_module_version": "1.5.0",
       "_view_name": "ProgressView",
       "bar_style": "success",
       "description": "",
       "description_tooltip": null,
       "layout": "IPY_MODEL_bf0bc9b29f4746b39dfe912e4e1768c6",
       "max": 267967963.0,
       "min": 0.0,
       "orientation": "horizontal",
       "style": "IPY_MODEL_6090a4cb81d74388a5bda11d56c63811",
       "value": 267967963.0
      }
     },
     "1cb67817be0143918f096f2ae10092b5": {
      "model_module": "@jupyter-widgets/controls",
      "model_module_version": "1.5.0",
      "model_name": "HTMLModel",
      "state": {
       "_dom_classes": [],
       "_model_module": "@jupyter-widgets/controls",
       "_model_module_version": "1.5.0",
       "_model_name": "HTMLModel",
       "_view_count": null,
       "_view_module": "@jupyter-widgets/controls",
       "_view_module_version": "1.5.0",
       "_view_name": "HTMLView",
       "description": "",
       "description_tooltip": null,
       "layout": "IPY_MODEL_9dcad40001dc4559a5c91ea2987333fe",
       "placeholder": "​",
       "style": "IPY_MODEL_40fc51b0b8834a9cac8096aaeb3b2e99",
       "value": "Downloading: 100%"
      }
     },
     "1fa1e8bee27641eb8bddf9b5297dc8bd": {
      "model_module": "@jupyter-widgets/base",
      "model_module_version": "1.2.0",
      "model_name": "LayoutModel",
      "state": {
       "_model_module": "@jupyter-widgets/base",
       "_model_module_version": "1.2.0",
       "_model_name": "LayoutModel",
       "_view_count": null,
       "_view_module": "@jupyter-widgets/base",
       "_view_module_version": "1.2.0",
       "_view_name": "LayoutView",
       "align_content": null,
       "align_items": null,
       "align_self": null,
       "border": null,
       "bottom": null,
       "display": null,
       "flex": null,
       "flex_flow": null,
       "grid_area": null,
       "grid_auto_columns": null,
       "grid_auto_flow": null,
       "grid_auto_rows": null,
       "grid_column": null,
       "grid_gap": null,
       "grid_row": null,
       "grid_template_areas": null,
       "grid_template_columns": null,
       "grid_template_rows": null,
       "height": null,
       "justify_content": null,
       "justify_items": null,
       "left": null,
       "margin": null,
       "max_height": null,
       "max_width": null,
       "min_height": null,
       "min_width": null,
       "object_fit": null,
       "object_position": null,
       "order": null,
       "overflow": null,
       "overflow_x": null,
       "overflow_y": null,
       "padding": null,
       "right": null,
       "top": null,
       "visibility": null,
       "width": null
      }
     },
     "2853614aab19494fb9aad6f0f1fabdaf": {
      "model_module": "@jupyter-widgets/controls",
      "model_module_version": "1.5.0",
      "model_name": "HTMLModel",
      "state": {
       "_dom_classes": [],
       "_model_module": "@jupyter-widgets/controls",
       "_model_module_version": "1.5.0",
       "_model_name": "HTMLModel",
       "_view_count": null,
       "_view_module": "@jupyter-widgets/controls",
       "_view_module_version": "1.5.0",
       "_view_name": "HTMLView",
       "description": "",
       "description_tooltip": null,
       "layout": "IPY_MODEL_e9a4e60e44294eb482a65bcb5fa40002",
       "placeholder": "​",
       "style": "IPY_MODEL_ac9e838e58cd4cbcb379ea8c1d1c9e87",
       "value": "Downloading: 100%"
      }
     },
     "28c3e2a9c149468cb81cde76e943122d": {
      "model_module": "@jupyter-widgets/base",
      "model_module_version": "1.2.0",
      "model_name": "LayoutModel",
      "state": {
       "_model_module": "@jupyter-widgets/base",
       "_model_module_version": "1.2.0",
       "_model_name": "LayoutModel",
       "_view_count": null,
       "_view_module": "@jupyter-widgets/base",
       "_view_module_version": "1.2.0",
       "_view_name": "LayoutView",
       "align_content": null,
       "align_items": null,
       "align_self": null,
       "border": null,
       "bottom": null,
       "display": null,
       "flex": null,
       "flex_flow": null,
       "grid_area": null,
       "grid_auto_columns": null,
       "grid_auto_flow": null,
       "grid_auto_rows": null,
       "grid_column": null,
       "grid_gap": null,
       "grid_row": null,
       "grid_template_areas": null,
       "grid_template_columns": null,
       "grid_template_rows": null,
       "height": null,
       "justify_content": null,
       "justify_items": null,
       "left": null,
       "margin": null,
       "max_height": null,
       "max_width": null,
       "min_height": null,
       "min_width": null,
       "object_fit": null,
       "object_position": null,
       "order": null,
       "overflow": null,
       "overflow_x": null,
       "overflow_y": null,
       "padding": null,
       "right": null,
       "top": null,
       "visibility": null,
       "width": null
      }
     },
     "3055f42914c04d7f9c54bc6ac296d78b": {
      "model_module": "@jupyter-widgets/base",
      "model_module_version": "1.2.0",
      "model_name": "LayoutModel",
      "state": {
       "_model_module": "@jupyter-widgets/base",
       "_model_module_version": "1.2.0",
       "_model_name": "LayoutModel",
       "_view_count": null,
       "_view_module": "@jupyter-widgets/base",
       "_view_module_version": "1.2.0",
       "_view_name": "LayoutView",
       "align_content": null,
       "align_items": null,
       "align_self": null,
       "border": null,
       "bottom": null,
       "display": null,
       "flex": null,
       "flex_flow": null,
       "grid_area": null,
       "grid_auto_columns": null,
       "grid_auto_flow": null,
       "grid_auto_rows": null,
       "grid_column": null,
       "grid_gap": null,
       "grid_row": null,
       "grid_template_areas": null,
       "grid_template_columns": null,
       "grid_template_rows": null,
       "height": null,
       "justify_content": null,
       "justify_items": null,
       "left": null,
       "margin": null,
       "max_height": null,
       "max_width": null,
       "min_height": null,
       "min_width": null,
       "object_fit": null,
       "object_position": null,
       "order": null,
       "overflow": null,
       "overflow_x": null,
       "overflow_y": null,
       "padding": null,
       "right": null,
       "top": null,
       "visibility": null,
       "width": null
      }
     },
     "30902f7409a5495198914f833ede0b83": {
      "model_module": "@jupyter-widgets/base",
      "model_module_version": "1.2.0",
      "model_name": "LayoutModel",
      "state": {
       "_model_module": "@jupyter-widgets/base",
       "_model_module_version": "1.2.0",
       "_model_name": "LayoutModel",
       "_view_count": null,
       "_view_module": "@jupyter-widgets/base",
       "_view_module_version": "1.2.0",
       "_view_name": "LayoutView",
       "align_content": null,
       "align_items": null,
       "align_self": null,
       "border": null,
       "bottom": null,
       "display": null,
       "flex": null,
       "flex_flow": null,
       "grid_area": null,
       "grid_auto_columns": null,
       "grid_auto_flow": null,
       "grid_auto_rows": null,
       "grid_column": null,
       "grid_gap": null,
       "grid_row": null,
       "grid_template_areas": null,
       "grid_template_columns": null,
       "grid_template_rows": null,
       "height": null,
       "justify_content": null,
       "justify_items": null,
       "left": null,
       "margin": null,
       "max_height": null,
       "max_width": null,
       "min_height": null,
       "min_width": null,
       "object_fit": null,
       "object_position": null,
       "order": null,
       "overflow": null,
       "overflow_x": null,
       "overflow_y": null,
       "padding": null,
       "right": null,
       "top": null,
       "visibility": null,
       "width": null
      }
     },
     "3195d15e50924afea81f6c910a043cf3": {
      "model_module": "@jupyter-widgets/controls",
      "model_module_version": "1.5.0",
      "model_name": "FloatProgressModel",
      "state": {
       "_dom_classes": [],
       "_model_module": "@jupyter-widgets/controls",
       "_model_module_version": "1.5.0",
       "_model_name": "FloatProgressModel",
       "_view_count": null,
       "_view_module": "@jupyter-widgets/controls",
       "_view_module_version": "1.5.0",
       "_view_name": "ProgressView",
       "bar_style": "success",
       "description": "",
       "description_tooltip": null,
       "layout": "IPY_MODEL_0ac74f5d55664cd3ab670f8b4accccd3",
       "max": 481.0,
       "min": 0.0,
       "orientation": "horizontal",
       "style": "IPY_MODEL_01cf080bb4664ed5971cec4a54d5482c",
       "value": 481.0
      }
     },
     "345e1ef6b1034a22bdf057eb4635e1cb": {
      "model_module": "@jupyter-widgets/base",
      "model_module_version": "1.2.0",
      "model_name": "LayoutModel",
      "state": {
       "_model_module": "@jupyter-widgets/base",
       "_model_module_version": "1.2.0",
       "_model_name": "LayoutModel",
       "_view_count": null,
       "_view_module": "@jupyter-widgets/base",
       "_view_module_version": "1.2.0",
       "_view_name": "LayoutView",
       "align_content": null,
       "align_items": null,
       "align_self": null,
       "border": null,
       "bottom": null,
       "display": null,
       "flex": null,
       "flex_flow": null,
       "grid_area": null,
       "grid_auto_columns": null,
       "grid_auto_flow": null,
       "grid_auto_rows": null,
       "grid_column": null,
       "grid_gap": null,
       "grid_row": null,
       "grid_template_areas": null,
       "grid_template_columns": null,
       "grid_template_rows": null,
       "height": null,
       "justify_content": null,
       "justify_items": null,
       "left": null,
       "margin": null,
       "max_height": null,
       "max_width": null,
       "min_height": null,
       "min_width": null,
       "object_fit": null,
       "object_position": null,
       "order": null,
       "overflow": null,
       "overflow_x": null,
       "overflow_y": null,
       "padding": null,
       "right": null,
       "top": null,
       "visibility": null,
       "width": null
      }
     },
     "388bb2b1f6df44f28cfc8160156f5346": {
      "model_module": "@jupyter-widgets/base",
      "model_module_version": "1.2.0",
      "model_name": "LayoutModel",
      "state": {
       "_model_module": "@jupyter-widgets/base",
       "_model_module_version": "1.2.0",
       "_model_name": "LayoutModel",
       "_view_count": null,
       "_view_module": "@jupyter-widgets/base",
       "_view_module_version": "1.2.0",
       "_view_name": "LayoutView",
       "align_content": null,
       "align_items": null,
       "align_self": null,
       "border": null,
       "bottom": null,
       "display": null,
       "flex": null,
       "flex_flow": null,
       "grid_area": null,
       "grid_auto_columns": null,
       "grid_auto_flow": null,
       "grid_auto_rows": null,
       "grid_column": null,
       "grid_gap": null,
       "grid_row": null,
       "grid_template_areas": null,
       "grid_template_columns": null,
       "grid_template_rows": null,
       "height": null,
       "justify_content": null,
       "justify_items": null,
       "left": null,
       "margin": null,
       "max_height": null,
       "max_width": null,
       "min_height": null,
       "min_width": null,
       "object_fit": null,
       "object_position": null,
       "order": null,
       "overflow": null,
       "overflow_x": null,
       "overflow_y": null,
       "padding": null,
       "right": null,
       "top": null,
       "visibility": null,
       "width": null
      }
     },
     "391838ffd7cf42bbbd0d3ec0c505a270": {
      "model_module": "@jupyter-widgets/controls",
      "model_module_version": "1.5.0",
      "model_name": "DescriptionStyleModel",
      "state": {
       "_model_module": "@jupyter-widgets/controls",
       "_model_module_version": "1.5.0",
       "_model_name": "DescriptionStyleModel",
       "_view_count": null,
       "_view_module": "@jupyter-widgets/base",
       "_view_module_version": "1.2.0",
       "_view_name": "StyleView",
       "description_width": ""
      }
     },
     "3d5718c31df54170b1bdcd39fb88da37": {
      "model_module": "@jupyter-widgets/base",
      "model_module_version": "1.2.0",
      "model_name": "LayoutModel",
      "state": {
       "_model_module": "@jupyter-widgets/base",
       "_model_module_version": "1.2.0",
       "_model_name": "LayoutModel",
       "_view_count": null,
       "_view_module": "@jupyter-widgets/base",
       "_view_module_version": "1.2.0",
       "_view_name": "LayoutView",
       "align_content": null,
       "align_items": null,
       "align_self": null,
       "border": null,
       "bottom": null,
       "display": null,
       "flex": null,
       "flex_flow": null,
       "grid_area": null,
       "grid_auto_columns": null,
       "grid_auto_flow": null,
       "grid_auto_rows": null,
       "grid_column": null,
       "grid_gap": null,
       "grid_row": null,
       "grid_template_areas": null,
       "grid_template_columns": null,
       "grid_template_rows": null,
       "height": null,
       "justify_content": null,
       "justify_items": null,
       "left": null,
       "margin": null,
       "max_height": null,
       "max_width": null,
       "min_height": null,
       "min_width": null,
       "object_fit": null,
       "object_position": null,
       "order": null,
       "overflow": null,
       "overflow_x": null,
       "overflow_y": null,
       "padding": null,
       "right": null,
       "top": null,
       "visibility": null,
       "width": null
      }
     },
     "3e8895e7c73c4ff0bf268890598646bf": {
      "model_module": "@jupyter-widgets/controls",
      "model_module_version": "1.5.0",
      "model_name": "HTMLModel",
      "state": {
       "_dom_classes": [],
       "_model_module": "@jupyter-widgets/controls",
       "_model_module_version": "1.5.0",
       "_model_name": "HTMLModel",
       "_view_count": null,
       "_view_module": "@jupyter-widgets/controls",
       "_view_module_version": "1.5.0",
       "_view_name": "HTMLView",
       "description": "",
       "description_tooltip": null,
       "layout": "IPY_MODEL_51f2533ae3ff4831a6a2a9602f6fee31",
       "placeholder": "​",
       "style": "IPY_MODEL_5bd5237b38ce488eb69fbd7ab9b4a396",
       "value": "Downloading: 100%"
      }
     },
     "40fc51b0b8834a9cac8096aaeb3b2e99": {
      "model_module": "@jupyter-widgets/controls",
      "model_module_version": "1.5.0",
      "model_name": "DescriptionStyleModel",
      "state": {
       "_model_module": "@jupyter-widgets/controls",
       "_model_module_version": "1.5.0",
       "_model_name": "DescriptionStyleModel",
       "_view_count": null,
       "_view_module": "@jupyter-widgets/base",
       "_view_module_version": "1.2.0",
       "_view_name": "StyleView",
       "description_width": ""
      }
     },
     "42abf11c83b443c0825289d464d44efb": {
      "model_module": "@jupyter-widgets/base",
      "model_module_version": "1.2.0",
      "model_name": "LayoutModel",
      "state": {
       "_model_module": "@jupyter-widgets/base",
       "_model_module_version": "1.2.0",
       "_model_name": "LayoutModel",
       "_view_count": null,
       "_view_module": "@jupyter-widgets/base",
       "_view_module_version": "1.2.0",
       "_view_name": "LayoutView",
       "align_content": null,
       "align_items": null,
       "align_self": null,
       "border": null,
       "bottom": null,
       "display": null,
       "flex": null,
       "flex_flow": null,
       "grid_area": null,
       "grid_auto_columns": null,
       "grid_auto_flow": null,
       "grid_auto_rows": null,
       "grid_column": null,
       "grid_gap": null,
       "grid_row": null,
       "grid_template_areas": null,
       "grid_template_columns": null,
       "grid_template_rows": null,
       "height": null,
       "justify_content": null,
       "justify_items": null,
       "left": null,
       "margin": null,
       "max_height": null,
       "max_width": null,
       "min_height": null,
       "min_width": null,
       "object_fit": null,
       "object_position": null,
       "order": null,
       "overflow": null,
       "overflow_x": null,
       "overflow_y": null,
       "padding": null,
       "right": null,
       "top": null,
       "visibility": null,
       "width": null
      }
     },
     "464930ea298a4030b2d6b400e0b34fc9": {
      "model_module": "@jupyter-widgets/controls",
      "model_module_version": "1.5.0",
      "model_name": "DescriptionStyleModel",
      "state": {
       "_model_module": "@jupyter-widgets/controls",
       "_model_module_version": "1.5.0",
       "_model_name": "DescriptionStyleModel",
       "_view_count": null,
       "_view_module": "@jupyter-widgets/base",
       "_view_module_version": "1.2.0",
       "_view_name": "StyleView",
       "description_width": ""
      }
     },
     "51f2533ae3ff4831a6a2a9602f6fee31": {
      "model_module": "@jupyter-widgets/base",
      "model_module_version": "1.2.0",
      "model_name": "LayoutModel",
      "state": {
       "_model_module": "@jupyter-widgets/base",
       "_model_module_version": "1.2.0",
       "_model_name": "LayoutModel",
       "_view_count": null,
       "_view_module": "@jupyter-widgets/base",
       "_view_module_version": "1.2.0",
       "_view_name": "LayoutView",
       "align_content": null,
       "align_items": null,
       "align_self": null,
       "border": null,
       "bottom": null,
       "display": null,
       "flex": null,
       "flex_flow": null,
       "grid_area": null,
       "grid_auto_columns": null,
       "grid_auto_flow": null,
       "grid_auto_rows": null,
       "grid_column": null,
       "grid_gap": null,
       "grid_row": null,
       "grid_template_areas": null,
       "grid_template_columns": null,
       "grid_template_rows": null,
       "height": null,
       "justify_content": null,
       "justify_items": null,
       "left": null,
       "margin": null,
       "max_height": null,
       "max_width": null,
       "min_height": null,
       "min_width": null,
       "object_fit": null,
       "object_position": null,
       "order": null,
       "overflow": null,
       "overflow_x": null,
       "overflow_y": null,
       "padding": null,
       "right": null,
       "top": null,
       "visibility": null,
       "width": null
      }
     },
     "53c76918b9dd46289eb628d8ab4cacf1": {
      "model_module": "@jupyter-widgets/controls",
      "model_module_version": "1.5.0",
      "model_name": "FloatProgressModel",
      "state": {
       "_dom_classes": [],
       "_model_module": "@jupyter-widgets/controls",
       "_model_module_version": "1.5.0",
       "_model_name": "FloatProgressModel",
       "_view_count": null,
       "_view_module": "@jupyter-widgets/controls",
       "_view_module_version": "1.5.0",
       "_view_name": "ProgressView",
       "bar_style": "success",
       "description": "",
       "description_tooltip": null,
       "layout": "IPY_MODEL_566a62349ab34ef2a4f3478cbbe6afc7",
       "max": 501200538.0,
       "min": 0.0,
       "orientation": "horizontal",
       "style": "IPY_MODEL_5d1d5390cf4f4b6da9e080db008298be",
       "value": 501200538.0
      }
     },
     "566a62349ab34ef2a4f3478cbbe6afc7": {
      "model_module": "@jupyter-widgets/base",
      "model_module_version": "1.2.0",
      "model_name": "LayoutModel",
      "state": {
       "_model_module": "@jupyter-widgets/base",
       "_model_module_version": "1.2.0",
       "_model_name": "LayoutModel",
       "_view_count": null,
       "_view_module": "@jupyter-widgets/base",
       "_view_module_version": "1.2.0",
       "_view_name": "LayoutView",
       "align_content": null,
       "align_items": null,
       "align_self": null,
       "border": null,
       "bottom": null,
       "display": null,
       "flex": null,
       "flex_flow": null,
       "grid_area": null,
       "grid_auto_columns": null,
       "grid_auto_flow": null,
       "grid_auto_rows": null,
       "grid_column": null,
       "grid_gap": null,
       "grid_row": null,
       "grid_template_areas": null,
       "grid_template_columns": null,
       "grid_template_rows": null,
       "height": null,
       "justify_content": null,
       "justify_items": null,
       "left": null,
       "margin": null,
       "max_height": null,
       "max_width": null,
       "min_height": null,
       "min_width": null,
       "object_fit": null,
       "object_position": null,
       "order": null,
       "overflow": null,
       "overflow_x": null,
       "overflow_y": null,
       "padding": null,
       "right": null,
       "top": null,
       "visibility": null,
       "width": null
      }
     },
     "5697f7a455f74dd4b5f88190dd1041da": {
      "model_module": "@jupyter-widgets/controls",
      "model_module_version": "1.5.0",
      "model_name": "HTMLModel",
      "state": {
       "_dom_classes": [],
       "_model_module": "@jupyter-widgets/controls",
       "_model_module_version": "1.5.0",
       "_model_name": "HTMLModel",
       "_view_count": null,
       "_view_module": "@jupyter-widgets/controls",
       "_view_module_version": "1.5.0",
       "_view_name": "HTMLView",
       "description": "",
       "description_tooltip": null,
       "layout": "IPY_MODEL_1fa1e8bee27641eb8bddf9b5297dc8bd",
       "placeholder": "​",
       "style": "IPY_MODEL_d67d9c72c78c4d40990add510e315c6a",
       "value": " 232k/232k [00:00&lt;00:00, 924kB/s]"
      }
     },
     "5a6ff702a6094e3db65069efc985878a": {
      "model_module": "@jupyter-widgets/controls",
      "model_module_version": "1.5.0",
      "model_name": "DescriptionStyleModel",
      "state": {
       "_model_module": "@jupyter-widgets/controls",
       "_model_module_version": "1.5.0",
       "_model_name": "DescriptionStyleModel",
       "_view_count": null,
       "_view_module": "@jupyter-widgets/base",
       "_view_module_version": "1.2.0",
       "_view_name": "StyleView",
       "description_width": ""
      }
     },
     "5bd5237b38ce488eb69fbd7ab9b4a396": {
      "model_module": "@jupyter-widgets/controls",
      "model_module_version": "1.5.0",
      "model_name": "DescriptionStyleModel",
      "state": {
       "_model_module": "@jupyter-widgets/controls",
       "_model_module_version": "1.5.0",
       "_model_name": "DescriptionStyleModel",
       "_view_count": null,
       "_view_module": "@jupyter-widgets/base",
       "_view_module_version": "1.2.0",
       "_view_name": "StyleView",
       "description_width": ""
      }
     },
     "5c34d77072ac437d8d8a0088e2ff9a0c": {
      "model_module": "@jupyter-widgets/controls",
      "model_module_version": "1.5.0",
      "model_name": "HTMLModel",
      "state": {
       "_dom_classes": [],
       "_model_module": "@jupyter-widgets/controls",
       "_model_module_version": "1.5.0",
       "_model_name": "HTMLModel",
       "_view_count": null,
       "_view_module": "@jupyter-widgets/controls",
       "_view_module_version": "1.5.0",
       "_view_name": "HTMLView",
       "description": "",
       "description_tooltip": null,
       "layout": "IPY_MODEL_c1ac51af4a6147d5a9c786c1ae6a4c0e",
       "placeholder": "​",
       "style": "IPY_MODEL_65267601d16c4ef5b5949478ea7c947a",
       "value": "Downloading: 100%"
      }
     },
     "5d1d5390cf4f4b6da9e080db008298be": {
      "model_module": "@jupyter-widgets/controls",
      "model_module_version": "1.5.0",
      "model_name": "ProgressStyleModel",
      "state": {
       "_model_module": "@jupyter-widgets/controls",
       "_model_module_version": "1.5.0",
       "_model_name": "ProgressStyleModel",
       "_view_count": null,
       "_view_module": "@jupyter-widgets/base",
       "_view_module_version": "1.2.0",
       "_view_name": "StyleView",
       "bar_color": null,
       "description_width": ""
      }
     },
     "5eaf228d80da41b4bc58802266448999": {
      "model_module": "@jupyter-widgets/controls",
      "model_module_version": "1.5.0",
      "model_name": "HTMLModel",
      "state": {
       "_dom_classes": [],
       "_model_module": "@jupyter-widgets/controls",
       "_model_module_version": "1.5.0",
       "_model_name": "HTMLModel",
       "_view_count": null,
       "_view_module": "@jupyter-widgets/controls",
       "_view_module_version": "1.5.0",
       "_view_name": "HTMLView",
       "description": "",
       "description_tooltip": null,
       "layout": "IPY_MODEL_9dbfb54992f148f1be75be9265f6ffae",
       "placeholder": "​",
       "style": "IPY_MODEL_94bff7fa8025404b9f8934a3746420ff",
       "value": "Downloading: 100%"
      }
     },
     "60530bb002d149c98d914603934fb166": {
      "model_module": "@jupyter-widgets/controls",
      "model_module_version": "1.5.0",
      "model_name": "HBoxModel",
      "state": {
       "_dom_classes": [],
       "_model_module": "@jupyter-widgets/controls",
       "_model_module_version": "1.5.0",
       "_model_name": "HBoxModel",
       "_view_count": null,
       "_view_module": "@jupyter-widgets/controls",
       "_view_module_version": "1.5.0",
       "_view_name": "HBoxView",
       "box_style": "",
       "children": [
        "IPY_MODEL_5c34d77072ac437d8d8a0088e2ff9a0c",
        "IPY_MODEL_3195d15e50924afea81f6c910a043cf3",
        "IPY_MODEL_00cad0d09e9f43c49789b6dc9b0beaa5"
       ],
       "layout": "IPY_MODEL_42abf11c83b443c0825289d464d44efb"
      }
     },
     "6090a4cb81d74388a5bda11d56c63811": {
      "model_module": "@jupyter-widgets/controls",
      "model_module_version": "1.5.0",
      "model_name": "ProgressStyleModel",
      "state": {
       "_model_module": "@jupyter-widgets/controls",
       "_model_module_version": "1.5.0",
       "_model_name": "ProgressStyleModel",
       "_view_count": null,
       "_view_module": "@jupyter-widgets/base",
       "_view_module_version": "1.2.0",
       "_view_name": "StyleView",
       "bar_color": null,
       "description_width": ""
      }
     },
     "65267601d16c4ef5b5949478ea7c947a": {
      "model_module": "@jupyter-widgets/controls",
      "model_module_version": "1.5.0",
      "model_name": "DescriptionStyleModel",
      "state": {
       "_model_module": "@jupyter-widgets/controls",
       "_model_module_version": "1.5.0",
       "_model_name": "DescriptionStyleModel",
       "_view_count": null,
       "_view_module": "@jupyter-widgets/base",
       "_view_module_version": "1.2.0",
       "_view_name": "StyleView",
       "description_width": ""
      }
     },
     "6905c2c700414c3382706e77d257974d": {
      "model_module": "@jupyter-widgets/controls",
      "model_module_version": "1.5.0",
      "model_name": "HBoxModel",
      "state": {
       "_dom_classes": [],
       "_model_module": "@jupyter-widgets/controls",
       "_model_module_version": "1.5.0",
       "_model_name": "HBoxModel",
       "_view_count": null,
       "_view_module": "@jupyter-widgets/controls",
       "_view_module_version": "1.5.0",
       "_view_name": "HBoxView",
       "box_style": "",
       "children": [
        "IPY_MODEL_a3bf636407034f2c807516e28fbdda9d",
        "IPY_MODEL_f80b7a3ae0914869814919bb433eeaa2",
        "IPY_MODEL_0cf4701d148c432ba8672b0139fbdddc"
       ],
       "layout": "IPY_MODEL_3d5718c31df54170b1bdcd39fb88da37"
      }
     },
     "7cdee39c06fb48618857f6f84a88f841": {
      "model_module": "@jupyter-widgets/controls",
      "model_module_version": "1.5.0",
      "model_name": "DescriptionStyleModel",
      "state": {
       "_model_module": "@jupyter-widgets/controls",
       "_model_module_version": "1.5.0",
       "_model_name": "DescriptionStyleModel",
       "_view_count": null,
       "_view_module": "@jupyter-widgets/base",
       "_view_module_version": "1.2.0",
       "_view_name": "StyleView",
       "description_width": ""
      }
     },
     "7f2acc6731f34e83bee21d36895ba41b": {
      "model_module": "@jupyter-widgets/controls",
      "model_module_version": "1.5.0",
      "model_name": "FloatProgressModel",
      "state": {
       "_dom_classes": [],
       "_model_module": "@jupyter-widgets/controls",
       "_model_module_version": "1.5.0",
       "_model_name": "FloatProgressModel",
       "_view_count": null,
       "_view_module": "@jupyter-widgets/controls",
       "_view_module_version": "1.5.0",
       "_view_name": "ProgressView",
       "bar_style": "success",
       "description": "",
       "description_tooltip": null,
       "layout": "IPY_MODEL_388bb2b1f6df44f28cfc8160156f5346",
       "max": 231508.0,
       "min": 0.0,
       "orientation": "horizontal",
       "style": "IPY_MODEL_c696bad02ef840a2ac4a0bf464482aad",
       "value": 231508.0
      }
     },
     "8e9fa6a5c2df4f0fb62ff37c4d316761": {
      "model_module": "@jupyter-widgets/controls",
      "model_module_version": "1.5.0",
      "model_name": "HTMLModel",
      "state": {
       "_dom_classes": [],
       "_model_module": "@jupyter-widgets/controls",
       "_model_module_version": "1.5.0",
       "_model_name": "HTMLModel",
       "_view_count": null,
       "_view_module": "@jupyter-widgets/controls",
       "_view_module_version": "1.5.0",
       "_view_name": "HTMLView",
       "description": "",
       "description_tooltip": null,
       "layout": "IPY_MODEL_0737de50b31a43ac830866a3a3468d2c",
       "placeholder": "​",
       "style": "IPY_MODEL_5a6ff702a6094e3db65069efc985878a",
       "value": "Downloading: 100%"
      }
     },
     "9052d3bbf2a64f34924464b7e3310b1d": {
      "model_module": "@jupyter-widgets/controls",
      "model_module_version": "1.5.0",
      "model_name": "HBoxModel",
      "state": {
       "_dom_classes": [],
       "_model_module": "@jupyter-widgets/controls",
       "_model_module_version": "1.5.0",
       "_model_name": "HBoxModel",
       "_view_count": null,
       "_view_module": "@jupyter-widgets/controls",
       "_view_module_version": "1.5.0",
       "_view_name": "HBoxView",
       "box_style": "",
       "children": [
        "IPY_MODEL_8e9fa6a5c2df4f0fb62ff37c4d316761",
        "IPY_MODEL_b77a4d14aee54bbe865e57c3af570752",
        "IPY_MODEL_90ddddc31a4a44908bb53e7fda55ba20"
       ],
       "layout": "IPY_MODEL_b955cf6834344aa08b7909d502bde17c"
      }
     },
     "90ddddc31a4a44908bb53e7fda55ba20": {
      "model_module": "@jupyter-widgets/controls",
      "model_module_version": "1.5.0",
      "model_name": "HTMLModel",
      "state": {
       "_dom_classes": [],
       "_model_module": "@jupyter-widgets/controls",
       "_model_module_version": "1.5.0",
       "_model_name": "HTMLModel",
       "_view_count": null,
       "_view_module": "@jupyter-widgets/controls",
       "_view_module_version": "1.5.0",
       "_view_name": "HTMLView",
       "description": "",
       "description_tooltip": null,
       "layout": "IPY_MODEL_09ca0358cfc0440c80ce26f7a1549b89",
       "placeholder": "​",
       "style": "IPY_MODEL_f76f994c04b64048920995df6537134b",
       "value": " 442/442 [00:00&lt;00:00, 15.1kB/s]"
      }
     },
     "94bff7fa8025404b9f8934a3746420ff": {
      "model_module": "@jupyter-widgets/controls",
      "model_module_version": "1.5.0",
      "model_name": "DescriptionStyleModel",
      "state": {
       "_model_module": "@jupyter-widgets/controls",
       "_model_module_version": "1.5.0",
       "_model_name": "DescriptionStyleModel",
       "_view_count": null,
       "_view_module": "@jupyter-widgets/base",
       "_view_module_version": "1.2.0",
       "_view_name": "StyleView",
       "description_width": ""
      }
     },
     "9970d4c39499422cabf484e784ee8784": {
      "model_module": "@jupyter-widgets/controls",
      "model_module_version": "1.5.0",
      "model_name": "HBoxModel",
      "state": {
       "_dom_classes": [],
       "_model_module": "@jupyter-widgets/controls",
       "_model_module_version": "1.5.0",
       "_model_name": "HBoxModel",
       "_view_count": null,
       "_view_module": "@jupyter-widgets/controls",
       "_view_module_version": "1.5.0",
       "_view_name": "HBoxView",
       "box_style": "",
       "children": [
        "IPY_MODEL_3e8895e7c73c4ff0bf268890598646bf",
        "IPY_MODEL_53c76918b9dd46289eb628d8ab4cacf1",
        "IPY_MODEL_ca55dac17d234fa6a1a5a9faedcd7672"
       ],
       "layout": "IPY_MODEL_e2cc8ab9a01046c9be0b38a2f04f9a31"
      }
     },
     "9a0f980e756a43a8aeef8a44ac9eff50": {
      "model_module": "@jupyter-widgets/base",
      "model_module_version": "1.2.0",
      "model_name": "LayoutModel",
      "state": {
       "_model_module": "@jupyter-widgets/base",
       "_model_module_version": "1.2.0",
       "_model_name": "LayoutModel",
       "_view_count": null,
       "_view_module": "@jupyter-widgets/base",
       "_view_module_version": "1.2.0",
       "_view_name": "LayoutView",
       "align_content": null,
       "align_items": null,
       "align_self": null,
       "border": null,
       "bottom": null,
       "display": null,
       "flex": null,
       "flex_flow": null,
       "grid_area": null,
       "grid_auto_columns": null,
       "grid_auto_flow": null,
       "grid_auto_rows": null,
       "grid_column": null,
       "grid_gap": null,
       "grid_row": null,
       "grid_template_areas": null,
       "grid_template_columns": null,
       "grid_template_rows": null,
       "height": null,
       "justify_content": null,
       "justify_items": null,
       "left": null,
       "margin": null,
       "max_height": null,
       "max_width": null,
       "min_height": null,
       "min_width": null,
       "object_fit": null,
       "object_position": null,
       "order": null,
       "overflow": null,
       "overflow_x": null,
       "overflow_y": null,
       "padding": null,
       "right": null,
       "top": null,
       "visibility": null,
       "width": null
      }
     },
     "9dbfb54992f148f1be75be9265f6ffae": {
      "model_module": "@jupyter-widgets/base",
      "model_module_version": "1.2.0",
      "model_name": "LayoutModel",
      "state": {
       "_model_module": "@jupyter-widgets/base",
       "_model_module_version": "1.2.0",
       "_model_name": "LayoutModel",
       "_view_count": null,
       "_view_module": "@jupyter-widgets/base",
       "_view_module_version": "1.2.0",
       "_view_name": "LayoutView",
       "align_content": null,
       "align_items": null,
       "align_self": null,
       "border": null,
       "bottom": null,
       "display": null,
       "flex": null,
       "flex_flow": null,
       "grid_area": null,
       "grid_auto_columns": null,
       "grid_auto_flow": null,
       "grid_auto_rows": null,
       "grid_column": null,
       "grid_gap": null,
       "grid_row": null,
       "grid_template_areas": null,
       "grid_template_columns": null,
       "grid_template_rows": null,
       "height": null,
       "justify_content": null,
       "justify_items": null,
       "left": null,
       "margin": null,
       "max_height": null,
       "max_width": null,
       "min_height": null,
       "min_width": null,
       "object_fit": null,
       "object_position": null,
       "order": null,
       "overflow": null,
       "overflow_x": null,
       "overflow_y": null,
       "padding": null,
       "right": null,
       "top": null,
       "visibility": null,
       "width": null
      }
     },
     "9dcad40001dc4559a5c91ea2987333fe": {
      "model_module": "@jupyter-widgets/base",
      "model_module_version": "1.2.0",
      "model_name": "LayoutModel",
      "state": {
       "_model_module": "@jupyter-widgets/base",
       "_model_module_version": "1.2.0",
       "_model_name": "LayoutModel",
       "_view_count": null,
       "_view_module": "@jupyter-widgets/base",
       "_view_module_version": "1.2.0",
       "_view_name": "LayoutView",
       "align_content": null,
       "align_items": null,
       "align_self": null,
       "border": null,
       "bottom": null,
       "display": null,
       "flex": null,
       "flex_flow": null,
       "grid_area": null,
       "grid_auto_columns": null,
       "grid_auto_flow": null,
       "grid_auto_rows": null,
       "grid_column": null,
       "grid_gap": null,
       "grid_row": null,
       "grid_template_areas": null,
       "grid_template_columns": null,
       "grid_template_rows": null,
       "height": null,
       "justify_content": null,
       "justify_items": null,
       "left": null,
       "margin": null,
       "max_height": null,
       "max_width": null,
       "min_height": null,
       "min_width": null,
       "object_fit": null,
       "object_position": null,
       "order": null,
       "overflow": null,
       "overflow_x": null,
       "overflow_y": null,
       "padding": null,
       "right": null,
       "top": null,
       "visibility": null,
       "width": null
      }
     },
     "9f89f8cf32bd4978b7430525d50d59b6": {
      "model_module": "@jupyter-widgets/controls",
      "model_module_version": "1.5.0",
      "model_name": "HBoxModel",
      "state": {
       "_dom_classes": [],
       "_model_module": "@jupyter-widgets/controls",
       "_model_module_version": "1.5.0",
       "_model_name": "HBoxModel",
       "_view_count": null,
       "_view_module": "@jupyter-widgets/controls",
       "_view_module_version": "1.5.0",
       "_view_name": "HBoxView",
       "box_style": "",
       "children": [
        "IPY_MODEL_1cb67817be0143918f096f2ae10092b5",
        "IPY_MODEL_7f2acc6731f34e83bee21d36895ba41b",
        "IPY_MODEL_5697f7a455f74dd4b5f88190dd1041da"
       ],
       "layout": "IPY_MODEL_09a149926cc04f0aa7af03bd1d38128b"
      }
     },
     "a09a27e548444972af2b29ef157cb83c": {
      "model_module": "@jupyter-widgets/controls",
      "model_module_version": "1.5.0",
      "model_name": "HBoxModel",
      "state": {
       "_dom_classes": [],
       "_model_module": "@jupyter-widgets/controls",
       "_model_module_version": "1.5.0",
       "_model_name": "HBoxModel",
       "_view_count": null,
       "_view_module": "@jupyter-widgets/controls",
       "_view_module_version": "1.5.0",
       "_view_name": "HBoxView",
       "box_style": "",
       "children": [
        "IPY_MODEL_2853614aab19494fb9aad6f0f1fabdaf",
        "IPY_MODEL_fd7f025e382c43c6bfa417b6499c9d2c",
        "IPY_MODEL_bca6d7eed6f8452ea6d9274f204e42f8"
       ],
       "layout": "IPY_MODEL_30902f7409a5495198914f833ede0b83"
      }
     },
     "a3bf636407034f2c807516e28fbdda9d": {
      "model_module": "@jupyter-widgets/controls",
      "model_module_version": "1.5.0",
      "model_name": "HTMLModel",
      "state": {
       "_dom_classes": [],
       "_model_module": "@jupyter-widgets/controls",
       "_model_module_version": "1.5.0",
       "_model_name": "HTMLModel",
       "_view_count": null,
       "_view_module": "@jupyter-widgets/controls",
       "_view_module_version": "1.5.0",
       "_view_name": "HTMLView",
       "description": "",
       "description_tooltip": null,
       "layout": "IPY_MODEL_9a0f980e756a43a8aeef8a44ac9eff50",
       "placeholder": "​",
       "style": "IPY_MODEL_a44504784d6348ed890240327a6a2891",
       "value": "Downloading: 100%"
      }
     },
     "a44504784d6348ed890240327a6a2891": {
      "model_module": "@jupyter-widgets/controls",
      "model_module_version": "1.5.0",
      "model_name": "DescriptionStyleModel",
      "state": {
       "_model_module": "@jupyter-widgets/controls",
       "_model_module_version": "1.5.0",
       "_model_name": "DescriptionStyleModel",
       "_view_count": null,
       "_view_module": "@jupyter-widgets/base",
       "_view_module_version": "1.2.0",
       "_view_name": "StyleView",
       "description_width": ""
      }
     },
     "ac9e838e58cd4cbcb379ea8c1d1c9e87": {
      "model_module": "@jupyter-widgets/controls",
      "model_module_version": "1.5.0",
      "model_name": "DescriptionStyleModel",
      "state": {
       "_model_module": "@jupyter-widgets/controls",
       "_model_module_version": "1.5.0",
       "_model_name": "DescriptionStyleModel",
       "_view_count": null,
       "_view_module": "@jupyter-widgets/base",
       "_view_module_version": "1.2.0",
       "_view_name": "StyleView",
       "description_width": ""
      }
     },
     "b70e2852aed14c9d9912c3e0f54989a1": {
      "model_module": "@jupyter-widgets/controls",
      "model_module_version": "1.5.0",
      "model_name": "ProgressStyleModel",
      "state": {
       "_model_module": "@jupyter-widgets/controls",
       "_model_module_version": "1.5.0",
       "_model_name": "ProgressStyleModel",
       "_view_count": null,
       "_view_module": "@jupyter-widgets/base",
       "_view_module_version": "1.2.0",
       "_view_name": "StyleView",
       "bar_color": null,
       "description_width": ""
      }
     },
     "b77a4d14aee54bbe865e57c3af570752": {
      "model_module": "@jupyter-widgets/controls",
      "model_module_version": "1.5.0",
      "model_name": "FloatProgressModel",
      "state": {
       "_dom_classes": [],
       "_model_module": "@jupyter-widgets/controls",
       "_model_module_version": "1.5.0",
       "_model_name": "FloatProgressModel",
       "_view_count": null,
       "_view_module": "@jupyter-widgets/controls",
       "_view_module_version": "1.5.0",
       "_view_name": "ProgressView",
       "bar_style": "success",
       "description": "",
       "description_tooltip": null,
       "layout": "IPY_MODEL_0a272bdd87224b2e906cec6966558a28",
       "max": 442.0,
       "min": 0.0,
       "orientation": "horizontal",
       "style": "IPY_MODEL_b70e2852aed14c9d9912c3e0f54989a1",
       "value": 442.0
      }
     },
     "b79afc3df64a4fd9b1da44a3bcecf955": {
      "model_module": "@jupyter-widgets/controls",
      "model_module_version": "1.5.0",
      "model_name": "ProgressStyleModel",
      "state": {
       "_model_module": "@jupyter-widgets/controls",
       "_model_module_version": "1.5.0",
       "_model_name": "ProgressStyleModel",
       "_view_count": null,
       "_view_module": "@jupyter-widgets/base",
       "_view_module_version": "1.2.0",
       "_view_name": "StyleView",
       "bar_color": null,
       "description_width": ""
      }
     },
     "b955cf6834344aa08b7909d502bde17c": {
      "model_module": "@jupyter-widgets/base",
      "model_module_version": "1.2.0",
      "model_name": "LayoutModel",
      "state": {
       "_model_module": "@jupyter-widgets/base",
       "_model_module_version": "1.2.0",
       "_model_name": "LayoutModel",
       "_view_count": null,
       "_view_module": "@jupyter-widgets/base",
       "_view_module_version": "1.2.0",
       "_view_name": "LayoutView",
       "align_content": null,
       "align_items": null,
       "align_self": null,
       "border": null,
       "bottom": null,
       "display": null,
       "flex": null,
       "flex_flow": null,
       "grid_area": null,
       "grid_auto_columns": null,
       "grid_auto_flow": null,
       "grid_auto_rows": null,
       "grid_column": null,
       "grid_gap": null,
       "grid_row": null,
       "grid_template_areas": null,
       "grid_template_columns": null,
       "grid_template_rows": null,
       "height": null,
       "justify_content": null,
       "justify_items": null,
       "left": null,
       "margin": null,
       "max_height": null,
       "max_width": null,
       "min_height": null,
       "min_width": null,
       "object_fit": null,
       "object_position": null,
       "order": null,
       "overflow": null,
       "overflow_x": null,
       "overflow_y": null,
       "padding": null,
       "right": null,
       "top": null,
       "visibility": null,
       "width": null
      }
     },
     "bb9a14a03e5d44f69eb2142e7159270e": {
      "model_module": "@jupyter-widgets/base",
      "model_module_version": "1.2.0",
      "model_name": "LayoutModel",
      "state": {
       "_model_module": "@jupyter-widgets/base",
       "_model_module_version": "1.2.0",
       "_model_name": "LayoutModel",
       "_view_count": null,
       "_view_module": "@jupyter-widgets/base",
       "_view_module_version": "1.2.0",
       "_view_name": "LayoutView",
       "align_content": null,
       "align_items": null,
       "align_self": null,
       "border": null,
       "bottom": null,
       "display": null,
       "flex": null,
       "flex_flow": null,
       "grid_area": null,
       "grid_auto_columns": null,
       "grid_auto_flow": null,
       "grid_auto_rows": null,
       "grid_column": null,
       "grid_gap": null,
       "grid_row": null,
       "grid_template_areas": null,
       "grid_template_columns": null,
       "grid_template_rows": null,
       "height": null,
       "justify_content": null,
       "justify_items": null,
       "left": null,
       "margin": null,
       "max_height": null,
       "max_width": null,
       "min_height": null,
       "min_width": null,
       "object_fit": null,
       "object_position": null,
       "order": null,
       "overflow": null,
       "overflow_x": null,
       "overflow_y": null,
       "padding": null,
       "right": null,
       "top": null,
       "visibility": null,
       "width": null
      }
     },
     "bca6d7eed6f8452ea6d9274f204e42f8": {
      "model_module": "@jupyter-widgets/controls",
      "model_module_version": "1.5.0",
      "model_name": "HTMLModel",
      "state": {
       "_dom_classes": [],
       "_model_module": "@jupyter-widgets/controls",
       "_model_module_version": "1.5.0",
       "_model_name": "HTMLModel",
       "_view_count": null,
       "_view_module": "@jupyter-widgets/controls",
       "_view_module_version": "1.5.0",
       "_view_name": "HTMLView",
       "description": "",
       "description_tooltip": null,
       "layout": "IPY_MODEL_bb9a14a03e5d44f69eb2142e7159270e",
       "placeholder": "​",
       "style": "IPY_MODEL_e427c434896d45b3bd46cf945a221f1e",
       "value": " 899k/899k [00:00&lt;00:00, 2.13MB/s]"
      }
     },
     "bf0bc9b29f4746b39dfe912e4e1768c6": {
      "model_module": "@jupyter-widgets/base",
      "model_module_version": "1.2.0",
      "model_name": "LayoutModel",
      "state": {
       "_model_module": "@jupyter-widgets/base",
       "_model_module_version": "1.2.0",
       "_model_name": "LayoutModel",
       "_view_count": null,
       "_view_module": "@jupyter-widgets/base",
       "_view_module_version": "1.2.0",
       "_view_name": "LayoutView",
       "align_content": null,
       "align_items": null,
       "align_self": null,
       "border": null,
       "bottom": null,
       "display": null,
       "flex": null,
       "flex_flow": null,
       "grid_area": null,
       "grid_auto_columns": null,
       "grid_auto_flow": null,
       "grid_auto_rows": null,
       "grid_column": null,
       "grid_gap": null,
       "grid_row": null,
       "grid_template_areas": null,
       "grid_template_columns": null,
       "grid_template_rows": null,
       "height": null,
       "justify_content": null,
       "justify_items": null,
       "left": null,
       "margin": null,
       "max_height": null,
       "max_width": null,
       "min_height": null,
       "min_width": null,
       "object_fit": null,
       "object_position": null,
       "order": null,
       "overflow": null,
       "overflow_x": null,
       "overflow_y": null,
       "padding": null,
       "right": null,
       "top": null,
       "visibility": null,
       "width": null
      }
     },
     "c1ac51af4a6147d5a9c786c1ae6a4c0e": {
      "model_module": "@jupyter-widgets/base",
      "model_module_version": "1.2.0",
      "model_name": "LayoutModel",
      "state": {
       "_model_module": "@jupyter-widgets/base",
       "_model_module_version": "1.2.0",
       "_model_name": "LayoutModel",
       "_view_count": null,
       "_view_module": "@jupyter-widgets/base",
       "_view_module_version": "1.2.0",
       "_view_name": "LayoutView",
       "align_content": null,
       "align_items": null,
       "align_self": null,
       "border": null,
       "bottom": null,
       "display": null,
       "flex": null,
       "flex_flow": null,
       "grid_area": null,
       "grid_auto_columns": null,
       "grid_auto_flow": null,
       "grid_auto_rows": null,
       "grid_column": null,
       "grid_gap": null,
       "grid_row": null,
       "grid_template_areas": null,
       "grid_template_columns": null,
       "grid_template_rows": null,
       "height": null,
       "justify_content": null,
       "justify_items": null,
       "left": null,
       "margin": null,
       "max_height": null,
       "max_width": null,
       "min_height": null,
       "min_width": null,
       "object_fit": null,
       "object_position": null,
       "order": null,
       "overflow": null,
       "overflow_x": null,
       "overflow_y": null,
       "padding": null,
       "right": null,
       "top": null,
       "visibility": null,
       "width": null
      }
     },
     "c696bad02ef840a2ac4a0bf464482aad": {
      "model_module": "@jupyter-widgets/controls",
      "model_module_version": "1.5.0",
      "model_name": "ProgressStyleModel",
      "state": {
       "_model_module": "@jupyter-widgets/controls",
       "_model_module_version": "1.5.0",
       "_model_name": "ProgressStyleModel",
       "_view_count": null,
       "_view_module": "@jupyter-widgets/base",
       "_view_module_version": "1.2.0",
       "_view_name": "StyleView",
       "bar_color": null,
       "description_width": ""
      }
     },
     "c73e0c0ca0e748cf9d6952e55758d60e": {
      "model_module": "@jupyter-widgets/base",
      "model_module_version": "1.2.0",
      "model_name": "LayoutModel",
      "state": {
       "_model_module": "@jupyter-widgets/base",
       "_model_module_version": "1.2.0",
       "_model_name": "LayoutModel",
       "_view_count": null,
       "_view_module": "@jupyter-widgets/base",
       "_view_module_version": "1.2.0",
       "_view_name": "LayoutView",
       "align_content": null,
       "align_items": null,
       "align_self": null,
       "border": null,
       "bottom": null,
       "display": null,
       "flex": null,
       "flex_flow": null,
       "grid_area": null,
       "grid_auto_columns": null,
       "grid_auto_flow": null,
       "grid_auto_rows": null,
       "grid_column": null,
       "grid_gap": null,
       "grid_row": null,
       "grid_template_areas": null,
       "grid_template_columns": null,
       "grid_template_rows": null,
       "height": null,
       "justify_content": null,
       "justify_items": null,
       "left": null,
       "margin": null,
       "max_height": null,
       "max_width": null,
       "min_height": null,
       "min_width": null,
       "object_fit": null,
       "object_position": null,
       "order": null,
       "overflow": null,
       "overflow_x": null,
       "overflow_y": null,
       "padding": null,
       "right": null,
       "top": null,
       "visibility": null,
       "width": null
      }
     },
     "c808bbf45f4544f7aa0952480d596380": {
      "model_module": "@jupyter-widgets/base",
      "model_module_version": "1.2.0",
      "model_name": "LayoutModel",
      "state": {
       "_model_module": "@jupyter-widgets/base",
       "_model_module_version": "1.2.0",
       "_model_name": "LayoutModel",
       "_view_count": null,
       "_view_module": "@jupyter-widgets/base",
       "_view_module_version": "1.2.0",
       "_view_name": "LayoutView",
       "align_content": null,
       "align_items": null,
       "align_self": null,
       "border": null,
       "bottom": null,
       "display": null,
       "flex": null,
       "flex_flow": null,
       "grid_area": null,
       "grid_auto_columns": null,
       "grid_auto_flow": null,
       "grid_auto_rows": null,
       "grid_column": null,
       "grid_gap": null,
       "grid_row": null,
       "grid_template_areas": null,
       "grid_template_columns": null,
       "grid_template_rows": null,
       "height": null,
       "justify_content": null,
       "justify_items": null,
       "left": null,
       "margin": null,
       "max_height": null,
       "max_width": null,
       "min_height": null,
       "min_width": null,
       "object_fit": null,
       "object_position": null,
       "order": null,
       "overflow": null,
       "overflow_x": null,
       "overflow_y": null,
       "padding": null,
       "right": null,
       "top": null,
       "visibility": null,
       "width": null
      }
     },
     "ca55dac17d234fa6a1a5a9faedcd7672": {
      "model_module": "@jupyter-widgets/controls",
      "model_module_version": "1.5.0",
      "model_name": "HTMLModel",
      "state": {
       "_dom_classes": [],
       "_model_module": "@jupyter-widgets/controls",
       "_model_module_version": "1.5.0",
       "_model_name": "HTMLModel",
       "_view_count": null,
       "_view_module": "@jupyter-widgets/controls",
       "_view_module_version": "1.5.0",
       "_view_name": "HTMLView",
       "description": "",
       "description_tooltip": null,
       "layout": "IPY_MODEL_c73e0c0ca0e748cf9d6952e55758d60e",
       "placeholder": "​",
       "style": "IPY_MODEL_464930ea298a4030b2d6b400e0b34fc9",
       "value": " 501M/501M [00:14&lt;00:00, 33.0MB/s]"
      }
     },
     "d67d9c72c78c4d40990add510e315c6a": {
      "model_module": "@jupyter-widgets/controls",
      "model_module_version": "1.5.0",
      "model_name": "DescriptionStyleModel",
      "state": {
       "_model_module": "@jupyter-widgets/controls",
       "_model_module_version": "1.5.0",
       "_model_name": "DescriptionStyleModel",
       "_view_count": null,
       "_view_module": "@jupyter-widgets/base",
       "_view_module_version": "1.2.0",
       "_view_name": "StyleView",
       "description_width": ""
      }
     },
     "e2cc8ab9a01046c9be0b38a2f04f9a31": {
      "model_module": "@jupyter-widgets/base",
      "model_module_version": "1.2.0",
      "model_name": "LayoutModel",
      "state": {
       "_model_module": "@jupyter-widgets/base",
       "_model_module_version": "1.2.0",
       "_model_name": "LayoutModel",
       "_view_count": null,
       "_view_module": "@jupyter-widgets/base",
       "_view_module_version": "1.2.0",
       "_view_name": "LayoutView",
       "align_content": null,
       "align_items": null,
       "align_self": null,
       "border": null,
       "bottom": null,
       "display": null,
       "flex": null,
       "flex_flow": null,
       "grid_area": null,
       "grid_auto_columns": null,
       "grid_auto_flow": null,
       "grid_auto_rows": null,
       "grid_column": null,
       "grid_gap": null,
       "grid_row": null,
       "grid_template_areas": null,
       "grid_template_columns": null,
       "grid_template_rows": null,
       "height": null,
       "justify_content": null,
       "justify_items": null,
       "left": null,
       "margin": null,
       "max_height": null,
       "max_width": null,
       "min_height": null,
       "min_width": null,
       "object_fit": null,
       "object_position": null,
       "order": null,
       "overflow": null,
       "overflow_x": null,
       "overflow_y": null,
       "padding": null,
       "right": null,
       "top": null,
       "visibility": null,
       "width": null
      }
     },
     "e427c434896d45b3bd46cf945a221f1e": {
      "model_module": "@jupyter-widgets/controls",
      "model_module_version": "1.5.0",
      "model_name": "DescriptionStyleModel",
      "state": {
       "_model_module": "@jupyter-widgets/controls",
       "_model_module_version": "1.5.0",
       "_model_name": "DescriptionStyleModel",
       "_view_count": null,
       "_view_module": "@jupyter-widgets/base",
       "_view_module_version": "1.2.0",
       "_view_name": "StyleView",
       "description_width": ""
      }
     },
     "e885adbfe182480dbe1429cf9a11f578": {
      "model_module": "@jupyter-widgets/base",
      "model_module_version": "1.2.0",
      "model_name": "LayoutModel",
      "state": {
       "_model_module": "@jupyter-widgets/base",
       "_model_module_version": "1.2.0",
       "_model_name": "LayoutModel",
       "_view_count": null,
       "_view_module": "@jupyter-widgets/base",
       "_view_module_version": "1.2.0",
       "_view_name": "LayoutView",
       "align_content": null,
       "align_items": null,
       "align_self": null,
       "border": null,
       "bottom": null,
       "display": null,
       "flex": null,
       "flex_flow": null,
       "grid_area": null,
       "grid_auto_columns": null,
       "grid_auto_flow": null,
       "grid_auto_rows": null,
       "grid_column": null,
       "grid_gap": null,
       "grid_row": null,
       "grid_template_areas": null,
       "grid_template_columns": null,
       "grid_template_rows": null,
       "height": null,
       "justify_content": null,
       "justify_items": null,
       "left": null,
       "margin": null,
       "max_height": null,
       "max_width": null,
       "min_height": null,
       "min_width": null,
       "object_fit": null,
       "object_position": null,
       "order": null,
       "overflow": null,
       "overflow_x": null,
       "overflow_y": null,
       "padding": null,
       "right": null,
       "top": null,
       "visibility": null,
       "width": null
      }
     },
     "e9a4e60e44294eb482a65bcb5fa40002": {
      "model_module": "@jupyter-widgets/base",
      "model_module_version": "1.2.0",
      "model_name": "LayoutModel",
      "state": {
       "_model_module": "@jupyter-widgets/base",
       "_model_module_version": "1.2.0",
       "_model_name": "LayoutModel",
       "_view_count": null,
       "_view_module": "@jupyter-widgets/base",
       "_view_module_version": "1.2.0",
       "_view_name": "LayoutView",
       "align_content": null,
       "align_items": null,
       "align_self": null,
       "border": null,
       "bottom": null,
       "display": null,
       "flex": null,
       "flex_flow": null,
       "grid_area": null,
       "grid_auto_columns": null,
       "grid_auto_flow": null,
       "grid_auto_rows": null,
       "grid_column": null,
       "grid_gap": null,
       "grid_row": null,
       "grid_template_areas": null,
       "grid_template_columns": null,
       "grid_template_rows": null,
       "height": null,
       "justify_content": null,
       "justify_items": null,
       "left": null,
       "margin": null,
       "max_height": null,
       "max_width": null,
       "min_height": null,
       "min_width": null,
       "object_fit": null,
       "object_position": null,
       "order": null,
       "overflow": null,
       "overflow_x": null,
       "overflow_y": null,
       "padding": null,
       "right": null,
       "top": null,
       "visibility": null,
       "width": null
      }
     },
     "f31116222db446f8ac28b7e67c13f789": {
      "model_module": "@jupyter-widgets/controls",
      "model_module_version": "1.5.0",
      "model_name": "HTMLModel",
      "state": {
       "_dom_classes": [],
       "_model_module": "@jupyter-widgets/controls",
       "_model_module_version": "1.5.0",
       "_model_name": "HTMLModel",
       "_view_count": null,
       "_view_module": "@jupyter-widgets/controls",
       "_view_module_version": "1.5.0",
       "_view_name": "HTMLView",
       "description": "",
       "description_tooltip": null,
       "layout": "IPY_MODEL_28c3e2a9c149468cb81cde76e943122d",
       "placeholder": "​",
       "style": "IPY_MODEL_7cdee39c06fb48618857f6f84a88f841",
       "value": " 268M/268M [00:08&lt;00:00, 39.5MB/s]"
      }
     },
     "f76f994c04b64048920995df6537134b": {
      "model_module": "@jupyter-widgets/controls",
      "model_module_version": "1.5.0",
      "model_name": "DescriptionStyleModel",
      "state": {
       "_model_module": "@jupyter-widgets/controls",
       "_model_module_version": "1.5.0",
       "_model_name": "DescriptionStyleModel",
       "_view_count": null,
       "_view_module": "@jupyter-widgets/base",
       "_view_module_version": "1.2.0",
       "_view_name": "StyleView",
       "description_width": ""
      }
     },
     "f7def59e639341618b0f822fd2afd537": {
      "model_module": "@jupyter-widgets/controls",
      "model_module_version": "1.5.0",
      "model_name": "ProgressStyleModel",
      "state": {
       "_model_module": "@jupyter-widgets/controls",
       "_model_module_version": "1.5.0",
       "_model_name": "ProgressStyleModel",
       "_view_count": null,
       "_view_module": "@jupyter-widgets/base",
       "_view_module_version": "1.2.0",
       "_view_name": "StyleView",
       "bar_color": null,
       "description_width": ""
      }
     },
     "f80b7a3ae0914869814919bb433eeaa2": {
      "model_module": "@jupyter-widgets/controls",
      "model_module_version": "1.5.0",
      "model_name": "FloatProgressModel",
      "state": {
       "_dom_classes": [],
       "_model_module": "@jupyter-widgets/controls",
       "_model_module_version": "1.5.0",
       "_model_name": "FloatProgressModel",
       "_view_count": null,
       "_view_module": "@jupyter-widgets/controls",
       "_view_module_version": "1.5.0",
       "_view_name": "ProgressView",
       "bar_style": "success",
       "description": "",
       "description_tooltip": null,
       "layout": "IPY_MODEL_e885adbfe182480dbe1429cf9a11f578",
       "max": 456318.0,
       "min": 0.0,
       "orientation": "horizontal",
       "style": "IPY_MODEL_b79afc3df64a4fd9b1da44a3bcecf955",
       "value": 456318.0
      }
     },
     "fa4c735340b04a9cbc9028e169043110": {
      "model_module": "@jupyter-widgets/base",
      "model_module_version": "1.2.0",
      "model_name": "LayoutModel",
      "state": {
       "_model_module": "@jupyter-widgets/base",
       "_model_module_version": "1.2.0",
       "_model_name": "LayoutModel",
       "_view_count": null,
       "_view_module": "@jupyter-widgets/base",
       "_view_module_version": "1.2.0",
       "_view_name": "LayoutView",
       "align_content": null,
       "align_items": null,
       "align_self": null,
       "border": null,
       "bottom": null,
       "display": null,
       "flex": null,
       "flex_flow": null,
       "grid_area": null,
       "grid_auto_columns": null,
       "grid_auto_flow": null,
       "grid_auto_rows": null,
       "grid_column": null,
       "grid_gap": null,
       "grid_row": null,
       "grid_template_areas": null,
       "grid_template_columns": null,
       "grid_template_rows": null,
       "height": null,
       "justify_content": null,
       "justify_items": null,
       "left": null,
       "margin": null,
       "max_height": null,
       "max_width": null,
       "min_height": null,
       "min_width": null,
       "object_fit": null,
       "object_position": null,
       "order": null,
       "overflow": null,
       "overflow_x": null,
       "overflow_y": null,
       "padding": null,
       "right": null,
       "top": null,
       "visibility": null,
       "width": null
      }
     },
     "fd7f025e382c43c6bfa417b6499c9d2c": {
      "model_module": "@jupyter-widgets/controls",
      "model_module_version": "1.5.0",
      "model_name": "FloatProgressModel",
      "state": {
       "_dom_classes": [],
       "_model_module": "@jupyter-widgets/controls",
       "_model_module_version": "1.5.0",
       "_model_name": "FloatProgressModel",
       "_view_count": null,
       "_view_module": "@jupyter-widgets/controls",
       "_view_module_version": "1.5.0",
       "_view_name": "ProgressView",
       "bar_style": "success",
       "description": "",
       "description_tooltip": null,
       "layout": "IPY_MODEL_c808bbf45f4544f7aa0952480d596380",
       "max": 898823.0,
       "min": 0.0,
       "orientation": "horizontal",
       "style": "IPY_MODEL_f7def59e639341618b0f822fd2afd537",
       "value": 898823.0
      }
     }
    },
    "version_major": 2,
    "version_minor": 0
   }
  }
 },
 "nbformat": 4,
 "nbformat_minor": 5
}
